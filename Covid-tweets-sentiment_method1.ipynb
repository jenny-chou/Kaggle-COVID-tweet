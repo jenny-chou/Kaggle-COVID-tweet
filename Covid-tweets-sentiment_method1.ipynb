{
 "cells": [
  {
   "cell_type": "markdown",
   "metadata": {},
   "source": [
    "# Kaggle: COVID Tweet Sentiment Classification\n",
    "\n",
    "This is a solution for Kaggle project: https://www.kaggle.com/datatattle/covid-19-nlp-text-classification\n",
    "\n",
    "Twitter is a place to express thoughts and ideas and spread news and information, thus makes it a great source to track trends worldwide. Through the collected tweets, we can evaluate people's attitude toward Covid and pandemic through the trending keywords and tags through time. The estimator can be useful for identifying inappropriate tweets and stop toxic propaganda or evaluating strategies to promote social distancing using trend words.\n",
    "\n",
    "The task is to classify tweet sentiments in given tweets.\n",
    "\n",
    "This notebook approach this NLP task using TensorFlow neural network.\n",
    "\n",
    "Data has following columns:\n",
    "\n",
    "|Column |Notes |\n",
    "|:------|:-------|\n",
    "UserName | User ID\n",
    "ScreenName| User display name\n",
    "Location | User location\n",
    "TweetAt | Date\n",
    "OriginalTweet | Tweet content\n",
    "Sentiment | Extremely negative, Negative, Neutral, Positive, Extremely positive"
   ]
  },
  {
   "cell_type": "markdown",
   "metadata": {},
   "source": [
    "## Load modules"
   ]
  },
  {
   "cell_type": "code",
   "execution_count": 1,
   "metadata": {},
   "outputs": [],
   "source": [
    "import pandas as pd\n",
    "import numpy as np\n",
    "import tensorflow as tf\n",
    "import sklearn\n",
    "from sklearn.preprocessing import LabelEncoder\n",
    "import datetime\n",
    "import matplotlib.pyplot as plt\n",
    "import seaborn as sns\n",
    "\n",
    "import nltk\n",
    "import json\n",
    "import requests\n",
    "import re\n",
    "import string\n",
    "\n",
    "pd.options.display.max_colwidth = 100"
   ]
  },
  {
   "cell_type": "markdown",
   "metadata": {},
   "source": [
    "## Load data"
   ]
  },
  {
   "cell_type": "code",
   "execution_count": 2,
   "metadata": {},
   "outputs": [],
   "source": [
    "train_df = pd.read_csv(\"Corona_NLP_train.csv\", header=0, encoding='latin1')\n",
    "test_df = pd.read_csv(\"Corona_NLP_test.csv\", header=0, encoding='latin1')"
   ]
  },
  {
   "cell_type": "code",
   "execution_count": 3,
   "metadata": {},
   "outputs": [
    {
     "data": {
      "text/html": [
       "<div>\n",
       "<style scoped>\n",
       "    .dataframe tbody tr th:only-of-type {\n",
       "        vertical-align: middle;\n",
       "    }\n",
       "\n",
       "    .dataframe tbody tr th {\n",
       "        vertical-align: top;\n",
       "    }\n",
       "\n",
       "    .dataframe thead th {\n",
       "        text-align: right;\n",
       "    }\n",
       "</style>\n",
       "<table border=\"1\" class=\"dataframe\">\n",
       "  <thead>\n",
       "    <tr style=\"text-align: right;\">\n",
       "      <th></th>\n",
       "      <th>UserName</th>\n",
       "      <th>ScreenName</th>\n",
       "      <th>Location</th>\n",
       "      <th>TweetAt</th>\n",
       "      <th>OriginalTweet</th>\n",
       "      <th>Sentiment</th>\n",
       "    </tr>\n",
       "  </thead>\n",
       "  <tbody>\n",
       "    <tr>\n",
       "      <th>0</th>\n",
       "      <td>3799</td>\n",
       "      <td>48751</td>\n",
       "      <td>London</td>\n",
       "      <td>16-03-2020</td>\n",
       "      <td>@MeNyrbie @Phil_Gahan @Chrisitv https://t.co/iFz9FAn2Pa and https://t.co/xX6ghGFzCC and https://...</td>\n",
       "      <td>Neutral</td>\n",
       "    </tr>\n",
       "    <tr>\n",
       "      <th>1</th>\n",
       "      <td>3800</td>\n",
       "      <td>48752</td>\n",
       "      <td>UK</td>\n",
       "      <td>16-03-2020</td>\n",
       "      <td>advice Talk to your neighbours family to exchange phone numbers create contact list with phone n...</td>\n",
       "      <td>Positive</td>\n",
       "    </tr>\n",
       "    <tr>\n",
       "      <th>2</th>\n",
       "      <td>3801</td>\n",
       "      <td>48753</td>\n",
       "      <td>Vagabonds</td>\n",
       "      <td>16-03-2020</td>\n",
       "      <td>Coronavirus Australia: Woolworths to give elderly, disabled dedicated shopping hours amid COVID-...</td>\n",
       "      <td>Positive</td>\n",
       "    </tr>\n",
       "    <tr>\n",
       "      <th>3</th>\n",
       "      <td>3802</td>\n",
       "      <td>48754</td>\n",
       "      <td>NaN</td>\n",
       "      <td>16-03-2020</td>\n",
       "      <td>My food stock is not the only one which is empty...\\r\\r\\n\\r\\r\\nPLEASE, don't panic, THERE WILL B...</td>\n",
       "      <td>Positive</td>\n",
       "    </tr>\n",
       "    <tr>\n",
       "      <th>4</th>\n",
       "      <td>3803</td>\n",
       "      <td>48755</td>\n",
       "      <td>NaN</td>\n",
       "      <td>16-03-2020</td>\n",
       "      <td>Me, ready to go at supermarket during the #COVID19 outbreak.\\r\\r\\n\\r\\r\\nNot because I'm paranoid...</td>\n",
       "      <td>Extremely Negative</td>\n",
       "    </tr>\n",
       "    <tr>\n",
       "      <th>5</th>\n",
       "      <td>3804</td>\n",
       "      <td>48756</td>\n",
       "      <td>ÃT: 36.319708,-82.363649</td>\n",
       "      <td>16-03-2020</td>\n",
       "      <td>As news of the regionÂs first confirmed COVID-19 case came out of Sullivan County last week, pe...</td>\n",
       "      <td>Positive</td>\n",
       "    </tr>\n",
       "    <tr>\n",
       "      <th>6</th>\n",
       "      <td>3805</td>\n",
       "      <td>48757</td>\n",
       "      <td>35.926541,-78.753267</td>\n",
       "      <td>16-03-2020</td>\n",
       "      <td>Cashier at grocery store was sharing his insights on #Covid_19 To prove his credibility he comme...</td>\n",
       "      <td>Positive</td>\n",
       "    </tr>\n",
       "    <tr>\n",
       "      <th>7</th>\n",
       "      <td>3806</td>\n",
       "      <td>48758</td>\n",
       "      <td>Austria</td>\n",
       "      <td>16-03-2020</td>\n",
       "      <td>Was at the supermarket today. Didn't buy toilet paper. #Rebel\\r\\r\\n\\r\\r\\n#toiletpapercrisis #cov...</td>\n",
       "      <td>Neutral</td>\n",
       "    </tr>\n",
       "    <tr>\n",
       "      <th>8</th>\n",
       "      <td>3807</td>\n",
       "      <td>48759</td>\n",
       "      <td>Atlanta, GA USA</td>\n",
       "      <td>16-03-2020</td>\n",
       "      <td>Due to COVID-19 our retail store and classroom in Atlanta will not be open for walk-in business ...</td>\n",
       "      <td>Positive</td>\n",
       "    </tr>\n",
       "    <tr>\n",
       "      <th>9</th>\n",
       "      <td>3808</td>\n",
       "      <td>48760</td>\n",
       "      <td>BHAVNAGAR,GUJRAT</td>\n",
       "      <td>16-03-2020</td>\n",
       "      <td>For corona prevention,we should stop to buy things with the cash and should use online payment m...</td>\n",
       "      <td>Negative</td>\n",
       "    </tr>\n",
       "  </tbody>\n",
       "</table>\n",
       "</div>"
      ],
      "text/plain": [
       "   UserName  ScreenName                   Location     TweetAt  \\\n",
       "0      3799       48751                     London  16-03-2020   \n",
       "1      3800       48752                         UK  16-03-2020   \n",
       "2      3801       48753                  Vagabonds  16-03-2020   \n",
       "3      3802       48754                        NaN  16-03-2020   \n",
       "4      3803       48755                        NaN  16-03-2020   \n",
       "5      3804       48756  ÃT: 36.319708,-82.363649  16-03-2020   \n",
       "6      3805       48757       35.926541,-78.753267  16-03-2020   \n",
       "7      3806       48758                    Austria  16-03-2020   \n",
       "8      3807       48759            Atlanta, GA USA  16-03-2020   \n",
       "9      3808       48760           BHAVNAGAR,GUJRAT  16-03-2020   \n",
       "\n",
       "                                                                                         OriginalTweet  \\\n",
       "0  @MeNyrbie @Phil_Gahan @Chrisitv https://t.co/iFz9FAn2Pa and https://t.co/xX6ghGFzCC and https://...   \n",
       "1  advice Talk to your neighbours family to exchange phone numbers create contact list with phone n...   \n",
       "2  Coronavirus Australia: Woolworths to give elderly, disabled dedicated shopping hours amid COVID-...   \n",
       "3  My food stock is not the only one which is empty...\\r\\r\\n\\r\\r\\nPLEASE, don't panic, THERE WILL B...   \n",
       "4  Me, ready to go at supermarket during the #COVID19 outbreak.\\r\\r\\n\\r\\r\\nNot because I'm paranoid...   \n",
       "5  As news of the regionÂs first confirmed COVID-19 case came out of Sullivan County last week, pe...   \n",
       "6  Cashier at grocery store was sharing his insights on #Covid_19 To prove his credibility he comme...   \n",
       "7  Was at the supermarket today. Didn't buy toilet paper. #Rebel\\r\\r\\n\\r\\r\\n#toiletpapercrisis #cov...   \n",
       "8  Due to COVID-19 our retail store and classroom in Atlanta will not be open for walk-in business ...   \n",
       "9  For corona prevention,we should stop to buy things with the cash and should use online payment m...   \n",
       "\n",
       "            Sentiment  \n",
       "0             Neutral  \n",
       "1            Positive  \n",
       "2            Positive  \n",
       "3            Positive  \n",
       "4  Extremely Negative  \n",
       "5            Positive  \n",
       "6            Positive  \n",
       "7             Neutral  \n",
       "8            Positive  \n",
       "9            Negative  "
      ]
     },
     "execution_count": 3,
     "metadata": {},
     "output_type": "execute_result"
    }
   ],
   "source": [
    "train_df.head(10)"
   ]
  },
  {
   "cell_type": "code",
   "execution_count": 4,
   "metadata": {},
   "outputs": [
    {
     "data": {
      "text/html": [
       "<div>\n",
       "<style scoped>\n",
       "    .dataframe tbody tr th:only-of-type {\n",
       "        vertical-align: middle;\n",
       "    }\n",
       "\n",
       "    .dataframe tbody tr th {\n",
       "        vertical-align: top;\n",
       "    }\n",
       "\n",
       "    .dataframe thead th {\n",
       "        text-align: right;\n",
       "    }\n",
       "</style>\n",
       "<table border=\"1\" class=\"dataframe\">\n",
       "  <thead>\n",
       "    <tr style=\"text-align: right;\">\n",
       "      <th></th>\n",
       "      <th>UserName</th>\n",
       "      <th>ScreenName</th>\n",
       "      <th>Location</th>\n",
       "      <th>TweetAt</th>\n",
       "      <th>OriginalTweet</th>\n",
       "      <th>Sentiment</th>\n",
       "    </tr>\n",
       "  </thead>\n",
       "  <tbody>\n",
       "    <tr>\n",
       "      <th>0</th>\n",
       "      <td>1</td>\n",
       "      <td>44953</td>\n",
       "      <td>NYC</td>\n",
       "      <td>02-03-2020</td>\n",
       "      <td>TRENDING: New Yorkers encounter empty supermarket shelves (pictured, Wegmans in Brooklyn), sold-...</td>\n",
       "      <td>Extremely Negative</td>\n",
       "    </tr>\n",
       "    <tr>\n",
       "      <th>1</th>\n",
       "      <td>2</td>\n",
       "      <td>44954</td>\n",
       "      <td>Seattle, WA</td>\n",
       "      <td>02-03-2020</td>\n",
       "      <td>When I couldn't find hand sanitizer at Fred Meyer, I turned to #Amazon. But $114.97 for a 2 pack...</td>\n",
       "      <td>Positive</td>\n",
       "    </tr>\n",
       "    <tr>\n",
       "      <th>2</th>\n",
       "      <td>3</td>\n",
       "      <td>44955</td>\n",
       "      <td>NaN</td>\n",
       "      <td>02-03-2020</td>\n",
       "      <td>Find out how you can protect yourself and loved ones from #coronavirus. ?</td>\n",
       "      <td>Extremely Positive</td>\n",
       "    </tr>\n",
       "    <tr>\n",
       "      <th>3</th>\n",
       "      <td>4</td>\n",
       "      <td>44956</td>\n",
       "      <td>Chicagoland</td>\n",
       "      <td>02-03-2020</td>\n",
       "      <td>#Panic buying hits #NewYork City as anxious shoppers stock up on food&amp;amp;medical supplies after...</td>\n",
       "      <td>Negative</td>\n",
       "    </tr>\n",
       "    <tr>\n",
       "      <th>4</th>\n",
       "      <td>5</td>\n",
       "      <td>44957</td>\n",
       "      <td>Melbourne, Victoria</td>\n",
       "      <td>03-03-2020</td>\n",
       "      <td>#toiletpaper #dunnypaper #coronavirus #coronavirusaustralia #CoronaVirusUpdate #Covid_19 #9News ...</td>\n",
       "      <td>Neutral</td>\n",
       "    </tr>\n",
       "    <tr>\n",
       "      <th>5</th>\n",
       "      <td>6</td>\n",
       "      <td>44958</td>\n",
       "      <td>Los Angeles</td>\n",
       "      <td>03-03-2020</td>\n",
       "      <td>Do you remember the last time you paid $2.99 a gallon for regular gas in Los Angeles?Prices at t...</td>\n",
       "      <td>Neutral</td>\n",
       "    </tr>\n",
       "    <tr>\n",
       "      <th>6</th>\n",
       "      <td>7</td>\n",
       "      <td>44959</td>\n",
       "      <td>NaN</td>\n",
       "      <td>03-03-2020</td>\n",
       "      <td>Voting in the age of #coronavirus = hand sanitizer ? #SuperTuesday https://t.co/z0BeL4O6Dk</td>\n",
       "      <td>Positive</td>\n",
       "    </tr>\n",
       "    <tr>\n",
       "      <th>7</th>\n",
       "      <td>8</td>\n",
       "      <td>44960</td>\n",
       "      <td>Geneva, Switzerland</td>\n",
       "      <td>03-03-2020</td>\n",
       "      <td>@DrTedros \"We canÂt stop #COVID19 without protecting #healthworkers.\\r\\r\\nPrices of surgical ma...</td>\n",
       "      <td>Neutral</td>\n",
       "    </tr>\n",
       "    <tr>\n",
       "      <th>8</th>\n",
       "      <td>9</td>\n",
       "      <td>44961</td>\n",
       "      <td>NaN</td>\n",
       "      <td>04-03-2020</td>\n",
       "      <td>HI TWITTER! I am a pharmacist. I sell hand sanitizer for a living! Or I do when any exists. Like...</td>\n",
       "      <td>Extremely Negative</td>\n",
       "    </tr>\n",
       "    <tr>\n",
       "      <th>9</th>\n",
       "      <td>10</td>\n",
       "      <td>44962</td>\n",
       "      <td>Dublin, Ireland</td>\n",
       "      <td>04-03-2020</td>\n",
       "      <td>Anyone been in a supermarket over the last few days? Went to do my NORMAL shop last night &amp;amp; ...</td>\n",
       "      <td>Extremely Positive</td>\n",
       "    </tr>\n",
       "  </tbody>\n",
       "</table>\n",
       "</div>"
      ],
      "text/plain": [
       "   UserName  ScreenName             Location     TweetAt  \\\n",
       "0         1       44953                  NYC  02-03-2020   \n",
       "1         2       44954          Seattle, WA  02-03-2020   \n",
       "2         3       44955                  NaN  02-03-2020   \n",
       "3         4       44956          Chicagoland  02-03-2020   \n",
       "4         5       44957  Melbourne, Victoria  03-03-2020   \n",
       "5         6       44958          Los Angeles  03-03-2020   \n",
       "6         7       44959                  NaN  03-03-2020   \n",
       "7         8       44960  Geneva, Switzerland  03-03-2020   \n",
       "8         9       44961                  NaN  04-03-2020   \n",
       "9        10       44962      Dublin, Ireland  04-03-2020   \n",
       "\n",
       "                                                                                         OriginalTweet  \\\n",
       "0  TRENDING: New Yorkers encounter empty supermarket shelves (pictured, Wegmans in Brooklyn), sold-...   \n",
       "1  When I couldn't find hand sanitizer at Fred Meyer, I turned to #Amazon. But $114.97 for a 2 pack...   \n",
       "2                            Find out how you can protect yourself and loved ones from #coronavirus. ?   \n",
       "3  #Panic buying hits #NewYork City as anxious shoppers stock up on food&amp;medical supplies after...   \n",
       "4  #toiletpaper #dunnypaper #coronavirus #coronavirusaustralia #CoronaVirusUpdate #Covid_19 #9News ...   \n",
       "5  Do you remember the last time you paid $2.99 a gallon for regular gas in Los Angeles?Prices at t...   \n",
       "6           Voting in the age of #coronavirus = hand sanitizer ? #SuperTuesday https://t.co/z0BeL4O6Dk   \n",
       "7  @DrTedros \"We canÂt stop #COVID19 without protecting #healthworkers.\\r\\r\\nPrices of surgical ma...   \n",
       "8  HI TWITTER! I am a pharmacist. I sell hand sanitizer for a living! Or I do when any exists. Like...   \n",
       "9  Anyone been in a supermarket over the last few days? Went to do my NORMAL shop last night &amp; ...   \n",
       "\n",
       "            Sentiment  \n",
       "0  Extremely Negative  \n",
       "1            Positive  \n",
       "2  Extremely Positive  \n",
       "3            Negative  \n",
       "4             Neutral  \n",
       "5             Neutral  \n",
       "6            Positive  \n",
       "7             Neutral  \n",
       "8  Extremely Negative  \n",
       "9  Extremely Positive  "
      ]
     },
     "execution_count": 4,
     "metadata": {},
     "output_type": "execute_result"
    }
   ],
   "source": [
    "test_df.head(10)"
   ]
  },
  {
   "cell_type": "code",
   "execution_count": 5,
   "metadata": {},
   "outputs": [
    {
     "name": "stdout",
     "output_type": "stream",
     "text": [
      "<class 'pandas.core.frame.DataFrame'>\n",
      "RangeIndex: 41157 entries, 0 to 41156\n",
      "Data columns (total 6 columns):\n",
      " #   Column         Non-Null Count  Dtype \n",
      "---  ------         --------------  ----- \n",
      " 0   UserName       41157 non-null  int64 \n",
      " 1   ScreenName     41157 non-null  int64 \n",
      " 2   Location       32567 non-null  object\n",
      " 3   TweetAt        41157 non-null  object\n",
      " 4   OriginalTweet  41157 non-null  object\n",
      " 5   Sentiment      41157 non-null  object\n",
      "dtypes: int64(2), object(4)\n",
      "memory usage: 1.9+ MB\n"
     ]
    }
   ],
   "source": [
    "train_df.info()"
   ]
  },
  {
   "cell_type": "code",
   "execution_count": 6,
   "metadata": {},
   "outputs": [
    {
     "name": "stdout",
     "output_type": "stream",
     "text": [
      "<class 'pandas.core.frame.DataFrame'>\n",
      "RangeIndex: 3798 entries, 0 to 3797\n",
      "Data columns (total 6 columns):\n",
      " #   Column         Non-Null Count  Dtype \n",
      "---  ------         --------------  ----- \n",
      " 0   UserName       3798 non-null   int64 \n",
      " 1   ScreenName     3798 non-null   int64 \n",
      " 2   Location       2964 non-null   object\n",
      " 3   TweetAt        3798 non-null   object\n",
      " 4   OriginalTweet  3798 non-null   object\n",
      " 5   Sentiment      3798 non-null   object\n",
      "dtypes: int64(2), object(4)\n",
      "memory usage: 178.2+ KB\n"
     ]
    }
   ],
   "source": [
    "test_df.info()"
   ]
  },
  {
   "cell_type": "markdown",
   "metadata": {},
   "source": [
    "## Clean data\n",
    "### Handle useless column\n",
    "Both UserName and ScreenName identify a user. We don't need both."
   ]
  },
  {
   "cell_type": "code",
   "execution_count": 7,
   "metadata": {},
   "outputs": [
    {
     "name": "stdout",
     "output_type": "stream",
     "text": [
      "True\n",
      "True\n"
     ]
    }
   ],
   "source": [
    "print(len(set(train_df.ScreenName)) == len(set(train_df.UserName)))\n",
    "print(len(set(test_df.ScreenName)) == len(set(test_df.UserName)))"
   ]
  },
  {
   "cell_type": "code",
   "execution_count": 8,
   "metadata": {},
   "outputs": [],
   "source": [
    "train_df.drop(columns=\"ScreenName\", inplace=True)\n",
    "test_df.drop(columns=\"ScreenName\", inplace=True)\n",
    "train_df.set_index(\"UserName\", inplace=True)\n",
    "test_df.set_index(\"UserName\", inplace=True)"
   ]
  },
  {
   "cell_type": "code",
   "execution_count": 9,
   "metadata": {},
   "outputs": [
    {
     "name": "stdout",
     "output_type": "stream",
     "text": [
      "<class 'pandas.core.frame.DataFrame'>\n",
      "Int64Index: 41157 entries, 3799 to 44955\n",
      "Data columns (total 4 columns):\n",
      " #   Column         Non-Null Count  Dtype \n",
      "---  ------         --------------  ----- \n",
      " 0   Location       32567 non-null  object\n",
      " 1   TweetAt        41157 non-null  object\n",
      " 2   OriginalTweet  41157 non-null  object\n",
      " 3   Sentiment      41157 non-null  object\n",
      "dtypes: object(4)\n",
      "memory usage: 1.6+ MB\n"
     ]
    }
   ],
   "source": [
    "train_df.info()"
   ]
  },
  {
   "cell_type": "markdown",
   "metadata": {},
   "source": [
    "## EDA\n",
    "## Sentiment"
   ]
  },
  {
   "cell_type": "code",
   "execution_count": 10,
   "metadata": {},
   "outputs": [
    {
     "data": {
      "text/plain": [
       "{'Extremely Negative', 'Extremely Positive', 'Negative', 'Neutral', 'Positive'}"
      ]
     },
     "execution_count": 10,
     "metadata": {},
     "output_type": "execute_result"
    }
   ],
   "source": [
    "set(train_df.Sentiment)"
   ]
  },
  {
   "cell_type": "code",
   "execution_count": 11,
   "metadata": {},
   "outputs": [
    {
     "data": {
      "text/plain": [
       "<AxesSubplot:>"
      ]
     },
     "execution_count": 11,
     "metadata": {},
     "output_type": "execute_result"
    },
    {
     "data": {
      "image/png": "[encoded data removed]",
      "text/plain": [
       "<Figure size 432x288 with 1 Axes>"
      ]
     },
     "metadata": {
      "needs_background": "light"
     },
     "output_type": "display_data"
    }
   ],
   "source": [
    "train_df.Sentiment.hist()"
   ]
  },
  {
   "cell_type": "markdown",
   "metadata": {},
   "source": [
    "If extreme positive and positive corpus have similar keywords and extreme negative and negative corpus have similar keywords, that makes it imbalanced for Neutral tweet since the neutral keywords are different from others."
   ]
  },
  {
   "cell_type": "markdown",
   "metadata": {},
   "source": [
    "## Encode sentiment\n",
    "0 being extremely negative tweets and 4 being extremely positive tweets."
   ]
  },
  {
   "cell_type": "code",
   "execution_count": 12,
   "metadata": {},
   "outputs": [],
   "source": [
    "sentiment_encoder = LabelEncoder().fit(train_df.Sentiment)\n",
    "train_df[\"Sentiment_encode\"] = sentiment_encoder.transform(train_df.Sentiment)\n",
    "test_df[\"Sentiment_encode\"] = sentiment_encoder.transform(test_df.Sentiment)\n",
    "target_len = len(set(train_df.Sentiment))"
   ]
  },
  {
   "cell_type": "markdown",
   "metadata": {},
   "source": [
    "## Encode sentiment differently\n",
    "After one round of training, one of the observations is that extreme tone is easily confused with regular tone. Combine extreme negative with negative and extreme positive with positive to eliminate \"noise\"."
   ]
  },
  {
   "cell_type": "code",
   "execution_count": 13,
   "metadata": {},
   "outputs": [],
   "source": [
    "# encoder = {'Extremely Negative': 0,\n",
    "#            'Negative': 0,\n",
    "#            'Neutral': 1, \n",
    "#            'Positive': 2,\n",
    "#            'Extremely Positive': 2}\n",
    "           \n",
    "# train_df.Sentiment = train_df.Sentiment.map(encoder)\n",
    "# test_df.Sentiment = test_df.Sentiment.map(encoder)\n",
    "\n",
    "# target_len = len(set(encoder.values()))"
   ]
  },
  {
   "cell_type": "markdown",
   "metadata": {},
   "source": [
    "## TweetAt\n",
    "Training set is a collection of a month worth of tweets during 16MAR2020 to 14APR202.\n",
    "\n",
    "Test set is a collection of tweets during 02MAR2020 to 16MAR202. No overlaps with training data."
   ]
  },
  {
   "cell_type": "code",
   "execution_count": 14,
   "metadata": {
    "scrolled": false
   },
   "outputs": [
    {
     "data": {
      "text/plain": [
       "{'01-04-2020',\n",
       " '02-04-2020',\n",
       " '03-04-2020',\n",
       " '04-04-2020',\n",
       " '05-04-2020',\n",
       " '06-04-2020',\n",
       " '07-04-2020',\n",
       " '08-04-2020',\n",
       " '09-04-2020',\n",
       " '10-04-2020',\n",
       " '11-04-2020',\n",
       " '12-04-2020',\n",
       " '13-04-2020',\n",
       " '14-04-2020',\n",
       " '16-03-2020',\n",
       " '17-03-2020',\n",
       " '18-03-2020',\n",
       " '19-03-2020',\n",
       " '20-03-2020',\n",
       " '21-03-2020',\n",
       " '22-03-2020',\n",
       " '23-03-2020',\n",
       " '24-03-2020',\n",
       " '25-03-2020',\n",
       " '26-03-2020',\n",
       " '27-03-2020',\n",
       " '28-03-2020',\n",
       " '29-03-2020',\n",
       " '30-03-2020',\n",
       " '31-03-2020'}"
      ]
     },
     "execution_count": 14,
     "metadata": {},
     "output_type": "execute_result"
    }
   ],
   "source": [
    "set(train_df.TweetAt)"
   ]
  },
  {
   "cell_type": "code",
   "execution_count": 15,
   "metadata": {
    "scrolled": true
   },
   "outputs": [
    {
     "data": {
      "text/plain": [
       "{'02-03-2020',\n",
       " '03-03-2020',\n",
       " '04-03-2020',\n",
       " '05-03-2020',\n",
       " '06-03-2020',\n",
       " '07-03-2020',\n",
       " '08-03-2020',\n",
       " '09-03-2020',\n",
       " '10-03-2020',\n",
       " '11-03-2020',\n",
       " '12-03-2020',\n",
       " '13-03-2020',\n",
       " '14-03-2020',\n",
       " '15-03-2020',\n",
       " '16-03-2020'}"
      ]
     },
     "execution_count": 15,
     "metadata": {},
     "output_type": "execute_result"
    }
   ],
   "source": [
    "set(test_df.TweetAt)"
   ]
  },
  {
   "cell_type": "code",
   "execution_count": 16,
   "metadata": {},
   "outputs": [
    {
     "data": {
      "text/plain": [
       "0"
      ]
     },
     "execution_count": 16,
     "metadata": {},
     "output_type": "execute_result"
    }
   ],
   "source": [
    "# check if any tweet in training set on 16MAR2020 duplicated with tweets in test set\n",
    "pd.concat([train_df[train_df.TweetAt==\"16-03-2020\"], test_df[test_df.TweetAt==\"16-03-2020\"]]).duplicated().sum()"
   ]
  },
  {
   "cell_type": "markdown",
   "metadata": {},
   "source": [
    "## Encode TweetAt\n",
    "According to Google search, the first COVID case was reported on December 31, 2019. Mark 01JAN2020 as first day and count the number of days till tweet date. It also converts date to numerical data."
   ]
  },
  {
   "cell_type": "code",
   "execution_count": 17,
   "metadata": {},
   "outputs": [],
   "source": [
    "delta_days = []\n",
    "first_date = datetime.datetime.strptime(\"01-01-2020\", '%d-%m-%Y')\n",
    "first_date = datetime.date(first_date.year, first_date.month, first_date.day)\n",
    "\n",
    "for date in train_df.TweetAt.values:\n",
    "    tweet_date = datetime.datetime.strptime(date, '%d-%m-%Y')\n",
    "    tweet_date = datetime.date(tweet_date.year, tweet_date.month, tweet_date.day)\n",
    "    delta_day = tweet_date - first_date\n",
    "    delta_days.append(delta_day.days)\n",
    "\n",
    "train_df['TweetAtInDays'] = delta_days"
   ]
  },
  {
   "cell_type": "code",
   "execution_count": 18,
   "metadata": {},
   "outputs": [
    {
     "data": {
      "text/html": [
       "<div>\n",
       "<style scoped>\n",
       "    .dataframe tbody tr th:only-of-type {\n",
       "        vertical-align: middle;\n",
       "    }\n",
       "\n",
       "    .dataframe tbody tr th {\n",
       "        vertical-align: top;\n",
       "    }\n",
       "\n",
       "    .dataframe thead th {\n",
       "        text-align: right;\n",
       "    }\n",
       "</style>\n",
       "<table border=\"1\" class=\"dataframe\">\n",
       "  <thead>\n",
       "    <tr style=\"text-align: right;\">\n",
       "      <th></th>\n",
       "      <th>Location</th>\n",
       "      <th>TweetAt</th>\n",
       "      <th>OriginalTweet</th>\n",
       "      <th>Sentiment</th>\n",
       "      <th>Sentiment_encode</th>\n",
       "      <th>TweetAtInDays</th>\n",
       "    </tr>\n",
       "    <tr>\n",
       "      <th>UserName</th>\n",
       "      <th></th>\n",
       "      <th></th>\n",
       "      <th></th>\n",
       "      <th></th>\n",
       "      <th></th>\n",
       "      <th></th>\n",
       "    </tr>\n",
       "  </thead>\n",
       "  <tbody>\n",
       "    <tr>\n",
       "      <th>3799</th>\n",
       "      <td>London</td>\n",
       "      <td>16-03-2020</td>\n",
       "      <td>@MeNyrbie @Phil_Gahan @Chrisitv https://t.co/iFz9FAn2Pa and https://t.co/xX6ghGFzCC and https://...</td>\n",
       "      <td>Neutral</td>\n",
       "      <td>3</td>\n",
       "      <td>75</td>\n",
       "    </tr>\n",
       "    <tr>\n",
       "      <th>3800</th>\n",
       "      <td>UK</td>\n",
       "      <td>16-03-2020</td>\n",
       "      <td>advice Talk to your neighbours family to exchange phone numbers create contact list with phone n...</td>\n",
       "      <td>Positive</td>\n",
       "      <td>4</td>\n",
       "      <td>75</td>\n",
       "    </tr>\n",
       "    <tr>\n",
       "      <th>3801</th>\n",
       "      <td>Vagabonds</td>\n",
       "      <td>16-03-2020</td>\n",
       "      <td>Coronavirus Australia: Woolworths to give elderly, disabled dedicated shopping hours amid COVID-...</td>\n",
       "      <td>Positive</td>\n",
       "      <td>4</td>\n",
       "      <td>75</td>\n",
       "    </tr>\n",
       "    <tr>\n",
       "      <th>3802</th>\n",
       "      <td>NaN</td>\n",
       "      <td>16-03-2020</td>\n",
       "      <td>My food stock is not the only one which is empty...\\r\\r\\n\\r\\r\\nPLEASE, don't panic, THERE WILL B...</td>\n",
       "      <td>Positive</td>\n",
       "      <td>4</td>\n",
       "      <td>75</td>\n",
       "    </tr>\n",
       "    <tr>\n",
       "      <th>3803</th>\n",
       "      <td>NaN</td>\n",
       "      <td>16-03-2020</td>\n",
       "      <td>Me, ready to go at supermarket during the #COVID19 outbreak.\\r\\r\\n\\r\\r\\nNot because I'm paranoid...</td>\n",
       "      <td>Extremely Negative</td>\n",
       "      <td>0</td>\n",
       "      <td>75</td>\n",
       "    </tr>\n",
       "  </tbody>\n",
       "</table>\n",
       "</div>"
      ],
      "text/plain": [
       "           Location     TweetAt  \\\n",
       "UserName                          \n",
       "3799         London  16-03-2020   \n",
       "3800             UK  16-03-2020   \n",
       "3801      Vagabonds  16-03-2020   \n",
       "3802            NaN  16-03-2020   \n",
       "3803            NaN  16-03-2020   \n",
       "\n",
       "                                                                                                OriginalTweet  \\\n",
       "UserName                                                                                                        \n",
       "3799      @MeNyrbie @Phil_Gahan @Chrisitv https://t.co/iFz9FAn2Pa and https://t.co/xX6ghGFzCC and https://...   \n",
       "3800      advice Talk to your neighbours family to exchange phone numbers create contact list with phone n...   \n",
       "3801      Coronavirus Australia: Woolworths to give elderly, disabled dedicated shopping hours amid COVID-...   \n",
       "3802      My food stock is not the only one which is empty...\\r\\r\\n\\r\\r\\nPLEASE, don't panic, THERE WILL B...   \n",
       "3803      Me, ready to go at supermarket during the #COVID19 outbreak.\\r\\r\\n\\r\\r\\nNot because I'm paranoid...   \n",
       "\n",
       "                   Sentiment  Sentiment_encode  TweetAtInDays  \n",
       "UserName                                                       \n",
       "3799                 Neutral                 3             75  \n",
       "3800                Positive                 4             75  \n",
       "3801                Positive                 4             75  \n",
       "3802                Positive                 4             75  \n",
       "3803      Extremely Negative                 0             75  "
      ]
     },
     "execution_count": 18,
     "metadata": {},
     "output_type": "execute_result"
    }
   ],
   "source": [
    "train_df.head()"
   ]
  },
  {
   "cell_type": "code",
   "execution_count": 19,
   "metadata": {
    "scrolled": true
   },
   "outputs": [
    {
     "data": {
      "text/html": [
       "<div>\n",
       "<style scoped>\n",
       "    .dataframe tbody tr th:only-of-type {\n",
       "        vertical-align: middle;\n",
       "    }\n",
       "\n",
       "    .dataframe tbody tr th {\n",
       "        vertical-align: top;\n",
       "    }\n",
       "\n",
       "    .dataframe thead th {\n",
       "        text-align: right;\n",
       "    }\n",
       "</style>\n",
       "<table border=\"1\" class=\"dataframe\">\n",
       "  <thead>\n",
       "    <tr style=\"text-align: right;\">\n",
       "      <th></th>\n",
       "      <th></th>\n",
       "      <th>count</th>\n",
       "      <th>mean</th>\n",
       "      <th>std</th>\n",
       "      <th>min</th>\n",
       "      <th>25%</th>\n",
       "      <th>50%</th>\n",
       "      <th>75%</th>\n",
       "      <th>max</th>\n",
       "    </tr>\n",
       "    <tr>\n",
       "      <th>TweetAtInDays</th>\n",
       "      <th>TweetAt</th>\n",
       "      <th></th>\n",
       "      <th></th>\n",
       "      <th></th>\n",
       "      <th></th>\n",
       "      <th></th>\n",
       "      <th></th>\n",
       "      <th></th>\n",
       "      <th></th>\n",
       "    </tr>\n",
       "  </thead>\n",
       "  <tbody>\n",
       "    <tr>\n",
       "      <th>75</th>\n",
       "      <th>16-03-2020</th>\n",
       "      <td>656.0</td>\n",
       "      <td>2.282012</td>\n",
       "      <td>1.403827</td>\n",
       "      <td>0.0</td>\n",
       "      <td>1.0</td>\n",
       "      <td>2.0</td>\n",
       "      <td>4.0</td>\n",
       "      <td>4.0</td>\n",
       "    </tr>\n",
       "    <tr>\n",
       "      <th>76</th>\n",
       "      <th>17-03-2020</th>\n",
       "      <td>1977.0</td>\n",
       "      <td>2.244310</td>\n",
       "      <td>1.382547</td>\n",
       "      <td>0.0</td>\n",
       "      <td>1.0</td>\n",
       "      <td>2.0</td>\n",
       "      <td>4.0</td>\n",
       "      <td>4.0</td>\n",
       "    </tr>\n",
       "    <tr>\n",
       "      <th>77</th>\n",
       "      <th>18-03-2020</th>\n",
       "      <td>2742.0</td>\n",
       "      <td>2.253100</td>\n",
       "      <td>1.405460</td>\n",
       "      <td>0.0</td>\n",
       "      <td>1.0</td>\n",
       "      <td>2.0</td>\n",
       "      <td>4.0</td>\n",
       "      <td>4.0</td>\n",
       "    </tr>\n",
       "    <tr>\n",
       "      <th>78</th>\n",
       "      <th>19-03-2020</th>\n",
       "      <td>3215.0</td>\n",
       "      <td>2.260342</td>\n",
       "      <td>1.393725</td>\n",
       "      <td>0.0</td>\n",
       "      <td>1.0</td>\n",
       "      <td>2.0</td>\n",
       "      <td>4.0</td>\n",
       "      <td>4.0</td>\n",
       "    </tr>\n",
       "    <tr>\n",
       "      <th>79</th>\n",
       "      <th>20-03-2020</th>\n",
       "      <td>3448.0</td>\n",
       "      <td>2.217807</td>\n",
       "      <td>1.417638</td>\n",
       "      <td>0.0</td>\n",
       "      <td>1.0</td>\n",
       "      <td>2.0</td>\n",
       "      <td>4.0</td>\n",
       "      <td>4.0</td>\n",
       "    </tr>\n",
       "    <tr>\n",
       "      <th>80</th>\n",
       "      <th>21-03-2020</th>\n",
       "      <td>2653.0</td>\n",
       "      <td>2.266114</td>\n",
       "      <td>1.376122</td>\n",
       "      <td>0.0</td>\n",
       "      <td>1.0</td>\n",
       "      <td>2.0</td>\n",
       "      <td>4.0</td>\n",
       "      <td>4.0</td>\n",
       "    </tr>\n",
       "    <tr>\n",
       "      <th>81</th>\n",
       "      <th>22-03-2020</th>\n",
       "      <td>2114.0</td>\n",
       "      <td>2.292337</td>\n",
       "      <td>1.385363</td>\n",
       "      <td>0.0</td>\n",
       "      <td>1.0</td>\n",
       "      <td>2.0</td>\n",
       "      <td>4.0</td>\n",
       "      <td>4.0</td>\n",
       "    </tr>\n",
       "    <tr>\n",
       "      <th>82</th>\n",
       "      <th>23-03-2020</th>\n",
       "      <td>2062.0</td>\n",
       "      <td>2.389913</td>\n",
       "      <td>1.367203</td>\n",
       "      <td>0.0</td>\n",
       "      <td>1.0</td>\n",
       "      <td>2.0</td>\n",
       "      <td>4.0</td>\n",
       "      <td>4.0</td>\n",
       "    </tr>\n",
       "    <tr>\n",
       "      <th>83</th>\n",
       "      <th>24-03-2020</th>\n",
       "      <td>1480.0</td>\n",
       "      <td>2.310135</td>\n",
       "      <td>1.374610</td>\n",
       "      <td>0.0</td>\n",
       "      <td>1.0</td>\n",
       "      <td>2.0</td>\n",
       "      <td>4.0</td>\n",
       "      <td>4.0</td>\n",
       "    </tr>\n",
       "    <tr>\n",
       "      <th>84</th>\n",
       "      <th>25-03-2020</th>\n",
       "      <td>2979.0</td>\n",
       "      <td>2.362202</td>\n",
       "      <td>1.367151</td>\n",
       "      <td>0.0</td>\n",
       "      <td>1.0</td>\n",
       "      <td>2.0</td>\n",
       "      <td>4.0</td>\n",
       "      <td>4.0</td>\n",
       "    </tr>\n",
       "    <tr>\n",
       "      <th>85</th>\n",
       "      <th>26-03-2020</th>\n",
       "      <td>1277.0</td>\n",
       "      <td>2.358653</td>\n",
       "      <td>1.323094</td>\n",
       "      <td>0.0</td>\n",
       "      <td>1.0</td>\n",
       "      <td>2.0</td>\n",
       "      <td>4.0</td>\n",
       "      <td>4.0</td>\n",
       "    </tr>\n",
       "    <tr>\n",
       "      <th>86</th>\n",
       "      <th>27-03-2020</th>\n",
       "      <td>345.0</td>\n",
       "      <td>2.426087</td>\n",
       "      <td>1.289904</td>\n",
       "      <td>0.0</td>\n",
       "      <td>2.0</td>\n",
       "      <td>2.0</td>\n",
       "      <td>4.0</td>\n",
       "      <td>4.0</td>\n",
       "    </tr>\n",
       "    <tr>\n",
       "      <th>87</th>\n",
       "      <th>28-03-2020</th>\n",
       "      <td>23.0</td>\n",
       "      <td>2.000000</td>\n",
       "      <td>1.348400</td>\n",
       "      <td>0.0</td>\n",
       "      <td>1.0</td>\n",
       "      <td>1.0</td>\n",
       "      <td>3.5</td>\n",
       "      <td>4.0</td>\n",
       "    </tr>\n",
       "    <tr>\n",
       "      <th>88</th>\n",
       "      <th>29-03-2020</th>\n",
       "      <td>125.0</td>\n",
       "      <td>2.552000</td>\n",
       "      <td>1.334747</td>\n",
       "      <td>0.0</td>\n",
       "      <td>1.0</td>\n",
       "      <td>3.0</td>\n",
       "      <td>4.0</td>\n",
       "      <td>4.0</td>\n",
       "    </tr>\n",
       "    <tr>\n",
       "      <th>89</th>\n",
       "      <th>30-03-2020</th>\n",
       "      <td>87.0</td>\n",
       "      <td>2.068966</td>\n",
       "      <td>1.508064</td>\n",
       "      <td>0.0</td>\n",
       "      <td>1.0</td>\n",
       "      <td>2.0</td>\n",
       "      <td>4.0</td>\n",
       "      <td>4.0</td>\n",
       "    </tr>\n",
       "    <tr>\n",
       "      <th>90</th>\n",
       "      <th>31-03-2020</th>\n",
       "      <td>316.0</td>\n",
       "      <td>2.367089</td>\n",
       "      <td>1.374851</td>\n",
       "      <td>0.0</td>\n",
       "      <td>1.0</td>\n",
       "      <td>2.0</td>\n",
       "      <td>4.0</td>\n",
       "      <td>4.0</td>\n",
       "    </tr>\n",
       "    <tr>\n",
       "      <th>91</th>\n",
       "      <th>01-04-2020</th>\n",
       "      <td>630.0</td>\n",
       "      <td>2.311111</td>\n",
       "      <td>1.377206</td>\n",
       "      <td>0.0</td>\n",
       "      <td>1.0</td>\n",
       "      <td>2.0</td>\n",
       "      <td>4.0</td>\n",
       "      <td>4.0</td>\n",
       "    </tr>\n",
       "    <tr>\n",
       "      <th>92</th>\n",
       "      <th>02-04-2020</th>\n",
       "      <td>954.0</td>\n",
       "      <td>2.339623</td>\n",
       "      <td>1.340296</td>\n",
       "      <td>0.0</td>\n",
       "      <td>1.0</td>\n",
       "      <td>2.0</td>\n",
       "      <td>4.0</td>\n",
       "      <td>4.0</td>\n",
       "    </tr>\n",
       "    <tr>\n",
       "      <th>93</th>\n",
       "      <th>03-04-2020</th>\n",
       "      <td>810.0</td>\n",
       "      <td>2.354321</td>\n",
       "      <td>1.358628</td>\n",
       "      <td>0.0</td>\n",
       "      <td>1.0</td>\n",
       "      <td>2.0</td>\n",
       "      <td>4.0</td>\n",
       "      <td>4.0</td>\n",
       "    </tr>\n",
       "    <tr>\n",
       "      <th>94</th>\n",
       "      <th>04-04-2020</th>\n",
       "      <td>767.0</td>\n",
       "      <td>2.311604</td>\n",
       "      <td>1.429148</td>\n",
       "      <td>0.0</td>\n",
       "      <td>1.0</td>\n",
       "      <td>2.0</td>\n",
       "      <td>4.0</td>\n",
       "      <td>4.0</td>\n",
       "    </tr>\n",
       "    <tr>\n",
       "      <th>95</th>\n",
       "      <th>05-04-2020</th>\n",
       "      <td>1131.0</td>\n",
       "      <td>2.352785</td>\n",
       "      <td>1.332454</td>\n",
       "      <td>0.0</td>\n",
       "      <td>1.0</td>\n",
       "      <td>2.0</td>\n",
       "      <td>4.0</td>\n",
       "      <td>4.0</td>\n",
       "    </tr>\n",
       "    <tr>\n",
       "      <th>96</th>\n",
       "      <th>06-04-2020</th>\n",
       "      <td>1742.0</td>\n",
       "      <td>2.348450</td>\n",
       "      <td>1.343286</td>\n",
       "      <td>0.0</td>\n",
       "      <td>1.0</td>\n",
       "      <td>2.0</td>\n",
       "      <td>4.0</td>\n",
       "      <td>4.0</td>\n",
       "    </tr>\n",
       "    <tr>\n",
       "      <th>97</th>\n",
       "      <th>07-04-2020</th>\n",
       "      <td>1843.0</td>\n",
       "      <td>2.366251</td>\n",
       "      <td>1.359764</td>\n",
       "      <td>0.0</td>\n",
       "      <td>1.0</td>\n",
       "      <td>2.0</td>\n",
       "      <td>4.0</td>\n",
       "      <td>4.0</td>\n",
       "    </tr>\n",
       "    <tr>\n",
       "      <th>98</th>\n",
       "      <th>08-04-2020</th>\n",
       "      <td>1881.0</td>\n",
       "      <td>2.381712</td>\n",
       "      <td>1.367155</td>\n",
       "      <td>0.0</td>\n",
       "      <td>1.0</td>\n",
       "      <td>2.0</td>\n",
       "      <td>4.0</td>\n",
       "      <td>4.0</td>\n",
       "    </tr>\n",
       "    <tr>\n",
       "      <th>99</th>\n",
       "      <th>09-04-2020</th>\n",
       "      <td>1471.0</td>\n",
       "      <td>2.366417</td>\n",
       "      <td>1.363145</td>\n",
       "      <td>0.0</td>\n",
       "      <td>1.0</td>\n",
       "      <td>2.0</td>\n",
       "      <td>4.0</td>\n",
       "      <td>4.0</td>\n",
       "    </tr>\n",
       "    <tr>\n",
       "      <th>100</th>\n",
       "      <th>10-04-2020</th>\n",
       "      <td>1005.0</td>\n",
       "      <td>2.413930</td>\n",
       "      <td>1.354425</td>\n",
       "      <td>0.0</td>\n",
       "      <td>1.0</td>\n",
       "      <td>3.0</td>\n",
       "      <td>4.0</td>\n",
       "      <td>4.0</td>\n",
       "    </tr>\n",
       "    <tr>\n",
       "      <th>101</th>\n",
       "      <th>11-04-2020</th>\n",
       "      <td>909.0</td>\n",
       "      <td>2.391639</td>\n",
       "      <td>1.338426</td>\n",
       "      <td>0.0</td>\n",
       "      <td>1.0</td>\n",
       "      <td>2.0</td>\n",
       "      <td>4.0</td>\n",
       "      <td>4.0</td>\n",
       "    </tr>\n",
       "    <tr>\n",
       "      <th>102</th>\n",
       "      <th>12-04-2020</th>\n",
       "      <td>803.0</td>\n",
       "      <td>2.277709</td>\n",
       "      <td>1.354346</td>\n",
       "      <td>0.0</td>\n",
       "      <td>1.0</td>\n",
       "      <td>2.0</td>\n",
       "      <td>4.0</td>\n",
       "      <td>4.0</td>\n",
       "    </tr>\n",
       "    <tr>\n",
       "      <th>103</th>\n",
       "      <th>13-04-2020</th>\n",
       "      <td>1428.0</td>\n",
       "      <td>2.343137</td>\n",
       "      <td>1.372434</td>\n",
       "      <td>0.0</td>\n",
       "      <td>1.0</td>\n",
       "      <td>2.0</td>\n",
       "      <td>4.0</td>\n",
       "      <td>4.0</td>\n",
       "    </tr>\n",
       "    <tr>\n",
       "      <th>104</th>\n",
       "      <th>14-04-2020</th>\n",
       "      <td>284.0</td>\n",
       "      <td>2.316901</td>\n",
       "      <td>1.354848</td>\n",
       "      <td>0.0</td>\n",
       "      <td>1.0</td>\n",
       "      <td>2.0</td>\n",
       "      <td>4.0</td>\n",
       "      <td>4.0</td>\n",
       "    </tr>\n",
       "  </tbody>\n",
       "</table>\n",
       "</div>"
      ],
      "text/plain": [
       "                           count      mean       std  min  25%  50%  75%  max\n",
       "TweetAtInDays TweetAt                                                        \n",
       "75            16-03-2020   656.0  2.282012  1.403827  0.0  1.0  2.0  4.0  4.0\n",
       "76            17-03-2020  1977.0  2.244310  1.382547  0.0  1.0  2.0  4.0  4.0\n",
       "77            18-03-2020  2742.0  2.253100  1.405460  0.0  1.0  2.0  4.0  4.0\n",
       "78            19-03-2020  3215.0  2.260342  1.393725  0.0  1.0  2.0  4.0  4.0\n",
       "79            20-03-2020  3448.0  2.217807  1.417638  0.0  1.0  2.0  4.0  4.0\n",
       "80            21-03-2020  2653.0  2.266114  1.376122  0.0  1.0  2.0  4.0  4.0\n",
       "81            22-03-2020  2114.0  2.292337  1.385363  0.0  1.0  2.0  4.0  4.0\n",
       "82            23-03-2020  2062.0  2.389913  1.367203  0.0  1.0  2.0  4.0  4.0\n",
       "83            24-03-2020  1480.0  2.310135  1.374610  0.0  1.0  2.0  4.0  4.0\n",
       "84            25-03-2020  2979.0  2.362202  1.367151  0.0  1.0  2.0  4.0  4.0\n",
       "85            26-03-2020  1277.0  2.358653  1.323094  0.0  1.0  2.0  4.0  4.0\n",
       "86            27-03-2020   345.0  2.426087  1.289904  0.0  2.0  2.0  4.0  4.0\n",
       "87            28-03-2020    23.0  2.000000  1.348400  0.0  1.0  1.0  3.5  4.0\n",
       "88            29-03-2020   125.0  2.552000  1.334747  0.0  1.0  3.0  4.0  4.0\n",
       "89            30-03-2020    87.0  2.068966  1.508064  0.0  1.0  2.0  4.0  4.0\n",
       "90            31-03-2020   316.0  2.367089  1.374851  0.0  1.0  2.0  4.0  4.0\n",
       "91            01-04-2020   630.0  2.311111  1.377206  0.0  1.0  2.0  4.0  4.0\n",
       "92            02-04-2020   954.0  2.339623  1.340296  0.0  1.0  2.0  4.0  4.0\n",
       "93            03-04-2020   810.0  2.354321  1.358628  0.0  1.0  2.0  4.0  4.0\n",
       "94            04-04-2020   767.0  2.311604  1.429148  0.0  1.0  2.0  4.0  4.0\n",
       "95            05-04-2020  1131.0  2.352785  1.332454  0.0  1.0  2.0  4.0  4.0\n",
       "96            06-04-2020  1742.0  2.348450  1.343286  0.0  1.0  2.0  4.0  4.0\n",
       "97            07-04-2020  1843.0  2.366251  1.359764  0.0  1.0  2.0  4.0  4.0\n",
       "98            08-04-2020  1881.0  2.381712  1.367155  0.0  1.0  2.0  4.0  4.0\n",
       "99            09-04-2020  1471.0  2.366417  1.363145  0.0  1.0  2.0  4.0  4.0\n",
       "100           10-04-2020  1005.0  2.413930  1.354425  0.0  1.0  3.0  4.0  4.0\n",
       "101           11-04-2020   909.0  2.391639  1.338426  0.0  1.0  2.0  4.0  4.0\n",
       "102           12-04-2020   803.0  2.277709  1.354346  0.0  1.0  2.0  4.0  4.0\n",
       "103           13-04-2020  1428.0  2.343137  1.372434  0.0  1.0  2.0  4.0  4.0\n",
       "104           14-04-2020   284.0  2.316901  1.354848  0.0  1.0  2.0  4.0  4.0"
      ]
     },
     "execution_count": 19,
     "metadata": {},
     "output_type": "execute_result"
    }
   ],
   "source": [
    "# show days since 01JAN2020, its corresponding date, and the average tweet sentiment on that date\n",
    "train_df.sort_values(by=\"TweetAtInDays\").groupby(['TweetAtInDays', 'TweetAt']).Sentiment_encode.describe()"
   ]
  },
  {
   "cell_type": "code",
   "execution_count": 20,
   "metadata": {},
   "outputs": [
    {
     "data": {
      "text/plain": [
       "<AxesSubplot:title={'center':'Average tweet sentiment per day'}, xlabel='TweetAtInDays'>"
      ]
     },
     "execution_count": 20,
     "metadata": {},
     "output_type": "execute_result"
    },
    {
     "data": {
      "image/png": "[encoded data removed]",
      "text/plain": [
       "<Figure size 432x288 with 1 Axes>"
      ]
     },
     "metadata": {
      "needs_background": "light"
     },
     "output_type": "display_data"
    }
   ],
   "source": [
    "# plot average tweet sentiment each day\n",
    "train_df.groupby(['TweetAtInDays']).Sentiment_encode.mean().plot(ylim=[0,4], grid=True, title=\"Average tweet sentiment per day\")"
   ]
  },
  {
   "cell_type": "code",
   "execution_count": 21,
   "metadata": {},
   "outputs": [
    {
     "data": {
      "text/plain": [
       "<matplotlib.legend.Legend at 0x1a1674b5e88>"
      ]
     },
     "execution_count": 21,
     "metadata": {},
     "output_type": "execute_result"
    },
    {
     "data": {
      "image/png": "[encoded data removed]",
      "text/plain": [
       "<Figure size 432x288 with 1 Axes>"
      ]
     },
     "metadata": {
      "needs_background": "light"
     },
     "output_type": "display_data"
    }
   ],
   "source": [
    "# Plot number of tweet of each sentiment each day\n",
    "index = train_df.groupby(['TweetAtInDays']).size().index\n",
    "values = {'0':train_df[train_df.Sentiment_encode==0].groupby(['TweetAt']).size().to_list(), \n",
    "          '1':train_df[train_df.Sentiment_encode==1].groupby(['TweetAt']).size().to_list(), \n",
    "          '2':train_df[train_df.Sentiment_encode==2].groupby(['TweetAt']).size().to_list(),\n",
    "          '3':train_df[train_df.Sentiment_encode==3].groupby(['TweetAt']).size().to_list(),\n",
    "          '4':train_df[train_df.Sentiment_encode==4].groupby(['TweetAt']).size().to_list(),}\n",
    "num_tweet_count = pd.DataFrame(values, index=index)\n",
    "# num_tweet_count.plot.bar(stacked=True)\n",
    "num_tweet_count.plot(grid=True, title=\"Number of tweets per sentiment per day\")\n",
    "plt.legend([\"Extremely Negative\", \"Negative\", \"Neutral\", \"Positive\", \"Extremely Positive\"])"
   ]
  },
  {
   "cell_type": "markdown",
   "metadata": {},
   "source": [
    "- In general, number of positive tweets is slighty more than negative, thus making the overall tweets sentiment per day little above neutral, which is 1.\n",
    "- Number of positive and negative tweets changes drastically, especially during day 88 to day 98, which is between 29MAR2020 to 08APR2020.\n",
    "- Number of neutral tweets doesn't vary as much."
   ]
  },
  {
   "cell_type": "markdown",
   "metadata": {},
   "source": [
    "## Keep most tagged accounts\n",
    "Discard tagged accounts to eliminate noise and keep only the most frequently tagged accounts."
   ]
  },
  {
   "cell_type": "code",
   "execution_count": 22,
   "metadata": {},
   "outputs": [],
   "source": [
    "tag_list = []\n",
    "for tweet in train_df.index.values:\n",
    "    tag_list += re.findall(r'@\\w+', train_df.loc[tweet, \"OriginalTweet\"])"
   ]
  },
  {
   "cell_type": "code",
   "execution_count": 23,
   "metadata": {},
   "outputs": [
    {
     "name": "stdout",
     "output_type": "stream",
     "text": [
      "                    0\n",
      "0                    \n",
      "@realDonaldTrump  247\n",
      "@Tesco            185\n",
      "@sainsburys       161\n",
      "@BorisJohnson     150\n",
      "@narendramodi     111\n",
      "@amazon           109\n",
      "@asda             105\n",
      "@PMOIndia          96\n",
      "@Morrisons         90\n",
      "@piersmorgan       85\n",
      "@YouTube           83\n",
      "@waitrose          71\n",
      "@CNN               61\n",
      "@AldiUK            54\n",
      "@Walmart           53\n",
      "@FTC               52\n",
      "@CDCgov            49\n",
      "@NYGovCuomo        43\n",
      "@BBCNews           42\n",
      "@SkyNews           41\n"
     ]
    }
   ],
   "source": [
    "tag_df = pd.DataFrame(tag_list)\n",
    "tag_sort = pd.DataFrame(tag_df.value_counts(ascending=False))\n",
    "print(tag_sort.head(20))"
   ]
  },
  {
   "cell_type": "code",
   "execution_count": 24,
   "metadata": {},
   "outputs": [],
   "source": [
    "# Keep most frquently tagged accounts:\n",
    "top_tags = [acct[0] for acct in tag_sort.index.values[:10]]"
   ]
  },
  {
   "cell_type": "markdown",
   "metadata": {},
   "source": [
    "## Keep most popular hashtags\n",
    "Discard hashtags to eliminate noise and keep only the most popular hashtags."
   ]
  },
  {
   "cell_type": "code",
   "execution_count": 25,
   "metadata": {},
   "outputs": [],
   "source": [
    "hash_list = []\n",
    "for tweet in train_df.index.values:\n",
    "    hash_list += re.findall(r'#\\w+', train_df.loc[tweet, \"OriginalTweet\"])"
   ]
  },
  {
   "cell_type": "code",
   "execution_count": 26,
   "metadata": {},
   "outputs": [
    {
     "name": "stdout",
     "output_type": "stream",
     "text": [
      "                          0\n",
      "0                          \n",
      "#coronavirus          12954\n",
      "#COVID19               3364\n",
      "#Covid_19              2589\n",
      "#Coronavirus           2333\n",
      "#COVID2019             1634\n",
      "#toiletpaper           1410\n",
      "#COVID                 1284\n",
      "#covid19               1127\n",
      "#CoronaCrisis           734\n",
      "#CoronaVirus            645\n",
      "#SocialDistancing       641\n",
      "#covid_19               440\n",
      "#pandemic               414\n",
      "#CoronavirusPandemic    414\n",
      "#CoronavirusOutbreak    400\n",
      "#Covid19                347\n",
      "#StayHomeSaveLives      345\n",
      "#lockdown               329\n",
      "#StayAtHome             322\n",
      "#supermarket            321\n"
     ]
    }
   ],
   "source": [
    "hash_df = pd.DataFrame(hash_list)\n",
    "hash_sort = pd.DataFrame(hash_df.value_counts(ascending=False))\n",
    "print(hash_sort.head(20))"
   ]
  },
  {
   "cell_type": "code",
   "execution_count": 27,
   "metadata": {},
   "outputs": [],
   "source": [
    "# Keep most popular hashtags:\n",
    "# Exclude #covid* and #corova* because those tags were criteria used to collect data and hence in most of the tweets.\n",
    "top_hashtags = [tag[0] for tag in hash_sort.index.values[:30] \n",
    "                if \"covid\" not in tag[0].lower() and \"corona\" not in tag[0].lower()]"
   ]
  },
  {
   "cell_type": "markdown",
   "metadata": {},
   "source": [
    "## Collect stop words\n",
    "Remove common words using stopwords in NLTK module and add other potential common/uninformative words by reviewing the OriginalTweet."
   ]
  },
  {
   "cell_type": "code",
   "execution_count": 28,
   "metadata": {},
   "outputs": [
    {
     "name": "stderr",
     "output_type": "stream",
     "text": [
      "[nltk_data] Downloading package stopwords to\n",
      "[nltk_data]     C:\\Users\\jenny\\AppData\\Roaming\\nltk_data...\n",
      "[nltk_data]   Package stopwords is already up-to-date!\n"
     ]
    }
   ],
   "source": [
    "nltk.download('stopwords')\n",
    "stop_words = list(set(nltk.corpus.stopwords.words('english')))"
   ]
  },
  {
   "cell_type": "code",
   "execution_count": 29,
   "metadata": {},
   "outputs": [
    {
     "name": "stdout",
     "output_type": "stream",
     "text": [
      "['i', 'does', 'such', 'ain', 'their', 'needn', \"didn't\", 'his', 'in', 'so', \"she's\", 'after', 'its', 'up', 'haven', 'my', 'won', 'a', 're', 'under', 'any', 'few', 'not', 'for', 'yours', 've', \"shouldn't\", \"it's\", 'itself', 'or', 'mightn', \"you'll\", 'the', 'above', 'were', 'she', 'is', 's', 'as', 'against', 'why', 'further', 'being', 'about', \"hadn't\", 'only', 'when', 'too', 'those', 'that', 'own', 'same', 'theirs', 'her', 'did', 't', 'once', 'again', 'through', 'y', 'below', 'with', 'can', \"aren't\", 'at', 'do', 'he', \"you'd\", \"haven't\", 'than', 'most', 'wouldn', 'to', 'having', 'aren', 'during', \"wasn't\", \"weren't\", 'from', 'but', 'him', 'yourselves', 'what', 'all', 'more', 'has', 'of', \"isn't\", 'you', 'shan', 'myself', \"you've\", 'just', 'our', 'll', 'them', 'these', 'o', 'ma', 'yourself', 'ourselves', 'your', 'was', 'some', 'd', 'between', 'on', 'weren', 'm', 'herself', 'doing', 'where', 'are', \"needn't\", 'down', 'into', 'over', 'an', 'me', 'while', \"won't\", 'couldn', 'hers', \"wouldn't\", 'ours', 'this', \"should've\", 'by', 'and', 'both', 'whom', 'very', 'how', 'doesn', \"that'll\", 'out', 'off', \"mustn't\", 'because', 'wasn', \"don't\", 'been', 'should', 'didn', 'until', 'they', \"mightn't\", 'mustn', 'who', 'if', 'isn', 'had', 'then', 'hasn', 'it', \"doesn't\", \"hasn't\", 'now', 'shouldn', \"shan't\", 'have', 'will', 'am', 'we', \"couldn't\", 'himself', 'here', 'don', 'nor', \"you're\", 'there', 'which', 'before', 'each', 'no', 'themselves', 'hadn', 'other', 'be']\n"
     ]
    }
   ],
   "source": [
    "print(stop_words)"
   ]
  },
  {
   "cell_type": "markdown",
   "metadata": {},
   "source": [
    "## Expand stop words\n",
    "1. After cleaning the OriginalTweet, run an eyeball test and expand stop word.\n",
    "\n",
    "2. After one round of training, examine tokens and include unnecessary tokens to stop word collection."
   ]
  },
  {
   "cell_type": "code",
   "execution_count": 30,
   "metadata": {},
   "outputs": [],
   "source": [
    "stop_words += [\"a\", \"b\", \"c\", \"d\", \"e\", \"f\", \"g\", \"h\", \"i\", \"j\", \"l\", \"m\", \"n\", \"o\", \"p\", \"q\", \"r\", \n",
    "               \"s\", \"t\", \"u\", \"v\", \"w\", \"x\", \"y\", \"z\"]\n",
    "stop_words += [\"in\", \"on\", \"at\", \"via\", \"due\", \"could\", \"would\", \"may\", \"one\", \"still\", \n",
    "               \"even\", \"also\", \"every\", \"two\", \"etc\", \"per\"]"
   ]
  },
  {
   "cell_type": "markdown",
   "metadata": {},
   "source": [
    "## Examine tokens\n",
    "This step is done after one round of training, and come back to examine and normalize tokens. \n",
    "\n",
    "1. Stemming is the process of eliminating affixes (suffixed, prefixes, infixes, circumfixes) from a word in order to obtain a word stem.\n",
    "    - Example: running → run\n",
    "2. Lemmatization is related to stemming, differing in that lemmatization is able to capture canonical forms based on a word's lemma.\n",
    "    - Example: better → good"
   ]
  },
  {
   "cell_type": "code",
   "execution_count": 31,
   "metadata": {},
   "outputs": [],
   "source": [
    "# tokens = pd.DataFrame(dict(tokenizer.word_counts).values(), index=dict(tokenizer.word_counts).keys())"
   ]
  },
  {
   "cell_type": "code",
   "execution_count": 32,
   "metadata": {
    "scrolled": true
   },
   "outputs": [],
   "source": [
    "# # show top 100 most used tokens\n",
    "# tokens.sort_values(by=0, ascending=False).iloc[0:100].index"
   ]
  },
  {
   "cell_type": "markdown",
   "metadata": {},
   "source": [
    "## Stemming\n",
    "Create a dictionary to reducing words to their word stem."
   ]
  },
  {
   "cell_type": "code",
   "execution_count": 33,
   "metadata": {},
   "outputs": [],
   "source": [
    "stemming_dict = {\"buying\":\"buy\", \"bought\":\"buy\", \"working\":\"work\", \"worked\":\"work\", \"shopping\":\"shop\", \"shopped\":\"shop\",\n",
    "                 \"shops\":\"shop\", \"days\":\"day\", \"weeks\":\"week\", \"masks\":\"mask\", \"got\":\"get\", \"gets\":\"get\", \n",
    "                 \"supermarkets\":\"supermarket\", \"says\":\"say\", \"saying\":\"say\", \"said\":\"say\", \"getting\":\"get\", \"gets\":\"get\", \n",
    "                 \"got\":\"get\", \"making\":\"make\", \"made\":\"make\", \"services\":\"service\", \"hours\":\"hour\", \"years\":\"year\", \n",
    "                 \"increases\":\"increase\", \"increased\":\"increase\", \"markets\":\"market\", \"close\":\"closed\", \"needs\":\"need\",\n",
    "                 \"needed\":\"need\", \"hands\":\"hand\", \"stores\":\"store\", \"employees\":\"employee\", \"workers\":\"worker\", \n",
    "                 \"staffs\":\"staff\", \"businesses\":\"business\", \"companies\":\"company\", \"consumers\":\"consumer\", \n",
    "                 \"customers\":\"customer\", \"products\":\"product\", \"going\":\"go\", \"went\":\"go\"}"
   ]
  },
  {
   "cell_type": "markdown",
   "metadata": {},
   "source": [
    "## Lemmatization\n",
    "Create a dictionary to reduce synonym of words."
   ]
  },
  {
   "cell_type": "code",
   "execution_count": 34,
   "metadata": {},
   "outputs": [],
   "source": [
    "lemmatization_dict = {\"shop\":\"store\", \"supermarket\":\"market\", \"much\":\"many\", \"employee\":\"worker\", \"staff\":\"worker\", \n",
    "                      \"global\":\"world\", \"company\":\"business\", \"consumer\":\"customer\", \"house\":\"home\", \"grocery\":\"goods\",\n",
    "                      \"products\":\"goods\", \"toilet\":\"toiletpaper\", \"paper\":\"toiletpaper\"}"
   ]
  },
  {
   "cell_type": "markdown",
   "metadata": {},
   "source": [
    "## Location dictionary\n",
    "The location isn't categorical. To clean it up, a location dictionary is needed to convert various of locations to just the country code.\n",
    "1. Download location dictionaries\n",
    "2. Collect all cities, states, countries, and country codes\n",
    "3. Create a dictionary and assign all cities, states, and countries the country code that it's in."
   ]
  },
  {
   "cell_type": "code",
   "execution_count": 35,
   "metadata": {},
   "outputs": [],
   "source": [
    "# Following files are collections of various city names/state names/country names/country codes\n",
    "states = json.loads(requests.get(\"https://raw.githubusercontent.com/praneshsaminathan/country-state-city/master/states.json\").text)\n",
    "countries=json.loads(requests.get(\"https://raw.githubusercontent.com/praneshsaminathan/country-state-city/master/countries.json\").text)\n",
    "cities=json.loads(requests.get(\"https://raw.githubusercontent.com/praneshsaminathan/country-state-city/master/cities.json\").text)\n",
    "us_states_code=pd.read_csv('https://worldpopulationreview.com/static/states/abbr-name.csv',names=['state_code','state'])\n",
    "\n",
    "states = states[\"states\"]\n",
    "countries = countries[\"countries\"]\n",
    "cities = cities[\"cities\"]"
   ]
  },
  {
   "cell_type": "code",
   "execution_count": 36,
   "metadata": {
    "scrolled": true
   },
   "outputs": [],
   "source": [
    "world_dict = {}\n",
    "\n",
    "# Assign all cities its country code\n",
    "for city in cities:\n",
    "    state_id = int(re.findall(r'\\d+', city[\"state_id\"])[0])\n",
    "    country_id = states[state_id-1][\"country_id\"]\n",
    "    country_id = int(re.findall(r'\\d+', country_id)[0])\n",
    "    country_name = countries[country_id-1][\"sortname\"]\n",
    "    world_dict[city[\"name\"].lower()] = country_name.lower()\n",
    "\n",
    "# Assign all states its country code\n",
    "for state in states:\n",
    "    country_id = int(re.findall(r'\\d+', state[\"country_id\"])[0])\n",
    "    country_name = countries[country_id-1][\"sortname\"]\n",
    "    world_dict[state[\"name\"].lower()] = country_name.lower()\n",
    "\n",
    "# Assign all countries its country code\n",
    "for country in countries:    \n",
    "    world_dict[country[\"sortname\"].lower()] = country[\"sortname\"].lower()\n",
    "    world_dict[country[\"name\"].lower()] = country[\"sortname\"].lower()\n",
    "\n",
    "# Assign \"us\" to all US locations\n",
    "for index in us_states_code.index:\n",
    "    state = us_states_code.loc[index]\n",
    "    world_dict[state.state_code.lower()] = \"us\"\n",
    "    world_dict[state.state.lower()] = \"us\"\n",
    "\n",
    "# Add missing locations\n",
    "world_dict[\"uk\"] = \"gb\"\n",
    "world_dict[\"ny\"] = \"us\"\n",
    "world_dict[\"nyc\"] = \"us\"\n",
    "world_dict[\"la\"] = \"us\"\n",
    "world_dict[\"sf\"] = \"us\"\n",
    "world_dict[\"bc\"] = \"ca\""
   ]
  },
  {
   "cell_type": "markdown",
   "metadata": {},
   "source": [
    "## Clean text\n",
    "Define functions to clean text:\n",
    "1. Remove hyperlinks and addresses\n",
    "2. Remove @ mentions except most frequently tagged accounts\n",
    "3. Remove # hashtags except most popular hashtags\n",
    "4. Remove remaining special characters, numbers, and tab/carriage-return/line-feed.\n",
    "5. Remove subwords that has non alphabetical characters\n",
    "6. Remove stop words\n",
    "7. Stemming and lemmatization"
   ]
  },
  {
   "cell_type": "code",
   "execution_count": 37,
   "metadata": {},
   "outputs": [],
   "source": [
    "def remove_link(sentence):\n",
    "    return re.sub(r'http\\S+', \" \", sentence)\n",
    "\n",
    "def remove_tag(sentence):\n",
    "    keep_tag = []\n",
    "    for tag in top_tags:\n",
    "        keep_tag += re.findall(tag, sentence)        \n",
    "    sentence = re.sub(r'@\\S+', \" \", sentence)    \n",
    "    for tag in keep_tag:\n",
    "        sentence += \" \" + tag        \n",
    "    return sentence\n",
    "    \n",
    "def remove_hashtag(sentence):\n",
    "    keep_tag = []\n",
    "    for tag in top_hashtags:\n",
    "        keep_tag += re.findall(tag, sentence)        \n",
    "    sentence = re.sub(r'#\\S+', \" \", sentence)    \n",
    "    for tag in keep_tag:\n",
    "        sentence += \" \" + tag        \n",
    "    return sentence\n",
    "    \n",
    "def remove_special_char(sentence):\n",
    "    for special_ch in (string.punctuation + \"0123456789\" + \"\\r\" + \"\\n\" + \"\\t\"):\n",
    "        sentence = sentence.replace(special_ch, \" \")\n",
    "    return sentence\n",
    "\n",
    "def remove_non_english(sentence):\n",
    "    clean_sentence = \"\"\n",
    "    for word in sentence.split():\n",
    "        clean_sentence += str(np.where(word.isalpha(), (word + \" \"), \"\"))\n",
    "    return clean_sentence\n",
    "\n",
    "def remove_stop_words(sentence):\n",
    "    for word in [\"covid\", \"corona\", \"virus\"]:\n",
    "        sentence = re.sub(word, \" \", sentence)\n",
    "    sentence = [word for word in sentence.split() if word not in stop_words]\n",
    "    return \" \".join(sentence)\n",
    "\n",
    "def stemming_and_lemmatization(sentence):\n",
    "    clean_sentence = []\n",
    "    for word in sentence.split():\n",
    "        if word in stemming_dict:\n",
    "            word = stemming_dict[word]\n",
    "        if word in lemmatization_dict:\n",
    "            word = lemmatization_dict[word]\n",
    "        clean_sentence.append(word)    \n",
    "    return \" \".join(clean_sentence)\n",
    "\n",
    "def clean_sentence(sentence):\n",
    "    sentence = remove_link(sentence)\n",
    "    sentence = remove_tag(sentence)\n",
    "    sentence = remove_hashtag(sentence)\n",
    "    sentence = remove_special_char(sentence)\n",
    "    sentence = remove_non_english(sentence)\n",
    "    sentence = remove_stop_words(sentence)\n",
    "    sentence = stemming_and_lemmatization(sentence)\n",
    "    return sentence"
   ]
  },
  {
   "cell_type": "markdown",
   "metadata": {},
   "source": [
    "## Clean OriginalTweet\n",
    "Clean the tweet message and append location to front of the message."
   ]
  },
  {
   "cell_type": "code",
   "execution_count": 38,
   "metadata": {
    "scrolled": true
   },
   "outputs": [],
   "source": [
    "def clean_original_tweet(df):\n",
    "    clean_tweet = []\n",
    "    loc_final_list = []\n",
    "\n",
    "    for tweet in df.index.values:\n",
    "        # clean location\n",
    "        loc_final, loc_clean = \"\", \"\"\n",
    "        if not pd.isnull(df.Location.loc[tweet]):\n",
    "            loc_clean = df.Location.astype(str).loc[tweet].lower()\n",
    "            loc_clean = clean_sentence(loc_clean)\n",
    "            for sub in loc_clean.split():\n",
    "                if sub in world_dict:\n",
    "                    loc_final = world_dict[sub]\n",
    "                    break\n",
    "            # add to list if not empty\n",
    "            if loc_final:\n",
    "                loc_final_list.append(loc_final)\n",
    "\n",
    "        # clean message\n",
    "        msg = df.OriginalTweet.astype(str).loc[tweet].lower()\n",
    "        msg = clean_sentence(msg)\n",
    "\n",
    "        # combine location and message to one sentence\n",
    "        clean_tweet.append(loc_final + \" \" + msg)\n",
    "\n",
    "    df['CleanTweet'] = clean_tweet\n",
    "    \n",
    "    return clean_tweet, loc_final_list"
   ]
  },
  {
   "cell_type": "code",
   "execution_count": 39,
   "metadata": {},
   "outputs": [],
   "source": [
    "clean_tweet, loc_final_list = clean_original_tweet(train_df)\n",
    "dummy = clean_original_tweet(test_df)"
   ]
  },
  {
   "cell_type": "code",
   "execution_count": 40,
   "metadata": {},
   "outputs": [
    {
     "data": {
      "text/html": [
       "<div>\n",
       "<style scoped>\n",
       "    .dataframe tbody tr th:only-of-type {\n",
       "        vertical-align: middle;\n",
       "    }\n",
       "\n",
       "    .dataframe tbody tr th {\n",
       "        vertical-align: top;\n",
       "    }\n",
       "\n",
       "    .dataframe thead th {\n",
       "        text-align: right;\n",
       "    }\n",
       "</style>\n",
       "<table border=\"1\" class=\"dataframe\">\n",
       "  <thead>\n",
       "    <tr style=\"text-align: right;\">\n",
       "      <th></th>\n",
       "      <th>Location</th>\n",
       "      <th>TweetAt</th>\n",
       "      <th>OriginalTweet</th>\n",
       "      <th>Sentiment</th>\n",
       "      <th>Sentiment_encode</th>\n",
       "      <th>TweetAtInDays</th>\n",
       "      <th>CleanTweet</th>\n",
       "    </tr>\n",
       "    <tr>\n",
       "      <th>UserName</th>\n",
       "      <th></th>\n",
       "      <th></th>\n",
       "      <th></th>\n",
       "      <th></th>\n",
       "      <th></th>\n",
       "      <th></th>\n",
       "      <th></th>\n",
       "    </tr>\n",
       "  </thead>\n",
       "  <tbody>\n",
       "    <tr>\n",
       "      <th>3799</th>\n",
       "      <td>London</td>\n",
       "      <td>16-03-2020</td>\n",
       "      <td>@MeNyrbie @Phil_Gahan @Chrisitv https://t.co/iFz9FAn2Pa and https://t.co/xX6ghGFzCC and https://...</td>\n",
       "      <td>Neutral</td>\n",
       "      <td>3</td>\n",
       "      <td>75</td>\n",
       "      <td>gb</td>\n",
       "    </tr>\n",
       "    <tr>\n",
       "      <th>3800</th>\n",
       "      <td>UK</td>\n",
       "      <td>16-03-2020</td>\n",
       "      <td>advice Talk to your neighbours family to exchange phone numbers create contact list with phone n...</td>\n",
       "      <td>Positive</td>\n",
       "      <td>4</td>\n",
       "      <td>75</td>\n",
       "      <td>gb advice talk neighbours family exchange phone numbers create contact list phone numbers neighb...</td>\n",
       "    </tr>\n",
       "    <tr>\n",
       "      <th>3801</th>\n",
       "      <td>Vagabonds</td>\n",
       "      <td>16-03-2020</td>\n",
       "      <td>Coronavirus Australia: Woolworths to give elderly, disabled dedicated shopping hours amid COVID-...</td>\n",
       "      <td>Positive</td>\n",
       "      <td>4</td>\n",
       "      <td>75</td>\n",
       "      <td>australia woolworths give elderly disabled dedicated store hour amid outbreak</td>\n",
       "    </tr>\n",
       "    <tr>\n",
       "      <th>3802</th>\n",
       "      <td>NaN</td>\n",
       "      <td>16-03-2020</td>\n",
       "      <td>My food stock is not the only one which is empty...\\r\\r\\n\\r\\r\\nPLEASE, don't panic, THERE WILL B...</td>\n",
       "      <td>Positive</td>\n",
       "      <td>4</td>\n",
       "      <td>75</td>\n",
       "      <td>food stock empty please panic enough food everyone take need stay calm stay safe</td>\n",
       "    </tr>\n",
       "    <tr>\n",
       "      <th>3803</th>\n",
       "      <td>NaN</td>\n",
       "      <td>16-03-2020</td>\n",
       "      <td>Me, ready to go at supermarket during the #COVID19 outbreak.\\r\\r\\n\\r\\r\\nNot because I'm paranoid...</td>\n",
       "      <td>Extremely Negative</td>\n",
       "      <td>0</td>\n",
       "      <td>75</td>\n",
       "      <td>ready go market outbreak paranoid food stock litteraly empty serious thing please panic causes ...</td>\n",
       "    </tr>\n",
       "  </tbody>\n",
       "</table>\n",
       "</div>"
      ],
      "text/plain": [
       "           Location     TweetAt  \\\n",
       "UserName                          \n",
       "3799         London  16-03-2020   \n",
       "3800             UK  16-03-2020   \n",
       "3801      Vagabonds  16-03-2020   \n",
       "3802            NaN  16-03-2020   \n",
       "3803            NaN  16-03-2020   \n",
       "\n",
       "                                                                                                OriginalTweet  \\\n",
       "UserName                                                                                                        \n",
       "3799      @MeNyrbie @Phil_Gahan @Chrisitv https://t.co/iFz9FAn2Pa and https://t.co/xX6ghGFzCC and https://...   \n",
       "3800      advice Talk to your neighbours family to exchange phone numbers create contact list with phone n...   \n",
       "3801      Coronavirus Australia: Woolworths to give elderly, disabled dedicated shopping hours amid COVID-...   \n",
       "3802      My food stock is not the only one which is empty...\\r\\r\\n\\r\\r\\nPLEASE, don't panic, THERE WILL B...   \n",
       "3803      Me, ready to go at supermarket during the #COVID19 outbreak.\\r\\r\\n\\r\\r\\nNot because I'm paranoid...   \n",
       "\n",
       "                   Sentiment  Sentiment_encode  TweetAtInDays  \\\n",
       "UserName                                                        \n",
       "3799                 Neutral                 3             75   \n",
       "3800                Positive                 4             75   \n",
       "3801                Positive                 4             75   \n",
       "3802                Positive                 4             75   \n",
       "3803      Extremely Negative                 0             75   \n",
       "\n",
       "                                                                                                   CleanTweet  \n",
       "UserName                                                                                                       \n",
       "3799                                                                                                      gb   \n",
       "3800      gb advice talk neighbours family exchange phone numbers create contact list phone numbers neighb...  \n",
       "3801                            australia woolworths give elderly disabled dedicated store hour amid outbreak  \n",
       "3802                         food stock empty please panic enough food everyone take need stay calm stay safe  \n",
       "3803       ready go market outbreak paranoid food stock litteraly empty serious thing please panic causes ...  "
      ]
     },
     "execution_count": 40,
     "metadata": {},
     "output_type": "execute_result"
    }
   ],
   "source": [
    "train_df.head()"
   ]
  },
  {
   "cell_type": "code",
   "execution_count": 41,
   "metadata": {},
   "outputs": [
    {
     "data": {
      "text/html": [
       "<div>\n",
       "<style scoped>\n",
       "    .dataframe tbody tr th:only-of-type {\n",
       "        vertical-align: middle;\n",
       "    }\n",
       "\n",
       "    .dataframe tbody tr th {\n",
       "        vertical-align: top;\n",
       "    }\n",
       "\n",
       "    .dataframe thead th {\n",
       "        text-align: right;\n",
       "    }\n",
       "</style>\n",
       "<table border=\"1\" class=\"dataframe\">\n",
       "  <thead>\n",
       "    <tr style=\"text-align: right;\">\n",
       "      <th></th>\n",
       "      <th>Location</th>\n",
       "      <th>TweetAt</th>\n",
       "      <th>OriginalTweet</th>\n",
       "      <th>Sentiment</th>\n",
       "      <th>Sentiment_encode</th>\n",
       "      <th>CleanTweet</th>\n",
       "    </tr>\n",
       "    <tr>\n",
       "      <th>UserName</th>\n",
       "      <th></th>\n",
       "      <th></th>\n",
       "      <th></th>\n",
       "      <th></th>\n",
       "      <th></th>\n",
       "      <th></th>\n",
       "    </tr>\n",
       "  </thead>\n",
       "  <tbody>\n",
       "    <tr>\n",
       "      <th>1</th>\n",
       "      <td>NYC</td>\n",
       "      <td>02-03-2020</td>\n",
       "      <td>TRENDING: New Yorkers encounter empty supermarket shelves (pictured, Wegmans in Brooklyn), sold-...</td>\n",
       "      <td>Extremely Negative</td>\n",
       "      <td>0</td>\n",
       "      <td>us trending new yorkers encounter empty market shelves pictured wegmans brooklyn sold online gro...</td>\n",
       "    </tr>\n",
       "    <tr>\n",
       "      <th>2</th>\n",
       "      <td>Seattle, WA</td>\n",
       "      <td>02-03-2020</td>\n",
       "      <td>When I couldn't find hand sanitizer at Fred Meyer, I turned to #Amazon. But $114.97 for a 2 pack...</td>\n",
       "      <td>Positive</td>\n",
       "      <td>4</td>\n",
       "      <td>us find hand sanitizer fred meyer turned pack purell check concerns driving prices</td>\n",
       "    </tr>\n",
       "    <tr>\n",
       "      <th>3</th>\n",
       "      <td>NaN</td>\n",
       "      <td>02-03-2020</td>\n",
       "      <td>Find out how you can protect yourself and loved ones from #coronavirus. ?</td>\n",
       "      <td>Extremely Positive</td>\n",
       "      <td>1</td>\n",
       "      <td>find protect loved ones</td>\n",
       "    </tr>\n",
       "    <tr>\n",
       "      <th>4</th>\n",
       "      <td>Chicagoland</td>\n",
       "      <td>02-03-2020</td>\n",
       "      <td>#Panic buying hits #NewYork City as anxious shoppers stock up on food&amp;amp;medical supplies after...</td>\n",
       "      <td>Negative</td>\n",
       "      <td>2</td>\n",
       "      <td>buy hits city anxious shoppers stock food amp medical supplies worker becomes st confirmed pati...</td>\n",
       "    </tr>\n",
       "    <tr>\n",
       "      <th>5</th>\n",
       "      <td>Melbourne, Victoria</td>\n",
       "      <td>03-03-2020</td>\n",
       "      <td>#toiletpaper #dunnypaper #coronavirus #coronavirusaustralia #CoronaVirusUpdate #Covid_19 #9News ...</td>\n",
       "      <td>Neutral</td>\n",
       "      <td>3</td>\n",
       "      <td>au week everyone buy baby milk powder next everyone buy toiletpaper toiletpaper toiletpaper</td>\n",
       "    </tr>\n",
       "  </tbody>\n",
       "</table>\n",
       "</div>"
      ],
      "text/plain": [
       "                     Location     TweetAt  \\\n",
       "UserName                                    \n",
       "1                         NYC  02-03-2020   \n",
       "2                 Seattle, WA  02-03-2020   \n",
       "3                         NaN  02-03-2020   \n",
       "4                 Chicagoland  02-03-2020   \n",
       "5         Melbourne, Victoria  03-03-2020   \n",
       "\n",
       "                                                                                                OriginalTweet  \\\n",
       "UserName                                                                                                        \n",
       "1         TRENDING: New Yorkers encounter empty supermarket shelves (pictured, Wegmans in Brooklyn), sold-...   \n",
       "2         When I couldn't find hand sanitizer at Fred Meyer, I turned to #Amazon. But $114.97 for a 2 pack...   \n",
       "3                                   Find out how you can protect yourself and loved ones from #coronavirus. ?   \n",
       "4         #Panic buying hits #NewYork City as anxious shoppers stock up on food&amp;medical supplies after...   \n",
       "5         #toiletpaper #dunnypaper #coronavirus #coronavirusaustralia #CoronaVirusUpdate #Covid_19 #9News ...   \n",
       "\n",
       "                   Sentiment  Sentiment_encode  \\\n",
       "UserName                                         \n",
       "1         Extremely Negative                 0   \n",
       "2                   Positive                 4   \n",
       "3         Extremely Positive                 1   \n",
       "4                   Negative                 2   \n",
       "5                    Neutral                 3   \n",
       "\n",
       "                                                                                                   CleanTweet  \n",
       "UserName                                                                                                       \n",
       "1         us trending new yorkers encounter empty market shelves pictured wegmans brooklyn sold online gro...  \n",
       "2                          us find hand sanitizer fred meyer turned pack purell check concerns driving prices  \n",
       "3                                                                                     find protect loved ones  \n",
       "4          buy hits city anxious shoppers stock food amp medical supplies worker becomes st confirmed pati...  \n",
       "5                 au week everyone buy baby milk powder next everyone buy toiletpaper toiletpaper toiletpaper  "
      ]
     },
     "execution_count": 41,
     "metadata": {},
     "output_type": "execute_result"
    }
   ],
   "source": [
    "test_df.head()"
   ]
  },
  {
   "cell_type": "markdown",
   "metadata": {},
   "source": [
    "## Training set tweet location"
   ]
  },
  {
   "cell_type": "code",
   "execution_count": 42,
   "metadata": {},
   "outputs": [
    {
     "name": "stdout",
     "output_type": "stream",
     "text": [
      "['us' 'gb' 'in' 'ca' 'au' 'ml' 'cr' 'jp' 'ng' 'ie']\n"
     ]
    },
    {
     "data": {
      "image/png": "[encoded data removed]",
      "text/plain": [
       "<Figure size 432x288 with 1 Axes>"
      ]
     },
     "metadata": {
      "needs_background": "light"
     },
     "output_type": "display_data"
    }
   ],
   "source": [
    "encoder = LabelEncoder().fit(loc_final_list)\n",
    "loc_df = pd.DataFrame(encoder.transform(loc_final_list))\n",
    "loc_count = pd.DataFrame(loc_df.value_counts())\n",
    "x = [index[0] for index in loc_count.index.values][:10]\n",
    "y = loc_count[0].to_list()[:10]\n",
    "x_index = np.arange(len(x))\n",
    "plt.bar(x_index, y, tick_label=encoder.inverse_transform(x), title=\"Number of tweets from countries\")\n",
    "print(encoder.inverse_transform(x))"
   ]
  },
  {
   "cell_type": "markdown",
   "metadata": {},
   "source": [
    "## Training set tweet length\n",
    "25-30 characters include most of the context in most tweets."
   ]
  },
  {
   "cell_type": "code",
   "execution_count": 43,
   "metadata": {},
   "outputs": [
    {
     "data": {
      "text/plain": [
       "(array([7.800e+01, 5.780e+02, 1.748e+03, 2.812e+03, 3.689e+03, 3.563e+03,\n",
       "        3.742e+03, 3.881e+03, 4.081e+03, 4.404e+03, 4.339e+03, 3.606e+03,\n",
       "        2.438e+03, 1.313e+03, 5.660e+02, 2.190e+02, 6.700e+01, 2.200e+01,\n",
       "        1.000e+01, 1.000e+00]),\n",
       " array([ 0.,  2.,  4.,  6.,  8., 10., 12., 14., 16., 18., 20., 22., 24.,\n",
       "        26., 28., 30., 32., 34., 36., 38., 40.]),\n",
       " <BarContainer object of 20 artists>)"
      ]
     },
     "execution_count": 43,
     "metadata": {},
     "output_type": "execute_result"
    },
    {
     "data": {
      "image/png": "[encoded data removed]",
      "text/plain": [
       "<Figure size 432x288 with 1 Axes>"
      ]
     },
     "metadata": {
      "needs_background": "light"
     },
     "output_type": "display_data"
    }
   ],
   "source": [
    "len_tweet = [len(tweet.split()) for tweet in train_df.CleanTweet]\n",
    "plt.figure()\n",
    "plt.hist(len_tweet, bins=20, title=\"Histogram of length of tweets\")"
   ]
  },
  {
   "cell_type": "markdown",
   "metadata": {},
   "source": [
    "## Test set tweet length"
   ]
  },
  {
   "cell_type": "code",
   "execution_count": 44,
   "metadata": {},
   "outputs": [
    {
     "data": {
      "text/plain": [
       "(array([  5.,  41., 128., 218., 258., 324., 310., 373., 360., 403., 403.,\n",
       "        344., 322., 190.,  70.,  27.,  15.,   5.,   1.,   1.]),\n",
       " array([ 0.,  2.,  4.,  6.,  8., 10., 12., 14., 16., 18., 20., 22., 24.,\n",
       "        26., 28., 30., 32., 34., 36., 38., 40.]),\n",
       " <BarContainer object of 20 artists>)"
      ]
     },
     "execution_count": 44,
     "metadata": {},
     "output_type": "execute_result"
    },
    {
     "data": {
      "image/png": "[encoded data removed]",
      "text/plain": [
       "<Figure size 432x288 with 1 Axes>"
      ]
     },
     "metadata": {
      "needs_background": "light"
     },
     "output_type": "display_data"
    }
   ],
   "source": [
    "len_tweet = [len(tweet.split()) for tweet in test_df.CleanTweet]\n",
    "plt.figure()\n",
    "plt.hist(len_tweet, bins=20, title=\"Histogram of length of tweets\")"
   ]
  },
  {
   "cell_type": "markdown",
   "metadata": {},
   "source": [
    "## Tokenize text"
   ]
  },
  {
   "cell_type": "code",
   "execution_count": 45,
   "metadata": {},
   "outputs": [
    {
     "name": "stdout",
     "output_type": "stream",
     "text": [
      "32216\n"
     ]
    }
   ],
   "source": [
    "tokenizer = tf.keras.preprocessing.text.Tokenizer(num_words=15000, oov_token=\"<OOV>\")\n",
    "tokenizer.fit_on_texts(train_df.CleanTweet.values)\n",
    "vocab_size = len(tokenizer.word_index)\n",
    "print(vocab_size)\n",
    "\n",
    "max_len = 25\n",
    "\n",
    "sequences = tokenizer.texts_to_sequences(train_df.CleanTweet.values)\n",
    "train_corpus = tf.keras.preprocessing.sequence.pad_sequences(sequences, maxlen=max_len, truncating='post', padding='post')\n",
    "\n",
    "sequences = tokenizer.texts_to_sequences(test_df.CleanTweet.values)\n",
    "test_corpus = tf.keras.preprocessing.sequence.pad_sequences(sequences, maxlen=max_len, truncating='post', padding='post')\n",
    "\n",
    "train_target = train_df.Sentiment.values\n",
    "test_target = test_df.Sentiment.values"
   ]
  },
  {
   "cell_type": "markdown",
   "metadata": {},
   "source": [
    "## Most frequent words/tokens"
   ]
  },
  {
   "cell_type": "code",
   "execution_count": 46,
   "metadata": {
    "scrolled": true
   },
   "outputs": [
    {
     "data": {
      "text/html": [
       "<div>\n",
       "<style scoped>\n",
       "    .dataframe tbody tr th:only-of-type {\n",
       "        vertical-align: middle;\n",
       "    }\n",
       "\n",
       "    .dataframe tbody tr th {\n",
       "        vertical-align: top;\n",
       "    }\n",
       "\n",
       "    .dataframe thead th {\n",
       "        text-align: right;\n",
       "    }\n",
       "</style>\n",
       "<table border=\"1\" class=\"dataframe\">\n",
       "  <thead>\n",
       "    <tr style=\"text-align: right;\">\n",
       "      <th></th>\n",
       "      <th>0</th>\n",
       "    </tr>\n",
       "  </thead>\n",
       "  <tbody>\n",
       "    <tr>\n",
       "      <th>us</th>\n",
       "      <td>13910</td>\n",
       "    </tr>\n",
       "    <tr>\n",
       "      <th>store</th>\n",
       "      <td>13105</td>\n",
       "    </tr>\n",
       "    <tr>\n",
       "      <th>market</th>\n",
       "      <td>9251</td>\n",
       "    </tr>\n",
       "    <tr>\n",
       "      <th>prices</th>\n",
       "      <td>7844</td>\n",
       "    </tr>\n",
       "    <tr>\n",
       "      <th>food</th>\n",
       "      <td>7481</td>\n",
       "    </tr>\n",
       "    <tr>\n",
       "      <th>goods</th>\n",
       "      <td>6597</td>\n",
       "    </tr>\n",
       "    <tr>\n",
       "      <th>customer</th>\n",
       "      <td>6179</td>\n",
       "    </tr>\n",
       "    <tr>\n",
       "      <th>people</th>\n",
       "      <td>5547</td>\n",
       "    </tr>\n",
       "    <tr>\n",
       "      <th>toiletpaper</th>\n",
       "      <td>5198</td>\n",
       "    </tr>\n",
       "    <tr>\n",
       "      <th>amp</th>\n",
       "      <td>5187</td>\n",
       "    </tr>\n",
       "  </tbody>\n",
       "</table>\n",
       "</div>"
      ],
      "text/plain": [
       "                 0\n",
       "us           13910\n",
       "store        13105\n",
       "market        9251\n",
       "prices        7844\n",
       "food          7481\n",
       "goods         6597\n",
       "customer      6179\n",
       "people        5547\n",
       "toiletpaper   5198\n",
       "amp           5187"
      ]
     },
     "execution_count": 46,
     "metadata": {},
     "output_type": "execute_result"
    }
   ],
   "source": [
    "tokens = pd.DataFrame(dict(tokenizer.word_counts).values(), index=dict(tokenizer.word_counts).keys())\n",
    "\n",
    "# most used words\n",
    "tokens.sort_values(by=0, ascending=False).iloc[:10]"
   ]
  },
  {
   "cell_type": "markdown",
   "metadata": {},
   "source": [
    "## Modeling\n",
    "### Conv1D"
   ]
  },
  {
   "cell_type": "code",
   "execution_count": null,
   "metadata": {},
   "outputs": [
    {
     "name": "stdout",
     "output_type": "stream",
     "text": [
      "Model: \"sequential\"\n",
      "_________________________________________________________________\n",
      "Layer (type)                 Output Shape              Param #   \n",
      "=================================================================\n",
      "embedding (Embedding)        (None, 25, 32)            1030944   \n",
      "_________________________________________________________________\n",
      "conv1d (Conv1D)              (None, 21, 256)           41216     \n",
      "_________________________________________________________________\n",
      "global_average_pooling1d (Gl (None, 256)               0         \n",
      "_________________________________________________________________\n",
      "dense (Dense)                (None, 128)               32896     \n",
      "_________________________________________________________________\n",
      "dense_1 (Dense)              (None, 5)                 645       \n",
      "=================================================================\n",
      "Total params: 1,105,701\n",
      "Trainable params: 1,105,701\n",
      "Non-trainable params: 0\n",
      "_________________________________________________________________\n",
      "Train on 41157 samples, validate on 3798 samples\n",
      "Epoch 1/3\n"
     ]
    }
   ],
   "source": [
    "embd_dim = 32\n",
    "batch = 32\n",
    "epoch = 3\n",
    "\n",
    "model = tf.keras.models.Sequential([\n",
    "    tf.keras.layers.Embedding(vocab_size+1, embd_dim, input_length=max_len),\n",
    "    tf.keras.layers.Conv1D(embd_dim*8, 5, activation=tf.nn.relu),\n",
    "    tf.keras.layers.GlobalAveragePooling1D(),\n",
    "    tf.keras.layers.Dense(128, activation=tf.nn.relu),\n",
    "    tf.keras.layers.Dense(target_len, activation=tf.nn.sigmoid)\n",
    "])\n",
    "\n",
    "model.summary()\n",
    "model.compile(optimizer='adam', loss=tf.losses.sparse_categorical_crossentropy, metrics=['accuracy'])\n",
    "model.fit(train_corpus, train_target, epochs=epoch, batch_size=batch, validation_data=(test_corpus, test_target))"
   ]
  },
  {
   "cell_type": "markdown",
   "metadata": {},
   "source": [
    "### Bidirectional LSTM"
   ]
  },
  {
   "cell_type": "code",
   "execution_count": null,
   "metadata": {},
   "outputs": [],
   "source": [
    "embd_dim = 32\n",
    "batch = 32\n",
    "epoch = 3\n",
    "\n",
    "model = tf.keras.models.Sequential([\n",
    "    tf.keras.layers.Embedding(vocab_size+1, embd_dim, input_length=max_len),\n",
    "    tf.keras.layers.Bidirectional(tf.keras.layers.LSTM(embd_dim*8)),\n",
    "    tf.keras.layers.Dropout(0.2),\n",
    "    tf.keras.layers.Dense(128, activation=tf.nn.relu),\n",
    "    tf.keras.layers.Dense(target_len, activation=tf.nn.sigmoid)\n",
    "])\n",
    "\n",
    "model.summary()\n",
    "model.compile(optimizer='adam', loss=tf.losses.sparse_categorical_crossentropy, metrics=['accuracy'])\n",
    "model.fit(train_corpus, train_target, epochs=epoch, batch_size=batch, validation_data=(test_corpus, test_target))"
   ]
  },
  {
   "cell_type": "markdown",
   "metadata": {},
   "source": [
    "### Bidirectional GRU"
   ]
  },
  {
   "cell_type": "code",
   "execution_count": null,
   "metadata": {},
   "outputs": [],
   "source": [
    "embd_dim = 32\n",
    "batch = 32\n",
    "epoch = 3\n",
    "\n",
    "model = tf.keras.models.Sequential([\n",
    "    tf.keras.layers.Embedding(vocab_size+1, embd_dim, input_length=max_len),\n",
    "    tf.keras.layers.Bidirectional(tf.keras.layers.GRU(embd_dim*8)),\n",
    "    tf.keras.layers.Dropout(0.2),\n",
    "    tf.keras.layers.Dense(128, activation=tf.nn.relu),\n",
    "    tf.keras.layers.Dense(target_len, activation=tf.nn.sigmoid)\n",
    "])\n",
    "\n",
    "model.summary()\n",
    "model.compile(optimizer='adam', loss=tf.losses.sparse_categorical_crossentropy, metrics=['accuracy'])\n",
    "model.fit(train_corpus, train_target, epochs=epoch, batch_size=batch, validation_data=(test_corpus, test_target))"
   ]
  },
  {
   "cell_type": "markdown",
   "metadata": {},
   "source": [
    "## Evaluate model"
   ]
  },
  {
   "cell_type": "code",
   "execution_count": null,
   "metadata": {},
   "outputs": [],
   "source": [
    "test_predict = np.argmax(model.predict(test_corpus), axis=1)\n",
    "test_df[\"Prediction\"] = sentiment_encoder.inverse_transform(test_predict)\n",
    "test_df[\"Misclassified\"] = (test_eval_df.Sentiment==test_eval_df.Sentiment_pred).astype(int)\n",
    "test_df.head(10)"
   ]
  },
  {
   "cell_type": "code",
   "execution_count": null,
   "metadata": {},
   "outputs": [],
   "source": [
    "test_df.groupby([\"Sentiment\"]).Misclassified.describe()"
   ]
  },
  {
   "cell_type": "code",
   "execution_count": null,
   "metadata": {},
   "outputs": [],
   "source": [
    "test_df.pivot_table(index=\"Sentiment\", columns=\"Prediction\", values=\"Misclassified\", aggfunc=np.sum)"
   ]
  },
  {
   "cell_type": "code",
   "execution_count": null,
   "metadata": {
    "scrolled": true
   },
   "outputs": [],
   "source": [
    "test_predict = np.argmax(model.predict(test_corpus), axis=1)\n",
    "test_predict_df = pd.DataFrame(test_target, columns=[\"target\"])\n",
    "test_predict_df= pd.concat([test_predict_df, pd.get_dummies(test_predict)], axis=1)\n",
    "test_predict_df"
   ]
  },
  {
   "cell_type": "markdown",
   "metadata": {},
   "source": [
    "encoder = {'Extremely Negative': 0,\n",
    "           'Negative': 1,\n",
    "           'Neutral': 2, \n",
    "           'Positive': 3, 'Extremely Positive': 4}"
   ]
  },
  {
   "cell_type": "code",
   "execution_count": null,
   "metadata": {
    "scrolled": false
   },
   "outputs": [],
   "source": [
    "test_eval_df = pd.DataFrame(test_predict_df.groupby(list(test_eval_df.index.names)).size(), columns=[\"count\"])\n",
    "percentage = []\n",
    "for target in range(5):\n",
    "    target_df = test_eval_df.loc[(slice(target, target))]\n",
    "    for pred in range(len(target_df)):\n",
    "        percentage.append(target_df.iloc[pred,0]*100 / target_df.values.sum())\n",
    "test_eval_df[\"percentage\"] = percentage\n",
    "test_eval_df"
   ]
  },
  {
   "cell_type": "markdown",
   "metadata": {},
   "source": [
    "### Observations\n",
    "- Accuracy: Extremely Positive (81%) > Neutral (79%) > Positive (71%) > Negative (68%) = Extremely Negative (68%)\n",
    "    - Positive \n",
    "- Positive and negative tweets are often misclassified as each other, but less as neutral\n",
    "    - Negative tweets have higher possibility to be classified as positive than the other way around\n",
    "    - Negative tweets have higher possibility to be classified as neutral than positive\n",
    "    - Neutral tweets might not have obvious keywords to be classified by\n",
    "- Extreme tweets are often misclassified with the regular/mild tweets, but less with opposite sentiment:\n",
    "    - Extremely positive tweets are often confused with positive tweets\n",
    "    - Extremely positive tweets are less confused with negative or extremely negative tweets\n",
    "    - Extremely negative tweets are often confused with negative tweets\n",
    "    - Extremely negative tweets are less confused with positive or extremely positive tweets\n",
    "        - The extreme keywords might add more weight on sentiment classification\n",
    "        - Consider running corpus through a sentiment classifier then a extreme text classifier\n",
    "- Extremely tweets are less confused with opposite extreme tweets\n",
    "- Some tweets are confused with the opposite sentiment\n",
    "    - Negative tweets are confused with positive tweets\n",
    "    - Positive tweets are confused with negative tweets\n",
    "        - Sarcastic?\n",
    "- Neutral tweets are often misclassified with both negative and positive tweets, slightly more with positive\n",
    "- Neutral tweets are less confused with extreme tweets\n",
    "\n",
    "## Improvements\n",
    "- Add more neutral tweets\n",
    "- Create an extreme sentiment classifier to identify keywords in extreme tweets in addition to sentiment classifier"
   ]
  },
  {
   "cell_type": "markdown",
   "metadata": {},
   "source": [
    "## Export files for TensorFlow Embedding Projector\n",
    "http://projector.tensorflow.org/"
   ]
  },
  {
   "cell_type": "code",
   "execution_count": null,
   "metadata": {},
   "outputs": [],
   "source": [
    "import io\n",
    "embd = model.layers[0]\n",
    "weights = embd.get_weights()[0]\n",
    "reverse_word_index = dict([(value, key) for (key, value) in tokenizer.word_index.items()])\n",
    "out_v = io.open('covid-tweet_vecs.tsv', 'w', encoding='utf-8')\n",
    "out_m = io.open('covid-tweet_meta.tsv', 'w', encoding='utf-8')\n",
    "for word_num in range(1, vocab_size):\n",
    "    word = reverse_word_index[word_num]\n",
    "    embeddings = weights[word_num]\n",
    "    out_m.write(word + \"\\n\")\n",
    "    out_v.write('\\t'.join([str(x) for x in embeddings]) + \"\\n\")\n",
    "out_v.close()\n",
    "out_m.close()"
   ]
  },
  {
   "cell_type": "code",
   "execution_count": null,
   "metadata": {},
   "outputs": [],
   "source": []
  },
  {
   "cell_type": "code",
   "execution_count": null,
   "metadata": {},
   "outputs": [],
   "source": []
  },
  {
   "cell_type": "code",
   "execution_count": null,
   "metadata": {},
   "outputs": [],
   "source": []
  },
  {
   "cell_type": "code",
   "execution_count": null,
   "metadata": {},
   "outputs": [],
   "source": []
  }
 ],
 "metadata": {
  "kernelspec": {
   "display_name": "Python 3",
   "language": "python",
   "name": "python3"
  },
  "language_info": {
   "codemirror_mode": {
    "name": "ipython",
    "version": 3
   },
   "file_extension": ".py",
   "mimetype": "text/x-python",
   "name": "python",
   "nbconvert_exporter": "python",
   "pygments_lexer": "ipython3",
   "version": "3.7.9"
  }
 },
 "nbformat": 4,
 "nbformat_minor": 4
}
