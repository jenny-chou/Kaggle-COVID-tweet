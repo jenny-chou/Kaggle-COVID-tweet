{
 "cells": [
  {
   "cell_type": "markdown",
   "metadata": {},
   "source": [
    "# Kaggle: COVID Tweet Sentiment Classification - Alternative Approach\n",
    "\n",
    "This is a solution for Kaggle project: https://www.kaggle.com/datatattle/covid-19-nlp-text-classification\n",
    "\n",
    "This notebook takes different NLP approach based on observations in Covid-tweets-sentiment_method1 notebook.\n",
    "\n",
    "Twitter is a place to express thoughts and ideas and spread news and information, thus makes it a great source to track trends worldwide. Through the collected tweets, we can evaluate people's attitude toward Covid and pandemic through the trending keywords and tags through time. The estimator can be useful for identifying inappropriate tweets and stop toxic propaganda or evaluating strategies to promote social distancing using trend words.\n",
    "\n",
    "The task is to classify tweet sentiments in given tweets.\n",
    "\n",
    "This notebook takes the approach of training multiple classifiers to identify tweet sentiment:\n",
    "1. Sentiment classifier: combine extremely positive with positive and extremely negative with negative, and classify positive, negative, and neutral tweets.\n",
    "2. Extremely positive classifier: from the predicted positive tweets, classify extreme tweets.\n",
    "3. Extremely negative classifier: from the predicted negative tweets, classify extreme tweets.\n",
    "\n",
    "Data has following columns:\n",
    "\n",
    "|Column |Notes |\n",
    "|:------|:-------|\n",
    "UserName | User ID\n",
    "ScreenName| User display name\n",
    "Location | User location\n",
    "TweetAt | Date\n",
    "OriginalTweet | Tweet content\n",
    "Sentiment | Extremely negative, Negative, Neutral, Positive, Extremely positive"
   ]
  },
  {
   "cell_type": "markdown",
   "metadata": {},
   "source": [
    "## Load modules"
   ]
  },
  {
   "cell_type": "code",
   "execution_count": 1,
   "metadata": {},
   "outputs": [],
   "source": [
    "import pandas as pd\n",
    "import numpy as np\n",
    "import tensorflow as tf\n",
    "import sklearn\n",
    "from sklearn.preprocessing import LabelEncoder\n",
    "import datetime\n",
    "import matplotlib.pyplot as plt\n",
    "import seaborn as sns\n",
    "\n",
    "import nltk\n",
    "import json\n",
    "import requests\n",
    "import re\n",
    "import string\n",
    "\n",
    "pd.options.display.max_colwidth = 100"
   ]
  },
  {
   "cell_type": "markdown",
   "metadata": {},
   "source": [
    "## Load data"
   ]
  },
  {
   "cell_type": "code",
   "execution_count": 2,
   "metadata": {},
   "outputs": [],
   "source": [
    "train_df = pd.read_csv(\"Corona_NLP_train.csv\", header=0, encoding='latin1')\n",
    "test_df = pd.read_csv(\"Corona_NLP_test.csv\", header=0, encoding='latin1')"
   ]
  },
  {
   "cell_type": "markdown",
   "metadata": {},
   "source": [
    "## Clean data\n",
    "### Handle useless column\n",
    "Both UserName and ScreenName identify a user. We don't need both."
   ]
  },
  {
   "cell_type": "code",
   "execution_count": 3,
   "metadata": {},
   "outputs": [],
   "source": [
    "train_df.drop(columns=\"ScreenName\", inplace=True)\n",
    "test_df.drop(columns=\"ScreenName\", inplace=True)\n",
    "train_df.set_index(\"UserName\", inplace=True)\n",
    "test_df.set_index(\"UserName\", inplace=True)"
   ]
  },
  {
   "cell_type": "markdown",
   "metadata": {},
   "source": [
    "### Encode sentiment\n",
    "Two encoders needed:\n",
    "1. Sentiment encoder: encodes Extremely Negative with same label as Negative and Extremely Positive with same label as Positive\n",
    "2. Extreme text encoder: encodes extreme tweets as 1 and regular tweets as 0"
   ]
  },
  {
   "cell_type": "code",
   "execution_count": 4,
   "metadata": {},
   "outputs": [],
   "source": [
    "sentiment_encoder = {'Extremely Negative': 0,\n",
    "                     'Negative': 0,\n",
    "                     'Neutral': 1, \n",
    "                     'Positive': 2,\n",
    "                     'Extremely Positive': 2}\n",
    "           \n",
    "train_df[\"Sentiment_encode\"] = train_df.Sentiment.map(sentiment_encoder)\n",
    "test_df[\"Sentiment_encode\"] = test_df.Sentiment.map(sentiment_encoder)"
   ]
  },
  {
   "cell_type": "code",
   "execution_count": 5,
   "metadata": {},
   "outputs": [],
   "source": [
    "extreme_txt_encoder = {'Extremely Negative': 1,\n",
    "                      'Negative': 0,\n",
    "                      'Neutral': 0,  \n",
    "                      'Positive': 0,\n",
    "                      'Extremely Positive': 1}\n",
    "\n",
    "train_df[\"Extreme_txt_encode\"] = train_df.Sentiment.map(extreme_txt_encoder)\n",
    "test_df[\"Extreme_txt_encode\"] = test_df.Sentiment.map(extreme_txt_encoder)"
   ]
  },
  {
   "cell_type": "markdown",
   "metadata": {},
   "source": [
    "## Frequent Account Tags"
   ]
  },
  {
   "cell_type": "markdown",
   "metadata": {},
   "source": [
    "Keep most frquent @:"
   ]
  },
  {
   "cell_type": "code",
   "execution_count": 6,
   "metadata": {},
   "outputs": [],
   "source": [
    "tag_list = []\n",
    "for tweet in train_df.index.values:\n",
    "    tag_list += re.findall(r'@\\w+', train_df.loc[tweet, \"OriginalTweet\"])\n",
    "    \n",
    "tag_df = pd.DataFrame(tag_list)\n",
    "tag_sort = pd.DataFrame(tag_df.value_counts(ascending=False))\n",
    "\n",
    "top_tags = [acct[0] for acct in tag_sort.index.values[:10]]"
   ]
  },
  {
   "cell_type": "markdown",
   "metadata": {},
   "source": [
    "## Frequent Hashtags"
   ]
  },
  {
   "cell_type": "markdown",
   "metadata": {},
   "source": [
    "Keep most frequent hashtags:"
   ]
  },
  {
   "cell_type": "code",
   "execution_count": 7,
   "metadata": {
    "scrolled": true
   },
   "outputs": [],
   "source": [
    "hash_list = []\n",
    "for tweet in train_df.index.values:\n",
    "    hash_list += re.findall(r'#\\w+', train_df.loc[tweet, \"OriginalTweet\"])\n",
    "    \n",
    "hash_df = pd.DataFrame(hash_list)\n",
    "hash_sort = pd.DataFrame(hash_df.value_counts(ascending=False))\n",
    "\n",
    "top_hashtags = [tag[0] for tag in hash_sort.index.values[:30] \n",
    "                if \"covid\" not in tag[0].lower() and \"corona\" not in tag[0].lower()]"
   ]
  },
  {
   "cell_type": "markdown",
   "metadata": {},
   "source": [
    "## Stop words"
   ]
  },
  {
   "cell_type": "code",
   "execution_count": 8,
   "metadata": {},
   "outputs": [
    {
     "name": "stderr",
     "output_type": "stream",
     "text": [
      "[nltk_data] Downloading package stopwords to\n",
      "[nltk_data]     C:\\Users\\jenny\\AppData\\Roaming\\nltk_data...\n",
      "[nltk_data]   Package stopwords is already up-to-date!\n"
     ]
    }
   ],
   "source": [
    "nltk.download('stopwords')\n",
    "stop_words = list(set(nltk.corpus.stopwords.words('english')))\n",
    "stop_words += [\"a\", \"b\", \"c\", \"d\", \"e\", \"f\", \"g\", \"h\", \"i\", \"j\", \"l\", \"m\", \"n\", \"o\", \"p\", \"q\", \"r\", \n",
    "               \"s\", \"t\", \"u\", \"v\", \"w\", \"x\", \"y\", \"z\"]\n",
    "stop_words += [\"in\", \"on\", \"at\", \"via\", \"due\", \"one\", \"two\", \"etc\", \"per\"]"
   ]
  },
  {
   "cell_type": "markdown",
   "metadata": {},
   "source": [
    "## Examine tokens\n",
    "After one round of training, examine and normalize tokens. \n",
    "\n",
    "1. Stemming is the process of eliminating affixes (suffixed, prefixes, infixes, circumfixes) from a word in order to obtain a word stem.\n",
    "    - Example: running → run\n",
    "2. Lemmatization is related to stemming, differing in that lemmatization is able to capture canonical forms based on a word's lemma.\n",
    "    - Example: better → good"
   ]
  },
  {
   "cell_type": "markdown",
   "metadata": {},
   "source": [
    "## Stemming"
   ]
  },
  {
   "cell_type": "code",
   "execution_count": 9,
   "metadata": {},
   "outputs": [],
   "source": [
    "stemming_dict = {\"buying\":\"buy\", \"bought\":\"buy\", \"working\":\"work\", \"worked\":\"work\", \"shopping\":\"shop\", \"shopped\":\"shop\",\n",
    "                 \"shops\":\"shop\", \"days\":\"day\", \"weeks\":\"week\", \"masks\":\"mask\", \"got\":\"get\", \"gets\":\"get\", \n",
    "                 \"supermarkets\":\"supermarket\", \"says\":\"say\", \"saying\":\"say\", \"said\":\"say\", \"getting\":\"get\", \"gets\":\"get\", \n",
    "                 \"got\":\"get\", \"making\":\"make\", \"made\":\"make\", \"services\":\"service\", \"hours\":\"hour\", \"years\":\"year\", \n",
    "                 \"increases\":\"increase\", \"increased\":\"increase\", \"markets\":\"market\", \"close\":\"closed\", \"needs\":\"need\",\n",
    "                 \"needed\":\"need\", \"hands\":\"hand\", \"stores\":\"store\", \"employees\":\"employee\", \"workers\":\"worker\", \n",
    "                 \"staffs\":\"staff\", \"businesses\":\"business\", \"companies\":\"company\", \"consumers\":\"consumer\", \n",
    "                 \"customers\":\"customer\", \"products\":\"product\", \"going\":\"go\", \"went\":\"go\"}"
   ]
  },
  {
   "cell_type": "markdown",
   "metadata": {},
   "source": [
    "## Lemmatization"
   ]
  },
  {
   "cell_type": "code",
   "execution_count": 10,
   "metadata": {},
   "outputs": [],
   "source": [
    "lemmatization_dict = {\"shop\":\"store\", \"supermarket\":\"market\", \"much\":\"many\", \"employee\":\"worker\", \"staff\":\"worker\", \n",
    "                      \"global\":\"world\", \"company\":\"business\", \"consumer\":\"customer\", \"house\":\"home\", \"grocery\":\"goods\",\n",
    "                      \"products\":\"goods\", \"toilet\":\"toiletpaper\", \"paper\":\"toiletpaper\"}"
   ]
  },
  {
   "cell_type": "markdown",
   "metadata": {},
   "source": [
    "## Location dictionary"
   ]
  },
  {
   "cell_type": "code",
   "execution_count": 11,
   "metadata": {},
   "outputs": [],
   "source": [
    "# Below files are used for data cleaning - Retrieving countries with help of city codes/state codes...(optional)\n",
    "states = json.loads(requests.get(\"https://raw.githubusercontent.com/praneshsaminathan/country-state-city/master/states.json\").text)\n",
    "countries=json.loads(requests.get(\"https://raw.githubusercontent.com/praneshsaminathan/country-state-city/master/countries.json\").text)\n",
    "cities=json.loads(requests.get(\"https://raw.githubusercontent.com/praneshsaminathan/country-state-city/master/cities.json\").text)\n",
    "us_states_code=pd.read_csv('https://worldpopulationreview.com/static/states/abbr-name.csv',names=['state_code','state'])\n",
    "\n",
    "states = states[\"states\"]\n",
    "countries = countries[\"countries\"]\n",
    "cities = cities[\"cities\"]"
   ]
  },
  {
   "cell_type": "code",
   "execution_count": 12,
   "metadata": {
    "scrolled": true
   },
   "outputs": [],
   "source": [
    "world_dict = {}\n",
    "    \n",
    "for city in cities:\n",
    "    state_id = int(re.findall(r'\\d+', city[\"state_id\"])[0])\n",
    "    country_id = states[state_id-1][\"country_id\"]\n",
    "    country_id = int(re.findall(r'\\d+', country_id)[0])\n",
    "    country_name = countries[country_id-1][\"sortname\"]\n",
    "    world_dict[city[\"name\"].lower()] = country_name.lower()\n",
    "    \n",
    "for state in states:\n",
    "    country_id = int(re.findall(r'\\d+', state[\"country_id\"])[0])\n",
    "    country_name = countries[country_id-1][\"sortname\"]\n",
    "    world_dict[state[\"name\"].lower()] = country_name.lower()\n",
    "    \n",
    "for country in countries:    \n",
    "    world_dict[country[\"sortname\"].lower()] = country[\"sortname\"].lower()\n",
    "    world_dict[country[\"name\"].lower()] = country[\"sortname\"].lower()\n",
    "    \n",
    "for index in us_states_code.index:\n",
    "    state = us_states_code.loc[index]\n",
    "    world_dict[state.state_code.lower()] = \"us\"\n",
    "    world_dict[state.state.lower()] = \"us\"\n",
    "    \n",
    "world_dict[\"uk\"] = \"gb\"\n",
    "world_dict[\"ny\"] = \"us\"\n",
    "world_dict[\"nyc\"] = \"us\"\n",
    "world_dict[\"la\"] = \"us\"\n",
    "world_dict[\"sf\"] = \"us\"\n",
    "world_dict[\"bc\"] = \"ca\""
   ]
  },
  {
   "cell_type": "markdown",
   "metadata": {},
   "source": [
    "## Clean sentence functions"
   ]
  },
  {
   "cell_type": "code",
   "execution_count": 13,
   "metadata": {},
   "outputs": [],
   "source": [
    "def remove_link(sentence):\n",
    "    return re.sub(r'http\\S+', \" \", sentence)\n",
    "\n",
    "def remove_tag(sentence):\n",
    "    keep_tag = []\n",
    "    for tag in top_tags:\n",
    "        keep_tag += re.findall(tag, sentence)        \n",
    "    sentence = re.sub(r'@\\S+', \" \", sentence)    \n",
    "    for tag in keep_tag:\n",
    "        sentence += \" \" + tag        \n",
    "    return sentence\n",
    "    \n",
    "def remove_hashtag(sentence):\n",
    "    keep_tag = []\n",
    "    for tag in top_hashtags:\n",
    "        keep_tag += re.findall(tag, sentence)        \n",
    "    sentence = re.sub(r'#\\S+', \" \", sentence)    \n",
    "    for tag in keep_tag:\n",
    "        sentence += \" \" + tag        \n",
    "    return sentence\n",
    "    \n",
    "def remove_special_char(sentence):\n",
    "    for special_ch in (string.punctuation + \"0123456789\" + \"\\r\" + \"\\n\"):\n",
    "        sentence = sentence.replace(special_ch, \" \")\n",
    "    return sentence\n",
    "\n",
    "def remove_non_english(sentence):\n",
    "    clean_sentence = \"\"\n",
    "    for word in sentence.split():\n",
    "        clean_sentence += str(np.where(word.isalpha(), (word + \" \"), \"\"))\n",
    "    return clean_sentence\n",
    "\n",
    "def remove_stop_words(sentence):\n",
    "    for word in [\"covid\", \"corona\", \"virus\"]:\n",
    "        sentence = re.sub(word, \" \", sentence)\n",
    "    sentence = [word for word in sentence.split() if word not in stop_words]\n",
    "    return \" \".join(sentence)\n",
    "\n",
    "def stemming_and_lemmatization(sentence):\n",
    "    clean_sentence = []\n",
    "    for word in sentence.split():\n",
    "        if word in stemming_dict:\n",
    "            word = stemming_dict[word]\n",
    "        if word in lemmatization_dict:\n",
    "            word = lemmatization_dict[word]\n",
    "        clean_sentence.append(word)    \n",
    "    return \" \".join(clean_sentence)\n",
    "\n",
    "def clean_sentence(sentence):\n",
    "    sentence = remove_link(sentence)\n",
    "    sentence = remove_tag(sentence)\n",
    "    sentence = remove_hashtag(sentence)\n",
    "    sentence = remove_special_char(sentence)\n",
    "    sentence = remove_non_english(sentence)\n",
    "    sentence = remove_stop_words(sentence)\n",
    "    sentence = stemming_and_lemmatization(sentence)\n",
    "    return sentence"
   ]
  },
  {
   "cell_type": "markdown",
   "metadata": {},
   "source": [
    "## Clean OriginalTweet"
   ]
  },
  {
   "cell_type": "code",
   "execution_count": 14,
   "metadata": {},
   "outputs": [],
   "source": [
    "def clean_original_tweet(df):\n",
    "    clean_tweet = []\n",
    "    loc_final_list = []\n",
    "\n",
    "    for tweet in df.index.values:\n",
    "        # clean location\n",
    "        loc_final, loc_clean = \"\", \"\"\n",
    "        if not pd.isnull(df.Location.loc[tweet]):\n",
    "            loc_clean = df.Location.astype(str).loc[tweet].lower()\n",
    "            loc_clean = clean_sentence(loc_clean)\n",
    "            for sub in loc_clean.split():\n",
    "                if sub in world_dict:\n",
    "                    loc_final = world_dict[sub]\n",
    "                    break\n",
    "            # add to list if not empty\n",
    "            if loc_final:\n",
    "                loc_final_list.append(loc_final)\n",
    "\n",
    "        # clean message\n",
    "        msg = df.OriginalTweet.astype(str).loc[tweet].lower()\n",
    "        msg = clean_sentence(msg)\n",
    "\n",
    "        # combine location and message to one sentence\n",
    "        clean_tweet.append(loc_final + \" \" + msg)\n",
    "\n",
    "    df['CleanTweet'] = clean_tweet\n",
    "    \n",
    "    return clean_tweet, loc_final_list"
   ]
  },
  {
   "cell_type": "code",
   "execution_count": 15,
   "metadata": {
    "scrolled": true
   },
   "outputs": [],
   "source": [
    "clean_tweet, loc_final_list = clean_original_tweet(train_df)\n",
    "dummy = clean_original_tweet(test_df)"
   ]
  },
  {
   "cell_type": "code",
   "execution_count": 16,
   "metadata": {},
   "outputs": [
    {
     "data": {
      "text/html": [
       "<div>\n",
       "<style scoped>\n",
       "    .dataframe tbody tr th:only-of-type {\n",
       "        vertical-align: middle;\n",
       "    }\n",
       "\n",
       "    .dataframe tbody tr th {\n",
       "        vertical-align: top;\n",
       "    }\n",
       "\n",
       "    .dataframe thead th {\n",
       "        text-align: right;\n",
       "    }\n",
       "</style>\n",
       "<table border=\"1\" class=\"dataframe\">\n",
       "  <thead>\n",
       "    <tr style=\"text-align: right;\">\n",
       "      <th></th>\n",
       "      <th>Location</th>\n",
       "      <th>TweetAt</th>\n",
       "      <th>OriginalTweet</th>\n",
       "      <th>Sentiment</th>\n",
       "      <th>Sentiment_encode</th>\n",
       "      <th>Extreme_txt_encode</th>\n",
       "      <th>CleanTweet</th>\n",
       "    </tr>\n",
       "    <tr>\n",
       "      <th>UserName</th>\n",
       "      <th></th>\n",
       "      <th></th>\n",
       "      <th></th>\n",
       "      <th></th>\n",
       "      <th></th>\n",
       "      <th></th>\n",
       "      <th></th>\n",
       "    </tr>\n",
       "  </thead>\n",
       "  <tbody>\n",
       "    <tr>\n",
       "      <th>3799</th>\n",
       "      <td>London</td>\n",
       "      <td>16-03-2020</td>\n",
       "      <td>@MeNyrbie @Phil_Gahan @Chrisitv https://t.co/iFz9FAn2Pa and https://t.co/xX6ghGFzCC and https://...</td>\n",
       "      <td>Neutral</td>\n",
       "      <td>1</td>\n",
       "      <td>0</td>\n",
       "      <td>gb</td>\n",
       "    </tr>\n",
       "    <tr>\n",
       "      <th>3800</th>\n",
       "      <td>UK</td>\n",
       "      <td>16-03-2020</td>\n",
       "      <td>advice Talk to your neighbours family to exchange phone numbers create contact list with phone n...</td>\n",
       "      <td>Positive</td>\n",
       "      <td>2</td>\n",
       "      <td>0</td>\n",
       "      <td>gb advice talk neighbours family exchange phone numbers create contact list phone numbers neighb...</td>\n",
       "    </tr>\n",
       "    <tr>\n",
       "      <th>3801</th>\n",
       "      <td>Vagabonds</td>\n",
       "      <td>16-03-2020</td>\n",
       "      <td>Coronavirus Australia: Woolworths to give elderly, disabled dedicated shopping hours amid COVID-...</td>\n",
       "      <td>Positive</td>\n",
       "      <td>2</td>\n",
       "      <td>0</td>\n",
       "      <td>australia woolworths give elderly disabled dedicated store hour amid outbreak</td>\n",
       "    </tr>\n",
       "    <tr>\n",
       "      <th>3802</th>\n",
       "      <td>NaN</td>\n",
       "      <td>16-03-2020</td>\n",
       "      <td>My food stock is not the only one which is empty...\\r\\r\\n\\r\\r\\nPLEASE, don't panic, THERE WILL B...</td>\n",
       "      <td>Positive</td>\n",
       "      <td>2</td>\n",
       "      <td>0</td>\n",
       "      <td>food stock empty please panic enough food everyone take need stay calm stay safe</td>\n",
       "    </tr>\n",
       "    <tr>\n",
       "      <th>3803</th>\n",
       "      <td>NaN</td>\n",
       "      <td>16-03-2020</td>\n",
       "      <td>Me, ready to go at supermarket during the #COVID19 outbreak.\\r\\r\\n\\r\\r\\nNot because I'm paranoid...</td>\n",
       "      <td>Extremely Negative</td>\n",
       "      <td>0</td>\n",
       "      <td>1</td>\n",
       "      <td>ready go market outbreak paranoid food stock litteraly empty serious thing please panic causes ...</td>\n",
       "    </tr>\n",
       "  </tbody>\n",
       "</table>\n",
       "</div>"
      ],
      "text/plain": [
       "           Location     TweetAt  \\\n",
       "UserName                          \n",
       "3799         London  16-03-2020   \n",
       "3800             UK  16-03-2020   \n",
       "3801      Vagabonds  16-03-2020   \n",
       "3802            NaN  16-03-2020   \n",
       "3803            NaN  16-03-2020   \n",
       "\n",
       "                                                                                                OriginalTweet  \\\n",
       "UserName                                                                                                        \n",
       "3799      @MeNyrbie @Phil_Gahan @Chrisitv https://t.co/iFz9FAn2Pa and https://t.co/xX6ghGFzCC and https://...   \n",
       "3800      advice Talk to your neighbours family to exchange phone numbers create contact list with phone n...   \n",
       "3801      Coronavirus Australia: Woolworths to give elderly, disabled dedicated shopping hours amid COVID-...   \n",
       "3802      My food stock is not the only one which is empty...\\r\\r\\n\\r\\r\\nPLEASE, don't panic, THERE WILL B...   \n",
       "3803      Me, ready to go at supermarket during the #COVID19 outbreak.\\r\\r\\n\\r\\r\\nNot because I'm paranoid...   \n",
       "\n",
       "                   Sentiment  Sentiment_encode  Extreme_txt_encode  \\\n",
       "UserName                                                             \n",
       "3799                 Neutral                 1                   0   \n",
       "3800                Positive                 2                   0   \n",
       "3801                Positive                 2                   0   \n",
       "3802                Positive                 2                   0   \n",
       "3803      Extremely Negative                 0                   1   \n",
       "\n",
       "                                                                                                   CleanTweet  \n",
       "UserName                                                                                                       \n",
       "3799                                                                                                      gb   \n",
       "3800      gb advice talk neighbours family exchange phone numbers create contact list phone numbers neighb...  \n",
       "3801                            australia woolworths give elderly disabled dedicated store hour amid outbreak  \n",
       "3802                         food stock empty please panic enough food everyone take need stay calm stay safe  \n",
       "3803       ready go market outbreak paranoid food stock litteraly empty serious thing please panic causes ...  "
      ]
     },
     "execution_count": 16,
     "metadata": {},
     "output_type": "execute_result"
    }
   ],
   "source": [
    "train_df.head()"
   ]
  },
  {
   "cell_type": "code",
   "execution_count": 17,
   "metadata": {},
   "outputs": [
    {
     "data": {
      "text/html": [
       "<div>\n",
       "<style scoped>\n",
       "    .dataframe tbody tr th:only-of-type {\n",
       "        vertical-align: middle;\n",
       "    }\n",
       "\n",
       "    .dataframe tbody tr th {\n",
       "        vertical-align: top;\n",
       "    }\n",
       "\n",
       "    .dataframe thead th {\n",
       "        text-align: right;\n",
       "    }\n",
       "</style>\n",
       "<table border=\"1\" class=\"dataframe\">\n",
       "  <thead>\n",
       "    <tr style=\"text-align: right;\">\n",
       "      <th></th>\n",
       "      <th>Location</th>\n",
       "      <th>TweetAt</th>\n",
       "      <th>OriginalTweet</th>\n",
       "      <th>Sentiment</th>\n",
       "      <th>Sentiment_encode</th>\n",
       "      <th>Extreme_txt_encode</th>\n",
       "      <th>CleanTweet</th>\n",
       "    </tr>\n",
       "    <tr>\n",
       "      <th>UserName</th>\n",
       "      <th></th>\n",
       "      <th></th>\n",
       "      <th></th>\n",
       "      <th></th>\n",
       "      <th></th>\n",
       "      <th></th>\n",
       "      <th></th>\n",
       "    </tr>\n",
       "  </thead>\n",
       "  <tbody>\n",
       "    <tr>\n",
       "      <th>1</th>\n",
       "      <td>NYC</td>\n",
       "      <td>02-03-2020</td>\n",
       "      <td>TRENDING: New Yorkers encounter empty supermarket shelves (pictured, Wegmans in Brooklyn), sold-...</td>\n",
       "      <td>Extremely Negative</td>\n",
       "      <td>0</td>\n",
       "      <td>1</td>\n",
       "      <td>us trending new yorkers encounter empty market shelves pictured wegmans brooklyn sold online gro...</td>\n",
       "    </tr>\n",
       "    <tr>\n",
       "      <th>2</th>\n",
       "      <td>Seattle, WA</td>\n",
       "      <td>02-03-2020</td>\n",
       "      <td>When I couldn't find hand sanitizer at Fred Meyer, I turned to #Amazon. But $114.97 for a 2 pack...</td>\n",
       "      <td>Positive</td>\n",
       "      <td>2</td>\n",
       "      <td>0</td>\n",
       "      <td>us find hand sanitizer fred meyer turned pack purell check concerns driving prices</td>\n",
       "    </tr>\n",
       "    <tr>\n",
       "      <th>3</th>\n",
       "      <td>NaN</td>\n",
       "      <td>02-03-2020</td>\n",
       "      <td>Find out how you can protect yourself and loved ones from #coronavirus. ?</td>\n",
       "      <td>Extremely Positive</td>\n",
       "      <td>2</td>\n",
       "      <td>1</td>\n",
       "      <td>find protect loved ones</td>\n",
       "    </tr>\n",
       "    <tr>\n",
       "      <th>4</th>\n",
       "      <td>Chicagoland</td>\n",
       "      <td>02-03-2020</td>\n",
       "      <td>#Panic buying hits #NewYork City as anxious shoppers stock up on food&amp;amp;medical supplies after...</td>\n",
       "      <td>Negative</td>\n",
       "      <td>0</td>\n",
       "      <td>0</td>\n",
       "      <td>buy hits city anxious shoppers stock food amp medical supplies worker becomes st confirmed pati...</td>\n",
       "    </tr>\n",
       "    <tr>\n",
       "      <th>5</th>\n",
       "      <td>Melbourne, Victoria</td>\n",
       "      <td>03-03-2020</td>\n",
       "      <td>#toiletpaper #dunnypaper #coronavirus #coronavirusaustralia #CoronaVirusUpdate #Covid_19 #9News ...</td>\n",
       "      <td>Neutral</td>\n",
       "      <td>1</td>\n",
       "      <td>0</td>\n",
       "      <td>au week everyone buy baby milk powder next everyone buy toiletpaper toiletpaper toiletpaper</td>\n",
       "    </tr>\n",
       "  </tbody>\n",
       "</table>\n",
       "</div>"
      ],
      "text/plain": [
       "                     Location     TweetAt  \\\n",
       "UserName                                    \n",
       "1                         NYC  02-03-2020   \n",
       "2                 Seattle, WA  02-03-2020   \n",
       "3                         NaN  02-03-2020   \n",
       "4                 Chicagoland  02-03-2020   \n",
       "5         Melbourne, Victoria  03-03-2020   \n",
       "\n",
       "                                                                                                OriginalTweet  \\\n",
       "UserName                                                                                                        \n",
       "1         TRENDING: New Yorkers encounter empty supermarket shelves (pictured, Wegmans in Brooklyn), sold-...   \n",
       "2         When I couldn't find hand sanitizer at Fred Meyer, I turned to #Amazon. But $114.97 for a 2 pack...   \n",
       "3                                   Find out how you can protect yourself and loved ones from #coronavirus. ?   \n",
       "4         #Panic buying hits #NewYork City as anxious shoppers stock up on food&amp;medical supplies after...   \n",
       "5         #toiletpaper #dunnypaper #coronavirus #coronavirusaustralia #CoronaVirusUpdate #Covid_19 #9News ...   \n",
       "\n",
       "                   Sentiment  Sentiment_encode  Extreme_txt_encode  \\\n",
       "UserName                                                             \n",
       "1         Extremely Negative                 0                   1   \n",
       "2                   Positive                 2                   0   \n",
       "3         Extremely Positive                 2                   1   \n",
       "4                   Negative                 0                   0   \n",
       "5                    Neutral                 1                   0   \n",
       "\n",
       "                                                                                                   CleanTweet  \n",
       "UserName                                                                                                       \n",
       "1         us trending new yorkers encounter empty market shelves pictured wegmans brooklyn sold online gro...  \n",
       "2                          us find hand sanitizer fred meyer turned pack purell check concerns driving prices  \n",
       "3                                                                                     find protect loved ones  \n",
       "4          buy hits city anxious shoppers stock food amp medical supplies worker becomes st confirmed pati...  \n",
       "5                 au week everyone buy baby milk powder next everyone buy toiletpaper toiletpaper toiletpaper  "
      ]
     },
     "execution_count": 17,
     "metadata": {},
     "output_type": "execute_result"
    }
   ],
   "source": [
    "test_df.head()"
   ]
  },
  {
   "cell_type": "markdown",
   "metadata": {},
   "source": [
    "## Training set tweet length"
   ]
  },
  {
   "cell_type": "code",
   "execution_count": 18,
   "metadata": {},
   "outputs": [
    {
     "data": {
      "text/plain": [
       "Text(0.5, 1.0, 'Histogram of length of tweets')"
      ]
     },
     "execution_count": 18,
     "metadata": {},
     "output_type": "execute_result"
    },
    {
     "data": {
      "image/png": "[encoded data removed]",
      "text/plain": [
       "<Figure size 432x288 with 1 Axes>"
      ]
     },
     "metadata": {
      "needs_background": "light"
     },
     "output_type": "display_data"
    }
   ],
   "source": [
    "len_tweet = [len(tweet.split()) for tweet in train_df.CleanTweet]\n",
    "plt.figure()\n",
    "plt.hist(len_tweet, bins=20)\n",
    "plt.title(\"Histogram of length of tweets\")"
   ]
  },
  {
   "cell_type": "markdown",
   "metadata": {},
   "source": [
    "## Test set tweet length"
   ]
  },
  {
   "cell_type": "code",
   "execution_count": 19,
   "metadata": {
    "scrolled": true
   },
   "outputs": [
    {
     "data": {
      "text/plain": [
       "Text(0.5, 1.0, 'Histogram of length of tweets')"
      ]
     },
     "execution_count": 19,
     "metadata": {},
     "output_type": "execute_result"
    },
    {
     "data": {
      "image/png": "[encoded data removed]",
      "text/plain": [
       "<Figure size 432x288 with 1 Axes>"
      ]
     },
     "metadata": {
      "needs_background": "light"
     },
     "output_type": "display_data"
    }
   ],
   "source": [
    "len_tweet = [len(tweet.split()) for tweet in test_df.CleanTweet]\n",
    "plt.figure()\n",
    "plt.hist(len_tweet, bins=20)\n",
    "plt.title(\"Histogram of length of tweets\")"
   ]
  },
  {
   "cell_type": "markdown",
   "metadata": {},
   "source": [
    "## Sentiment Classifier\n",
    "Classify if tweet is positive, neutral, or negative regardless if tweet uses extreme/drastic tones."
   ]
  },
  {
   "cell_type": "markdown",
   "metadata": {},
   "source": [
    "### Tokenize corpus"
   ]
  },
  {
   "cell_type": "code",
   "execution_count": 20,
   "metadata": {},
   "outputs": [
    {
     "name": "stdout",
     "output_type": "stream",
     "text": [
      "32223\n"
     ]
    }
   ],
   "source": [
    "tokenizer = tf.keras.preprocessing.text.Tokenizer(num_words=15000, oov_token=\"<OOV>\")\n",
    "tokenizer.fit_on_texts(train_df.CleanTweet.values)\n",
    "vocab_size = len(tokenizer.word_index)\n",
    "print(vocab_size)\n",
    "\n",
    "max_len = 25\n",
    "\n",
    "sequences = tokenizer.texts_to_sequences(train_df.CleanTweet.values)\n",
    "train_corpus = tf.keras.preprocessing.sequence.pad_sequences(sequences, maxlen=max_len, truncating='post', padding='post')\n",
    "\n",
    "sequences = tokenizer.texts_to_sequences(test_df.CleanTweet.values)\n",
    "test_corpus = tf.keras.preprocessing.sequence.pad_sequences(sequences, maxlen=max_len, truncating='post', padding='post')"
   ]
  },
  {
   "cell_type": "code",
   "execution_count": 21,
   "metadata": {},
   "outputs": [],
   "source": [
    "train_target = train_df.Sentiment_encode.values\n",
    "test_target = test_df.Sentiment_encode.values\n",
    "target_len = len(set(sentiment_encoder.values()))"
   ]
  },
  {
   "cell_type": "code",
   "execution_count": 22,
   "metadata": {},
   "outputs": [
    {
     "data": {
      "text/plain": [
       "((41157, 25), (41157,), (3798, 25), (3798,), 3)"
      ]
     },
     "execution_count": 22,
     "metadata": {},
     "output_type": "execute_result"
    }
   ],
   "source": [
    "train_corpus.shape, train_target.shape, test_corpus.shape, test_target.shape, target_len"
   ]
  },
  {
   "cell_type": "code",
   "execution_count": 23,
   "metadata": {},
   "outputs": [
    {
     "data": {
      "text/plain": [
       "([<matplotlib.axis.XTick at 0x2023e8633c8>,\n",
       "  <matplotlib.axis.XTick at 0x20239a830c8>,\n",
       "  <matplotlib.axis.XTick at 0x2023ec53208>,\n",
       "  <matplotlib.axis.XTick at 0x20239a7e408>,\n",
       "  <matplotlib.axis.XTick at 0x20239a81a08>,\n",
       "  <matplotlib.axis.XTick at 0x2023eca6248>,\n",
       "  <matplotlib.axis.XTick at 0x20239a7b808>,\n",
       "  <matplotlib.axis.XTick at 0x2023ebef888>,\n",
       "  <matplotlib.axis.XTick at 0x20239a82288>,\n",
       "  <matplotlib.axis.XTick at 0x20239a8bac8>,\n",
       "  <matplotlib.axis.XTick at 0x2023ecc0108>],\n",
       " [Text(0.0, 0, 'Negative'),\n",
       "  Text(0.2, 0, ''),\n",
       "  Text(0.4, 0, ''),\n",
       "  Text(0.6, 0, ''),\n",
       "  Text(0.8, 0, ''),\n",
       "  Text(1.0, 0, 'Neutral'),\n",
       "  Text(1.2, 0, ''),\n",
       "  Text(1.4, 0, ''),\n",
       "  Text(1.6, 0, ''),\n",
       "  Text(1.8, 0, ''),\n",
       "  Text(2.0, 0, 'Positive')])"
      ]
     },
     "execution_count": 23,
     "metadata": {},
     "output_type": "execute_result"
    },
    {
     "data": {
      "image/png": "[encoded data removed]",
      "text/plain": [
       "<Figure size 432x288 with 1 Axes>"
      ]
     },
     "metadata": {
      "needs_background": "light"
     },
     "output_type": "display_data"
    }
   ],
   "source": [
    "plt.hist(train_target)\n",
    "plt.title(\"Number of tweets\")\n",
    "plt.xticks([0. , 0.2, 0.4, 0.6, 0.8, 1. , 1.2, 1.4, 1.6, 1.8, 2. ], \n",
    "           [\"Negative\", \"\", \"\", \"\", \"\", \"Neutral\", \"\", \"\", \"\", \"\", \"Positive\"])"
   ]
  },
  {
   "cell_type": "markdown",
   "metadata": {},
   "source": [
    "### Modeling"
   ]
  },
  {
   "cell_type": "code",
   "execution_count": 26,
   "metadata": {
    "scrolled": true
   },
   "outputs": [
    {
     "name": "stdout",
     "output_type": "stream",
     "text": [
      "Train on 41157 samples, validate on 3798 samples\n",
      "Epoch 1/3\n",
      "41157/41157 [==============================] - 39s 945us/sample - loss: 0.6548 - accuracy: 0.7107 - val_loss: 0.4705 - val_accuracy: 0.8294\n",
      "Epoch 2/3\n",
      "41157/41157 [==============================] - 33s 798us/sample - loss: 0.3401 - accuracy: 0.8872 - val_loss: 0.4320 - val_accuracy: 0.8478\n",
      "Epoch 3/3\n",
      "41157/41157 [==============================] - 34s 818us/sample - loss: 0.2642 - accuracy: 0.9150 - val_loss: 0.4547 - val_accuracy: 0.8444\n"
     ]
    },
    {
     "data": {
      "text/plain": [
       "<tensorflow.python.keras.callbacks.History at 0x202d1dd2a48>"
      ]
     },
     "execution_count": 26,
     "metadata": {},
     "output_type": "execute_result"
    }
   ],
   "source": [
    "embd_dim = 32\n",
    "batch = 32\n",
    "epoch = 3\n",
    "\n",
    "sentiment_classifier = tf.keras.models.Sequential([\n",
    "    tf.keras.layers.Embedding(vocab_size+1, embd_dim, input_length=max_len),\n",
    "    tf.keras.layers.Bidirectional(tf.keras.layers.GRU(embd_dim*8)),\n",
    "    tf.keras.layers.Dropout(0.2),\n",
    "    tf.keras.layers.Dense(128, activation=tf.nn.relu),\n",
    "    tf.keras.layers.Dense(target_len, activation=tf.nn.sigmoid)\n",
    "])\n",
    "sentiment_classifier.compile(optimizer='adam', loss=tf.losses.sparse_categorical_crossentropy, metrics=['accuracy'])\n",
    "sentiment_classifier.fit(train_corpus, train_target, epochs=epoch, batch_size=batch, validation_data=(test_corpus, test_target))"
   ]
  },
  {
   "cell_type": "markdown",
   "metadata": {},
   "source": [
    "### Predict"
   ]
  },
  {
   "cell_type": "code",
   "execution_count": 27,
   "metadata": {
    "scrolled": false
   },
   "outputs": [
    {
     "data": {
      "text/html": [
       "<div>\n",
       "<style scoped>\n",
       "    .dataframe tbody tr th:only-of-type {\n",
       "        vertical-align: middle;\n",
       "    }\n",
       "\n",
       "    .dataframe tbody tr th {\n",
       "        vertical-align: top;\n",
       "    }\n",
       "\n",
       "    .dataframe thead th {\n",
       "        text-align: right;\n",
       "    }\n",
       "</style>\n",
       "<table border=\"1\" class=\"dataframe\">\n",
       "  <thead>\n",
       "    <tr style=\"text-align: right;\">\n",
       "      <th></th>\n",
       "      <th>Location</th>\n",
       "      <th>TweetAt</th>\n",
       "      <th>OriginalTweet</th>\n",
       "      <th>Sentiment</th>\n",
       "      <th>Sentiment_encode</th>\n",
       "      <th>Extreme_txt_encode</th>\n",
       "      <th>CleanTweet</th>\n",
       "      <th>Sentiment_pred</th>\n",
       "    </tr>\n",
       "    <tr>\n",
       "      <th>UserName</th>\n",
       "      <th></th>\n",
       "      <th></th>\n",
       "      <th></th>\n",
       "      <th></th>\n",
       "      <th></th>\n",
       "      <th></th>\n",
       "      <th></th>\n",
       "      <th></th>\n",
       "    </tr>\n",
       "  </thead>\n",
       "  <tbody>\n",
       "    <tr>\n",
       "      <th>1</th>\n",
       "      <td>NYC</td>\n",
       "      <td>02-03-2020</td>\n",
       "      <td>TRENDING: New Yorkers encounter empty supermarket shelves (pictured, Wegmans in Brooklyn), sold-...</td>\n",
       "      <td>Extremely Negative</td>\n",
       "      <td>0</td>\n",
       "      <td>1</td>\n",
       "      <td>us trending new yorkers encounter empty market shelves pictured wegmans brooklyn sold online gro...</td>\n",
       "      <td>0</td>\n",
       "    </tr>\n",
       "    <tr>\n",
       "      <th>2</th>\n",
       "      <td>Seattle, WA</td>\n",
       "      <td>02-03-2020</td>\n",
       "      <td>When I couldn't find hand sanitizer at Fred Meyer, I turned to #Amazon. But $114.97 for a 2 pack...</td>\n",
       "      <td>Positive</td>\n",
       "      <td>2</td>\n",
       "      <td>0</td>\n",
       "      <td>us find hand sanitizer fred meyer turned pack purell check concerns driving prices</td>\n",
       "      <td>2</td>\n",
       "    </tr>\n",
       "    <tr>\n",
       "      <th>3</th>\n",
       "      <td>NaN</td>\n",
       "      <td>02-03-2020</td>\n",
       "      <td>Find out how you can protect yourself and loved ones from #coronavirus. ?</td>\n",
       "      <td>Extremely Positive</td>\n",
       "      <td>2</td>\n",
       "      <td>1</td>\n",
       "      <td>find protect loved ones</td>\n",
       "      <td>2</td>\n",
       "    </tr>\n",
       "    <tr>\n",
       "      <th>4</th>\n",
       "      <td>Chicagoland</td>\n",
       "      <td>02-03-2020</td>\n",
       "      <td>#Panic buying hits #NewYork City as anxious shoppers stock up on food&amp;amp;medical supplies after...</td>\n",
       "      <td>Negative</td>\n",
       "      <td>0</td>\n",
       "      <td>0</td>\n",
       "      <td>buy hits city anxious shoppers stock food amp medical supplies worker becomes st confirmed pati...</td>\n",
       "      <td>0</td>\n",
       "    </tr>\n",
       "    <tr>\n",
       "      <th>5</th>\n",
       "      <td>Melbourne, Victoria</td>\n",
       "      <td>03-03-2020</td>\n",
       "      <td>#toiletpaper #dunnypaper #coronavirus #coronavirusaustralia #CoronaVirusUpdate #Covid_19 #9News ...</td>\n",
       "      <td>Neutral</td>\n",
       "      <td>1</td>\n",
       "      <td>0</td>\n",
       "      <td>au week everyone buy baby milk powder next everyone buy toiletpaper toiletpaper toiletpaper</td>\n",
       "      <td>1</td>\n",
       "    </tr>\n",
       "  </tbody>\n",
       "</table>\n",
       "</div>"
      ],
      "text/plain": [
       "                     Location     TweetAt  \\\n",
       "UserName                                    \n",
       "1                         NYC  02-03-2020   \n",
       "2                 Seattle, WA  02-03-2020   \n",
       "3                         NaN  02-03-2020   \n",
       "4                 Chicagoland  02-03-2020   \n",
       "5         Melbourne, Victoria  03-03-2020   \n",
       "\n",
       "                                                                                                OriginalTweet  \\\n",
       "UserName                                                                                                        \n",
       "1         TRENDING: New Yorkers encounter empty supermarket shelves (pictured, Wegmans in Brooklyn), sold-...   \n",
       "2         When I couldn't find hand sanitizer at Fred Meyer, I turned to #Amazon. But $114.97 for a 2 pack...   \n",
       "3                                   Find out how you can protect yourself and loved ones from #coronavirus. ?   \n",
       "4         #Panic buying hits #NewYork City as anxious shoppers stock up on food&amp;medical supplies after...   \n",
       "5         #toiletpaper #dunnypaper #coronavirus #coronavirusaustralia #CoronaVirusUpdate #Covid_19 #9News ...   \n",
       "\n",
       "                   Sentiment  Sentiment_encode  Extreme_txt_encode  \\\n",
       "UserName                                                             \n",
       "1         Extremely Negative                 0                   1   \n",
       "2                   Positive                 2                   0   \n",
       "3         Extremely Positive                 2                   1   \n",
       "4                   Negative                 0                   0   \n",
       "5                    Neutral                 1                   0   \n",
       "\n",
       "                                                                                                   CleanTweet  \\\n",
       "UserName                                                                                                        \n",
       "1         us trending new yorkers encounter empty market shelves pictured wegmans brooklyn sold online gro...   \n",
       "2                          us find hand sanitizer fred meyer turned pack purell check concerns driving prices   \n",
       "3                                                                                     find protect loved ones   \n",
       "4          buy hits city anxious shoppers stock food amp medical supplies worker becomes st confirmed pati...   \n",
       "5                 au week everyone buy baby milk powder next everyone buy toiletpaper toiletpaper toiletpaper   \n",
       "\n",
       "          Sentiment_pred  \n",
       "UserName                  \n",
       "1                      0  \n",
       "2                      2  \n",
       "3                      2  \n",
       "4                      0  \n",
       "5                      1  "
      ]
     },
     "execution_count": 27,
     "metadata": {},
     "output_type": "execute_result"
    }
   ],
   "source": [
    "test_predict = np.argmax(sentiment_classifier.predict(test_corpus), axis=1)\n",
    "test_df['Sentiment_pred'] = test_predict\n",
    "test_df.head()"
   ]
  },
  {
   "cell_type": "markdown",
   "metadata": {},
   "source": [
    "After we classified the sentiment of tweets in test set, next is to classify the extreme tweets. We'll keep the possible neutral tweet corpus as is.\n",
    "\n",
    "## Extreme Text Classifier\n",
    "\n",
    "## Extremely positive  tweet classifier\n",
    "\n",
    "Traing classifier to identify extreme tweets in the previously classified positive tweets.\n",
    "\n",
    "### Tokenize corpus\n",
    "\n",
    "Tokenize Extremely Positive and Positive corpus in training set and transform test set."
   ]
  },
  {
   "cell_type": "code",
   "execution_count": 28,
   "metadata": {},
   "outputs": [
    {
     "name": "stdout",
     "output_type": "stream",
     "text": [
      "21450\n"
     ]
    }
   ],
   "source": [
    "train = train_df[train_df.Sentiment_encode==2]\n",
    "test = test_df[test_df.Sentiment_pred==2]\n",
    "\n",
    "tokenizer = tf.keras.preprocessing.text.Tokenizer(num_words=10000, oov_token=\"<OOV>\")\n",
    "tokenizer.fit_on_texts(train.CleanTweet.values)\n",
    "vocab_size = len(tokenizer.word_index)\n",
    "print(vocab_size)\n",
    "\n",
    "max_len = 25\n",
    "\n",
    "sequences = tokenizer.texts_to_sequences(train.CleanTweet.values)\n",
    "train_corpus = tf.keras.preprocessing.sequence.pad_sequences(sequences, maxlen=max_len, truncating='post', padding='post')\n",
    "\n",
    "sequences = tokenizer.texts_to_sequences(test.CleanTweet.values)\n",
    "test_corpus = tf.keras.preprocessing.sequence.pad_sequences(sequences, maxlen=max_len, truncating='post', padding='post')"
   ]
  },
  {
   "cell_type": "code",
   "execution_count": 29,
   "metadata": {},
   "outputs": [],
   "source": [
    "train_target = train.Extreme_txt_encode.values\n",
    "test_target = test.Extreme_txt_encode.values\n",
    "target_len = len(set(extreme_txt_encoder.values()))"
   ]
  },
  {
   "cell_type": "code",
   "execution_count": 30,
   "metadata": {},
   "outputs": [
    {
     "data": {
      "text/plain": [
       "((18046,), (18046, 25), (1708,), (1708, 25))"
      ]
     },
     "execution_count": 30,
     "metadata": {},
     "output_type": "execute_result"
    }
   ],
   "source": [
    "train_target.shape, train_corpus.shape, test_target.shape, test_corpus.shape"
   ]
  },
  {
   "cell_type": "markdown",
   "metadata": {},
   "source": [
    "### Modeling"
   ]
  },
  {
   "cell_type": "code",
   "execution_count": 31,
   "metadata": {
    "scrolled": true
   },
   "outputs": [
    {
     "name": "stdout",
     "output_type": "stream",
     "text": [
      "Train on 18046 samples, validate on 1708 samples\n",
      "Epoch 1/3\n",
      "18046/18046 [==============================] - 17s 964us/sample - loss: 0.5441 - accuracy: 0.7332 - val_loss: 0.4766 - val_accuracy: 0.7799\n",
      "Epoch 2/3\n",
      "18046/18046 [==============================] - 13s 744us/sample - loss: 0.3619 - accuracy: 0.8496 - val_loss: 0.4858 - val_accuracy: 0.7728\n",
      "Epoch 3/3\n",
      "18046/18046 [==============================] - 14s 753us/sample - loss: 0.2603 - accuracy: 0.8983 - val_loss: 0.5462 - val_accuracy: 0.7711\n"
     ]
    },
    {
     "data": {
      "text/plain": [
       "<tensorflow.python.keras.callbacks.History at 0x2023f8538c8>"
      ]
     },
     "execution_count": 31,
     "metadata": {},
     "output_type": "execute_result"
    }
   ],
   "source": [
    "embd_dim = 32\n",
    "batch = 32\n",
    "epoch = 3\n",
    "\n",
    "extreme_pos_classifier = tf.keras.models.Sequential([\n",
    "    tf.keras.layers.Embedding(vocab_size+1, embd_dim, input_length=max_len),\n",
    "    tf.keras.layers.Bidirectional(tf.keras.layers.GRU(embd_dim*8)),\n",
    "    tf.keras.layers.Dropout(0.2),\n",
    "    tf.keras.layers.Dense(128, activation=tf.nn.relu),\n",
    "    tf.keras.layers.Dense(1, activation=tf.nn.sigmoid)\n",
    "])\n",
    "extreme_pos_classifier.compile(optimizer='adam', loss=tf.losses.binary_crossentropy, metrics=['accuracy'])\n",
    "extreme_pos_classifier.fit(train_corpus, train_target, epochs=epoch, batch_size=batch, validation_data=(test_corpus, test_target))"
   ]
  },
  {
   "cell_type": "markdown",
   "metadata": {},
   "source": [
    "### Predict\n",
    "\n",
    "Use trained model to classify the extreme tweets in previously classified positive tweets."
   ]
  },
  {
   "cell_type": "code",
   "execution_count": 32,
   "metadata": {
    "scrolled": true
   },
   "outputs": [
    {
     "data": {
      "text/html": [
       "<div>\n",
       "<style scoped>\n",
       "    .dataframe tbody tr th:only-of-type {\n",
       "        vertical-align: middle;\n",
       "    }\n",
       "\n",
       "    .dataframe tbody tr th {\n",
       "        vertical-align: top;\n",
       "    }\n",
       "\n",
       "    .dataframe thead th {\n",
       "        text-align: right;\n",
       "    }\n",
       "</style>\n",
       "<table border=\"1\" class=\"dataframe\">\n",
       "  <thead>\n",
       "    <tr style=\"text-align: right;\">\n",
       "      <th></th>\n",
       "      <th>Location</th>\n",
       "      <th>TweetAt</th>\n",
       "      <th>OriginalTweet</th>\n",
       "      <th>Sentiment</th>\n",
       "      <th>Sentiment_encode</th>\n",
       "      <th>Extreme_txt_encode</th>\n",
       "      <th>CleanTweet</th>\n",
       "      <th>Sentiment_pred</th>\n",
       "      <th>Extreme_pos_pred</th>\n",
       "    </tr>\n",
       "    <tr>\n",
       "      <th>UserName</th>\n",
       "      <th></th>\n",
       "      <th></th>\n",
       "      <th></th>\n",
       "      <th></th>\n",
       "      <th></th>\n",
       "      <th></th>\n",
       "      <th></th>\n",
       "      <th></th>\n",
       "      <th></th>\n",
       "    </tr>\n",
       "  </thead>\n",
       "  <tbody>\n",
       "    <tr>\n",
       "      <th>1</th>\n",
       "      <td>NYC</td>\n",
       "      <td>02-03-2020</td>\n",
       "      <td>TRENDING: New Yorkers encounter empty supermarket shelves (pictured, Wegmans in Brooklyn), sold-...</td>\n",
       "      <td>Extremely Negative</td>\n",
       "      <td>0</td>\n",
       "      <td>1</td>\n",
       "      <td>us trending new yorkers encounter empty market shelves pictured wegmans brooklyn sold online gro...</td>\n",
       "      <td>0</td>\n",
       "      <td>None</td>\n",
       "    </tr>\n",
       "    <tr>\n",
       "      <th>2</th>\n",
       "      <td>Seattle, WA</td>\n",
       "      <td>02-03-2020</td>\n",
       "      <td>When I couldn't find hand sanitizer at Fred Meyer, I turned to #Amazon. But $114.97 for a 2 pack...</td>\n",
       "      <td>Positive</td>\n",
       "      <td>2</td>\n",
       "      <td>0</td>\n",
       "      <td>us find hand sanitizer fred meyer turned pack purell check concerns driving prices</td>\n",
       "      <td>2</td>\n",
       "      <td>0</td>\n",
       "    </tr>\n",
       "    <tr>\n",
       "      <th>3</th>\n",
       "      <td>NaN</td>\n",
       "      <td>02-03-2020</td>\n",
       "      <td>Find out how you can protect yourself and loved ones from #coronavirus. ?</td>\n",
       "      <td>Extremely Positive</td>\n",
       "      <td>2</td>\n",
       "      <td>1</td>\n",
       "      <td>find protect loved ones</td>\n",
       "      <td>2</td>\n",
       "      <td>1</td>\n",
       "    </tr>\n",
       "    <tr>\n",
       "      <th>4</th>\n",
       "      <td>Chicagoland</td>\n",
       "      <td>02-03-2020</td>\n",
       "      <td>#Panic buying hits #NewYork City as anxious shoppers stock up on food&amp;amp;medical supplies after...</td>\n",
       "      <td>Negative</td>\n",
       "      <td>0</td>\n",
       "      <td>0</td>\n",
       "      <td>buy hits city anxious shoppers stock food amp medical supplies worker becomes st confirmed pati...</td>\n",
       "      <td>0</td>\n",
       "      <td>None</td>\n",
       "    </tr>\n",
       "    <tr>\n",
       "      <th>5</th>\n",
       "      <td>Melbourne, Victoria</td>\n",
       "      <td>03-03-2020</td>\n",
       "      <td>#toiletpaper #dunnypaper #coronavirus #coronavirusaustralia #CoronaVirusUpdate #Covid_19 #9News ...</td>\n",
       "      <td>Neutral</td>\n",
       "      <td>1</td>\n",
       "      <td>0</td>\n",
       "      <td>au week everyone buy baby milk powder next everyone buy toiletpaper toiletpaper toiletpaper</td>\n",
       "      <td>1</td>\n",
       "      <td>None</td>\n",
       "    </tr>\n",
       "  </tbody>\n",
       "</table>\n",
       "</div>"
      ],
      "text/plain": [
       "                     Location     TweetAt  \\\n",
       "UserName                                    \n",
       "1                         NYC  02-03-2020   \n",
       "2                 Seattle, WA  02-03-2020   \n",
       "3                         NaN  02-03-2020   \n",
       "4                 Chicagoland  02-03-2020   \n",
       "5         Melbourne, Victoria  03-03-2020   \n",
       "\n",
       "                                                                                                OriginalTweet  \\\n",
       "UserName                                                                                                        \n",
       "1         TRENDING: New Yorkers encounter empty supermarket shelves (pictured, Wegmans in Brooklyn), sold-...   \n",
       "2         When I couldn't find hand sanitizer at Fred Meyer, I turned to #Amazon. But $114.97 for a 2 pack...   \n",
       "3                                   Find out how you can protect yourself and loved ones from #coronavirus. ?   \n",
       "4         #Panic buying hits #NewYork City as anxious shoppers stock up on food&amp;medical supplies after...   \n",
       "5         #toiletpaper #dunnypaper #coronavirus #coronavirusaustralia #CoronaVirusUpdate #Covid_19 #9News ...   \n",
       "\n",
       "                   Sentiment  Sentiment_encode  Extreme_txt_encode  \\\n",
       "UserName                                                             \n",
       "1         Extremely Negative                 0                   1   \n",
       "2                   Positive                 2                   0   \n",
       "3         Extremely Positive                 2                   1   \n",
       "4                   Negative                 0                   0   \n",
       "5                    Neutral                 1                   0   \n",
       "\n",
       "                                                                                                   CleanTweet  \\\n",
       "UserName                                                                                                        \n",
       "1         us trending new yorkers encounter empty market shelves pictured wegmans brooklyn sold online gro...   \n",
       "2                          us find hand sanitizer fred meyer turned pack purell check concerns driving prices   \n",
       "3                                                                                     find protect loved ones   \n",
       "4          buy hits city anxious shoppers stock food amp medical supplies worker becomes st confirmed pati...   \n",
       "5                 au week everyone buy baby milk powder next everyone buy toiletpaper toiletpaper toiletpaper   \n",
       "\n",
       "          Sentiment_pred Extreme_pos_pred  \n",
       "UserName                                   \n",
       "1                      0             None  \n",
       "2                      2                0  \n",
       "3                      2                1  \n",
       "4                      0             None  \n",
       "5                      1             None  "
      ]
     },
     "execution_count": 32,
     "metadata": {},
     "output_type": "execute_result"
    }
   ],
   "source": [
    "test_predict = [int(np.where(pred>0.5, 1, 0)) for pred in extreme_pos_classifier.predict(test_corpus)]\n",
    "test_df[\"Extreme_pos_pred\"]=None\n",
    "test_df.loc[test_df[test_df.Sentiment_pred==2].index, \"Extreme_pos_pred\"] = test_predict\n",
    "test_df.head()"
   ]
  },
  {
   "cell_type": "markdown",
   "metadata": {},
   "source": [
    "## Extremely negative tweet classifier\n",
    "\n",
    "Traing classifier to identify extreme tweets in the previously classified negative tweets.\n",
    "\n",
    "### Tokenize corpus\n",
    "\n",
    "Tokenize Extremely Negative and Negative corpus in training set and transform test set."
   ]
  },
  {
   "cell_type": "code",
   "execution_count": 33,
   "metadata": {},
   "outputs": [
    {
     "name": "stdout",
     "output_type": "stream",
     "text": [
      "20042\n"
     ]
    }
   ],
   "source": [
    "train = train_df[train_df.Sentiment_encode==0]\n",
    "test = test_df[test_df.Sentiment_pred==0]\n",
    "\n",
    "tokenizer = tf.keras.preprocessing.text.Tokenizer(num_words=10000, oov_token=\"<OOV>\")\n",
    "tokenizer.fit_on_texts(train.CleanTweet.values)\n",
    "vocab_size = len(tokenizer.word_index)\n",
    "print(vocab_size)\n",
    "\n",
    "max_len = 25\n",
    "\n",
    "sequences = tokenizer.texts_to_sequences(train.CleanTweet.values)\n",
    "train_corpus = tf.keras.preprocessing.sequence.pad_sequences(sequences, maxlen=max_len, truncating='post', padding='post')\n",
    "\n",
    "sequences = tokenizer.texts_to_sequences(test.CleanTweet.values)\n",
    "test_corpus = tf.keras.preprocessing.sequence.pad_sequences(sequences, maxlen=max_len, truncating='post', padding='post')"
   ]
  },
  {
   "cell_type": "code",
   "execution_count": 34,
   "metadata": {},
   "outputs": [],
   "source": [
    "train_target = train.Extreme_txt_encode.values\n",
    "test_target = test.Extreme_txt_encode.values\n",
    "target_len = len(set(extreme_txt_encoder.values()))"
   ]
  },
  {
   "cell_type": "code",
   "execution_count": 35,
   "metadata": {},
   "outputs": [
    {
     "data": {
      "text/plain": [
       "((15398,), (15398, 25), (1543,), (1543, 25))"
      ]
     },
     "execution_count": 35,
     "metadata": {},
     "output_type": "execute_result"
    }
   ],
   "source": [
    "train_target.shape, train_corpus.shape, test_target.shape, test_corpus.shape"
   ]
  },
  {
   "cell_type": "markdown",
   "metadata": {},
   "source": [
    "### Modeling"
   ]
  },
  {
   "cell_type": "code",
   "execution_count": 36,
   "metadata": {},
   "outputs": [
    {
     "name": "stdout",
     "output_type": "stream",
     "text": [
      "Train on 15398 samples, validate on 1543 samples\n",
      "Epoch 1/3\n",
      "15398/15398 [==============================] - 15s 1ms/sample - loss: 0.5685 - accuracy: 0.7055 - val_loss: 0.5856 - val_accuracy: 0.7226\n",
      "Epoch 2/3\n",
      "15398/15398 [==============================] - 11s 743us/sample - loss: 0.3691 - accuracy: 0.8402 - val_loss: 0.5430 - val_accuracy: 0.7362\n",
      "Epoch 3/3\n",
      "15398/15398 [==============================] - 12s 747us/sample - loss: 0.2459 - accuracy: 0.9009 - val_loss: 0.6080 - val_accuracy: 0.7447\n"
     ]
    },
    {
     "data": {
      "text/plain": [
       "<tensorflow.python.keras.callbacks.History at 0x2032a466b48>"
      ]
     },
     "execution_count": 36,
     "metadata": {},
     "output_type": "execute_result"
    }
   ],
   "source": [
    "embd_dim = 32\n",
    "batch = 32\n",
    "epoch = 3\n",
    "\n",
    "extreme_neg_classifier = tf.keras.models.Sequential([\n",
    "    tf.keras.layers.Embedding(vocab_size+1, embd_dim, input_length=max_len),\n",
    "    tf.keras.layers.Bidirectional(tf.keras.layers.GRU(embd_dim*8)),\n",
    "    tf.keras.layers.Dropout(0.2),\n",
    "    tf.keras.layers.Dense(128, activation=tf.nn.relu),\n",
    "    tf.keras.layers.Dense(1, activation=tf.nn.sigmoid)\n",
    "])\n",
    "extreme_neg_classifier.compile(optimizer='adam', loss=tf.losses.binary_crossentropy, metrics=['accuracy'])\n",
    "extreme_neg_classifier.fit(train_corpus, train_target, epochs=epoch, batch_size=batch, validation_data=(test_corpus, test_target))"
   ]
  },
  {
   "cell_type": "markdown",
   "metadata": {},
   "source": [
    "### Predict\n",
    "\n",
    "Use trained model to classify the extreme tweets in previously classified negative tweets."
   ]
  },
  {
   "cell_type": "code",
   "execution_count": 37,
   "metadata": {
    "scrolled": true
   },
   "outputs": [
    {
     "data": {
      "text/html": [
       "<div>\n",
       "<style scoped>\n",
       "    .dataframe tbody tr th:only-of-type {\n",
       "        vertical-align: middle;\n",
       "    }\n",
       "\n",
       "    .dataframe tbody tr th {\n",
       "        vertical-align: top;\n",
       "    }\n",
       "\n",
       "    .dataframe thead th {\n",
       "        text-align: right;\n",
       "    }\n",
       "</style>\n",
       "<table border=\"1\" class=\"dataframe\">\n",
       "  <thead>\n",
       "    <tr style=\"text-align: right;\">\n",
       "      <th></th>\n",
       "      <th>Location</th>\n",
       "      <th>TweetAt</th>\n",
       "      <th>OriginalTweet</th>\n",
       "      <th>Sentiment</th>\n",
       "      <th>Sentiment_encode</th>\n",
       "      <th>Extreme_txt_encode</th>\n",
       "      <th>CleanTweet</th>\n",
       "      <th>Sentiment_pred</th>\n",
       "      <th>Extreme_pos_pred</th>\n",
       "      <th>Extreme_neg_pred</th>\n",
       "    </tr>\n",
       "    <tr>\n",
       "      <th>UserName</th>\n",
       "      <th></th>\n",
       "      <th></th>\n",
       "      <th></th>\n",
       "      <th></th>\n",
       "      <th></th>\n",
       "      <th></th>\n",
       "      <th></th>\n",
       "      <th></th>\n",
       "      <th></th>\n",
       "      <th></th>\n",
       "    </tr>\n",
       "  </thead>\n",
       "  <tbody>\n",
       "    <tr>\n",
       "      <th>1</th>\n",
       "      <td>NYC</td>\n",
       "      <td>02-03-2020</td>\n",
       "      <td>TRENDING: New Yorkers encounter empty supermarket shelves (pictured, Wegmans in Brooklyn), sold-...</td>\n",
       "      <td>Extremely Negative</td>\n",
       "      <td>0</td>\n",
       "      <td>1</td>\n",
       "      <td>us trending new yorkers encounter empty market shelves pictured wegmans brooklyn sold online gro...</td>\n",
       "      <td>0</td>\n",
       "      <td>None</td>\n",
       "      <td>0</td>\n",
       "    </tr>\n",
       "    <tr>\n",
       "      <th>2</th>\n",
       "      <td>Seattle, WA</td>\n",
       "      <td>02-03-2020</td>\n",
       "      <td>When I couldn't find hand sanitizer at Fred Meyer, I turned to #Amazon. But $114.97 for a 2 pack...</td>\n",
       "      <td>Positive</td>\n",
       "      <td>2</td>\n",
       "      <td>0</td>\n",
       "      <td>us find hand sanitizer fred meyer turned pack purell check concerns driving prices</td>\n",
       "      <td>2</td>\n",
       "      <td>0</td>\n",
       "      <td>None</td>\n",
       "    </tr>\n",
       "    <tr>\n",
       "      <th>3</th>\n",
       "      <td>NaN</td>\n",
       "      <td>02-03-2020</td>\n",
       "      <td>Find out how you can protect yourself and loved ones from #coronavirus. ?</td>\n",
       "      <td>Extremely Positive</td>\n",
       "      <td>2</td>\n",
       "      <td>1</td>\n",
       "      <td>find protect loved ones</td>\n",
       "      <td>2</td>\n",
       "      <td>1</td>\n",
       "      <td>None</td>\n",
       "    </tr>\n",
       "    <tr>\n",
       "      <th>4</th>\n",
       "      <td>Chicagoland</td>\n",
       "      <td>02-03-2020</td>\n",
       "      <td>#Panic buying hits #NewYork City as anxious shoppers stock up on food&amp;amp;medical supplies after...</td>\n",
       "      <td>Negative</td>\n",
       "      <td>0</td>\n",
       "      <td>0</td>\n",
       "      <td>buy hits city anxious shoppers stock food amp medical supplies worker becomes st confirmed pati...</td>\n",
       "      <td>0</td>\n",
       "      <td>None</td>\n",
       "      <td>0</td>\n",
       "    </tr>\n",
       "    <tr>\n",
       "      <th>5</th>\n",
       "      <td>Melbourne, Victoria</td>\n",
       "      <td>03-03-2020</td>\n",
       "      <td>#toiletpaper #dunnypaper #coronavirus #coronavirusaustralia #CoronaVirusUpdate #Covid_19 #9News ...</td>\n",
       "      <td>Neutral</td>\n",
       "      <td>1</td>\n",
       "      <td>0</td>\n",
       "      <td>au week everyone buy baby milk powder next everyone buy toiletpaper toiletpaper toiletpaper</td>\n",
       "      <td>1</td>\n",
       "      <td>None</td>\n",
       "      <td>None</td>\n",
       "    </tr>\n",
       "  </tbody>\n",
       "</table>\n",
       "</div>"
      ],
      "text/plain": [
       "                     Location     TweetAt  \\\n",
       "UserName                                    \n",
       "1                         NYC  02-03-2020   \n",
       "2                 Seattle, WA  02-03-2020   \n",
       "3                         NaN  02-03-2020   \n",
       "4                 Chicagoland  02-03-2020   \n",
       "5         Melbourne, Victoria  03-03-2020   \n",
       "\n",
       "                                                                                                OriginalTweet  \\\n",
       "UserName                                                                                                        \n",
       "1         TRENDING: New Yorkers encounter empty supermarket shelves (pictured, Wegmans in Brooklyn), sold-...   \n",
       "2         When I couldn't find hand sanitizer at Fred Meyer, I turned to #Amazon. But $114.97 for a 2 pack...   \n",
       "3                                   Find out how you can protect yourself and loved ones from #coronavirus. ?   \n",
       "4         #Panic buying hits #NewYork City as anxious shoppers stock up on food&amp;medical supplies after...   \n",
       "5         #toiletpaper #dunnypaper #coronavirus #coronavirusaustralia #CoronaVirusUpdate #Covid_19 #9News ...   \n",
       "\n",
       "                   Sentiment  Sentiment_encode  Extreme_txt_encode  \\\n",
       "UserName                                                             \n",
       "1         Extremely Negative                 0                   1   \n",
       "2                   Positive                 2                   0   \n",
       "3         Extremely Positive                 2                   1   \n",
       "4                   Negative                 0                   0   \n",
       "5                    Neutral                 1                   0   \n",
       "\n",
       "                                                                                                   CleanTweet  \\\n",
       "UserName                                                                                                        \n",
       "1         us trending new yorkers encounter empty market shelves pictured wegmans brooklyn sold online gro...   \n",
       "2                          us find hand sanitizer fred meyer turned pack purell check concerns driving prices   \n",
       "3                                                                                     find protect loved ones   \n",
       "4          buy hits city anxious shoppers stock food amp medical supplies worker becomes st confirmed pati...   \n",
       "5                 au week everyone buy baby milk powder next everyone buy toiletpaper toiletpaper toiletpaper   \n",
       "\n",
       "          Sentiment_pred Extreme_pos_pred Extreme_neg_pred  \n",
       "UserName                                                    \n",
       "1                      0             None                0  \n",
       "2                      2                0             None  \n",
       "3                      2                1             None  \n",
       "4                      0             None                0  \n",
       "5                      1             None             None  "
      ]
     },
     "execution_count": 37,
     "metadata": {},
     "output_type": "execute_result"
    }
   ],
   "source": [
    "test_predict = [int(np.where(pred>0.5, 1, 0)) for pred in extreme_neg_classifier.predict(test_corpus)]\n",
    "test_df[\"Extreme_neg_pred\"]=None\n",
    "test_df.loc[test_df[test_df.Sentiment_pred==0].index, \"Extreme_neg_pred\"] = test_predict\n",
    "test_df.head()"
   ]
  },
  {
   "cell_type": "markdown",
   "metadata": {},
   "source": [
    "## Evaluation\n",
    "Find the total misclassified rate and misclassified rate of each model."
   ]
  },
  {
   "cell_type": "code",
   "execution_count": 39,
   "metadata": {},
   "outputs": [
    {
     "data": {
      "text/html": [
       "<div>\n",
       "<style scoped>\n",
       "    .dataframe tbody tr th:only-of-type {\n",
       "        vertical-align: middle;\n",
       "    }\n",
       "\n",
       "    .dataframe tbody tr th {\n",
       "        vertical-align: top;\n",
       "    }\n",
       "\n",
       "    .dataframe thead th {\n",
       "        text-align: right;\n",
       "    }\n",
       "</style>\n",
       "<table border=\"1\" class=\"dataframe\">\n",
       "  <thead>\n",
       "    <tr style=\"text-align: right;\">\n",
       "      <th></th>\n",
       "      <th>Sentiment</th>\n",
       "      <th>Prediction</th>\n",
       "      <th>Misclassified</th>\n",
       "    </tr>\n",
       "    <tr>\n",
       "      <th>UserName</th>\n",
       "      <th></th>\n",
       "      <th></th>\n",
       "      <th></th>\n",
       "    </tr>\n",
       "  </thead>\n",
       "  <tbody>\n",
       "    <tr>\n",
       "      <th>1</th>\n",
       "      <td>Extremely Negative</td>\n",
       "      <td>Negative</td>\n",
       "      <td>1</td>\n",
       "    </tr>\n",
       "    <tr>\n",
       "      <th>2</th>\n",
       "      <td>Positive</td>\n",
       "      <td>Positive</td>\n",
       "      <td>0</td>\n",
       "    </tr>\n",
       "    <tr>\n",
       "      <th>3</th>\n",
       "      <td>Extremely Positive</td>\n",
       "      <td>Extremely Positive</td>\n",
       "      <td>0</td>\n",
       "    </tr>\n",
       "    <tr>\n",
       "      <th>4</th>\n",
       "      <td>Negative</td>\n",
       "      <td>Negative</td>\n",
       "      <td>0</td>\n",
       "    </tr>\n",
       "    <tr>\n",
       "      <th>5</th>\n",
       "      <td>Neutral</td>\n",
       "      <td>Neutral</td>\n",
       "      <td>0</td>\n",
       "    </tr>\n",
       "    <tr>\n",
       "      <th>6</th>\n",
       "      <td>Neutral</td>\n",
       "      <td>Neutral</td>\n",
       "      <td>0</td>\n",
       "    </tr>\n",
       "    <tr>\n",
       "      <th>7</th>\n",
       "      <td>Positive</td>\n",
       "      <td>Positive</td>\n",
       "      <td>0</td>\n",
       "    </tr>\n",
       "    <tr>\n",
       "      <th>8</th>\n",
       "      <td>Neutral</td>\n",
       "      <td>Negative</td>\n",
       "      <td>1</td>\n",
       "    </tr>\n",
       "    <tr>\n",
       "      <th>9</th>\n",
       "      <td>Extremely Negative</td>\n",
       "      <td>Extremely Negative</td>\n",
       "      <td>0</td>\n",
       "    </tr>\n",
       "    <tr>\n",
       "      <th>10</th>\n",
       "      <td>Extremely Positive</td>\n",
       "      <td>Positive</td>\n",
       "      <td>1</td>\n",
       "    </tr>\n",
       "  </tbody>\n",
       "</table>\n",
       "</div>"
      ],
      "text/plain": [
       "                   Sentiment          Prediction  Misclassified\n",
       "UserName                                                       \n",
       "1         Extremely Negative            Negative              1\n",
       "2                   Positive            Positive              0\n",
       "3         Extremely Positive  Extremely Positive              0\n",
       "4                   Negative            Negative              0\n",
       "5                    Neutral             Neutral              0\n",
       "6                    Neutral             Neutral              0\n",
       "7                   Positive            Positive              0\n",
       "8                    Neutral            Negative              1\n",
       "9         Extremely Negative  Extremely Negative              0\n",
       "10        Extremely Positive            Positive              1"
      ]
     },
     "execution_count": 39,
     "metadata": {},
     "output_type": "execute_result"
    }
   ],
   "source": [
    "prediction = []\n",
    "for user in test_df.index.values:\n",
    "    sentiment = \"\"\n",
    "    if test_df.loc[user, \"Extreme_pos_pred\"] == 1 or \\\n",
    "       test_df.loc[user, \"Extreme_neg_pred\"] == 1:\n",
    "        sentiment += \"Extremely \"\n",
    "    if test_df.loc[user, \"Sentiment_pred\"] == 0:\n",
    "        sentiment += \"Negative\"\n",
    "    elif test_df.loc[user, \"Sentiment_pred\"] == 1:\n",
    "        sentiment += \"Neutral\"\n",
    "    elif test_df.loc[user, \"Sentiment_pred\"] == 2:\n",
    "        sentiment += \"Positive\"\n",
    "    prediction.append(sentiment)\n",
    "        \n",
    "test_df[\"Prediction\"] = prediction\n",
    "test_df[\"Misclassified\"] = (test_df.Sentiment!=test_df.Prediction).astype(int)\n",
    "test_df[[\"Sentiment\", \"Prediction\", \"Misclassified\"]].head(10)"
   ]
  },
  {
   "cell_type": "code",
   "execution_count": 40,
   "metadata": {},
   "outputs": [
    {
     "data": {
      "text/html": [
       "<div>\n",
       "<style scoped>\n",
       "    .dataframe tbody tr th:only-of-type {\n",
       "        vertical-align: middle;\n",
       "    }\n",
       "\n",
       "    .dataframe tbody tr th {\n",
       "        vertical-align: top;\n",
       "    }\n",
       "\n",
       "    .dataframe thead th {\n",
       "        text-align: right;\n",
       "    }\n",
       "</style>\n",
       "<table border=\"1\" class=\"dataframe\">\n",
       "  <thead>\n",
       "    <tr style=\"text-align: right;\">\n",
       "      <th></th>\n",
       "      <th>count</th>\n",
       "      <th>mean</th>\n",
       "      <th>std</th>\n",
       "      <th>min</th>\n",
       "      <th>25%</th>\n",
       "      <th>50%</th>\n",
       "      <th>75%</th>\n",
       "      <th>max</th>\n",
       "    </tr>\n",
       "    <tr>\n",
       "      <th>Sentiment</th>\n",
       "      <th></th>\n",
       "      <th></th>\n",
       "      <th></th>\n",
       "      <th></th>\n",
       "      <th></th>\n",
       "      <th></th>\n",
       "      <th></th>\n",
       "      <th></th>\n",
       "    </tr>\n",
       "  </thead>\n",
       "  <tbody>\n",
       "    <tr>\n",
       "      <th>Extremely Negative</th>\n",
       "      <td>592.0</td>\n",
       "      <td>0.380068</td>\n",
       "      <td>0.485814</td>\n",
       "      <td>0.0</td>\n",
       "      <td>0.0</td>\n",
       "      <td>0.0</td>\n",
       "      <td>1.0</td>\n",
       "      <td>1.0</td>\n",
       "    </tr>\n",
       "    <tr>\n",
       "      <th>Extremely Positive</th>\n",
       "      <td>599.0</td>\n",
       "      <td>0.347245</td>\n",
       "      <td>0.476492</td>\n",
       "      <td>0.0</td>\n",
       "      <td>0.0</td>\n",
       "      <td>0.0</td>\n",
       "      <td>1.0</td>\n",
       "      <td>1.0</td>\n",
       "    </tr>\n",
       "    <tr>\n",
       "      <th>Negative</th>\n",
       "      <td>1041.0</td>\n",
       "      <td>0.409222</td>\n",
       "      <td>0.491927</td>\n",
       "      <td>0.0</td>\n",
       "      <td>0.0</td>\n",
       "      <td>0.0</td>\n",
       "      <td>1.0</td>\n",
       "      <td>1.0</td>\n",
       "    </tr>\n",
       "    <tr>\n",
       "      <th>Neutral</th>\n",
       "      <td>619.0</td>\n",
       "      <td>0.234249</td>\n",
       "      <td>0.423871</td>\n",
       "      <td>0.0</td>\n",
       "      <td>0.0</td>\n",
       "      <td>0.0</td>\n",
       "      <td>0.0</td>\n",
       "      <td>1.0</td>\n",
       "    </tr>\n",
       "    <tr>\n",
       "      <th>Positive</th>\n",
       "      <td>947.0</td>\n",
       "      <td>0.287223</td>\n",
       "      <td>0.452706</td>\n",
       "      <td>0.0</td>\n",
       "      <td>0.0</td>\n",
       "      <td>0.0</td>\n",
       "      <td>1.0</td>\n",
       "      <td>1.0</td>\n",
       "    </tr>\n",
       "  </tbody>\n",
       "</table>\n",
       "</div>"
      ],
      "text/plain": [
       "                     count      mean       std  min  25%  50%  75%  max\n",
       "Sentiment                                                              \n",
       "Extremely Negative   592.0  0.380068  0.485814  0.0  0.0  0.0  1.0  1.0\n",
       "Extremely Positive   599.0  0.347245  0.476492  0.0  0.0  0.0  1.0  1.0\n",
       "Negative            1041.0  0.409222  0.491927  0.0  0.0  0.0  1.0  1.0\n",
       "Neutral              619.0  0.234249  0.423871  0.0  0.0  0.0  0.0  1.0\n",
       "Positive             947.0  0.287223  0.452706  0.0  0.0  0.0  1.0  1.0"
      ]
     },
     "execution_count": 40,
     "metadata": {},
     "output_type": "execute_result"
    }
   ],
   "source": [
    "test_df.groupby([\"Sentiment\"]).Misclassified.describe()"
   ]
  },
  {
   "cell_type": "code",
   "execution_count": 45,
   "metadata": {},
   "outputs": [
    {
     "data": {
      "text/html": [
       "<div>\n",
       "<style scoped>\n",
       "    .dataframe tbody tr th:only-of-type {\n",
       "        vertical-align: middle;\n",
       "    }\n",
       "\n",
       "    .dataframe tbody tr th {\n",
       "        vertical-align: top;\n",
       "    }\n",
       "\n",
       "    .dataframe thead th {\n",
       "        text-align: right;\n",
       "    }\n",
       "</style>\n",
       "<table border=\"1\" class=\"dataframe\">\n",
       "  <thead>\n",
       "    <tr style=\"text-align: right;\">\n",
       "      <th>Sentiment</th>\n",
       "      <th>Extremely Negative</th>\n",
       "      <th>Extremely Positive</th>\n",
       "      <th>Negative</th>\n",
       "      <th>Neutral</th>\n",
       "      <th>Positive</th>\n",
       "    </tr>\n",
       "    <tr>\n",
       "      <th>Prediction</th>\n",
       "      <th></th>\n",
       "      <th></th>\n",
       "      <th></th>\n",
       "      <th></th>\n",
       "      <th></th>\n",
       "    </tr>\n",
       "  </thead>\n",
       "  <tbody>\n",
       "    <tr>\n",
       "      <th>Extremely Negative</th>\n",
       "      <td>0.0</td>\n",
       "      <td>7.0</td>\n",
       "      <td>164.0</td>\n",
       "      <td>1.0</td>\n",
       "      <td>21.0</td>\n",
       "    </tr>\n",
       "    <tr>\n",
       "      <th>Extremely Positive</th>\n",
       "      <td>4.0</td>\n",
       "      <td>0.0</td>\n",
       "      <td>31.0</td>\n",
       "      <td>9.0</td>\n",
       "      <td>142.0</td>\n",
       "    </tr>\n",
       "    <tr>\n",
       "      <th>Negative</th>\n",
       "      <td>193.0</td>\n",
       "      <td>15.0</td>\n",
       "      <td>0.0</td>\n",
       "      <td>72.0</td>\n",
       "      <td>88.0</td>\n",
       "    </tr>\n",
       "    <tr>\n",
       "      <th>Neutral</th>\n",
       "      <td>5.0</td>\n",
       "      <td>NaN</td>\n",
       "      <td>47.0</td>\n",
       "      <td>0.0</td>\n",
       "      <td>21.0</td>\n",
       "    </tr>\n",
       "    <tr>\n",
       "      <th>Positive</th>\n",
       "      <td>23.0</td>\n",
       "      <td>186.0</td>\n",
       "      <td>184.0</td>\n",
       "      <td>63.0</td>\n",
       "      <td>0.0</td>\n",
       "    </tr>\n",
       "  </tbody>\n",
       "</table>\n",
       "</div>"
      ],
      "text/plain": [
       "Sentiment           Extremely Negative  Extremely Positive  Negative  Neutral  \\\n",
       "Prediction                                                                      \n",
       "Extremely Negative                 0.0                 7.0     164.0      1.0   \n",
       "Extremely Positive                 4.0                 0.0      31.0      9.0   \n",
       "Negative                         193.0                15.0       0.0     72.0   \n",
       "Neutral                            5.0                 NaN      47.0      0.0   \n",
       "Positive                          23.0               186.0     184.0     63.0   \n",
       "\n",
       "Sentiment           Positive  \n",
       "Prediction                    \n",
       "Extremely Negative      21.0  \n",
       "Extremely Positive     142.0  \n",
       "Negative                88.0  \n",
       "Neutral                 21.0  \n",
       "Positive                 0.0  "
      ]
     },
     "execution_count": 45,
     "metadata": {},
     "output_type": "execute_result"
    }
   ],
   "source": [
    "# Count the misclassified\n",
    "test_df.pivot_table(index=\"Prediction\", columns=\"Sentiment\", values=\"Misclassified\", aggfunc=np.sum)"
   ]
  },
  {
   "cell_type": "code",
   "execution_count": 46,
   "metadata": {},
   "outputs": [
    {
     "data": {
      "text/html": [
       "<div>\n",
       "<style scoped>\n",
       "    .dataframe tbody tr th:only-of-type {\n",
       "        vertical-align: middle;\n",
       "    }\n",
       "\n",
       "    .dataframe tbody tr th {\n",
       "        vertical-align: top;\n",
       "    }\n",
       "\n",
       "    .dataframe thead th {\n",
       "        text-align: right;\n",
       "    }\n",
       "</style>\n",
       "<table border=\"1\" class=\"dataframe\">\n",
       "  <thead>\n",
       "    <tr style=\"text-align: right;\">\n",
       "      <th>Sentiment</th>\n",
       "      <th>Extremely Negative</th>\n",
       "      <th>Extremely Positive</th>\n",
       "      <th>Negative</th>\n",
       "      <th>Neutral</th>\n",
       "      <th>Positive</th>\n",
       "    </tr>\n",
       "    <tr>\n",
       "      <th>Prediction</th>\n",
       "      <th></th>\n",
       "      <th></th>\n",
       "      <th></th>\n",
       "      <th></th>\n",
       "      <th></th>\n",
       "    </tr>\n",
       "  </thead>\n",
       "  <tbody>\n",
       "    <tr>\n",
       "      <th>Extremely Negative</th>\n",
       "      <td>0.000000</td>\n",
       "      <td>1.168614</td>\n",
       "      <td>15.754083</td>\n",
       "      <td>0.161551</td>\n",
       "      <td>2.217529</td>\n",
       "    </tr>\n",
       "    <tr>\n",
       "      <th>Extremely Positive</th>\n",
       "      <td>0.675676</td>\n",
       "      <td>0.000000</td>\n",
       "      <td>2.977906</td>\n",
       "      <td>1.453958</td>\n",
       "      <td>14.994720</td>\n",
       "    </tr>\n",
       "    <tr>\n",
       "      <th>Negative</th>\n",
       "      <td>32.601351</td>\n",
       "      <td>2.504174</td>\n",
       "      <td>0.000000</td>\n",
       "      <td>11.631664</td>\n",
       "      <td>9.292503</td>\n",
       "    </tr>\n",
       "    <tr>\n",
       "      <th>Neutral</th>\n",
       "      <td>0.844595</td>\n",
       "      <td>NaN</td>\n",
       "      <td>4.514890</td>\n",
       "      <td>0.000000</td>\n",
       "      <td>2.217529</td>\n",
       "    </tr>\n",
       "    <tr>\n",
       "      <th>Positive</th>\n",
       "      <td>3.885135</td>\n",
       "      <td>31.051753</td>\n",
       "      <td>17.675312</td>\n",
       "      <td>10.177706</td>\n",
       "      <td>0.000000</td>\n",
       "    </tr>\n",
       "  </tbody>\n",
       "</table>\n",
       "</div>"
      ],
      "text/plain": [
       "Sentiment           Extremely Negative  Extremely Positive   Negative  \\\n",
       "Prediction                                                              \n",
       "Extremely Negative            0.000000            1.168614  15.754083   \n",
       "Extremely Positive            0.675676            0.000000   2.977906   \n",
       "Negative                     32.601351            2.504174   0.000000   \n",
       "Neutral                       0.844595                 NaN   4.514890   \n",
       "Positive                      3.885135           31.051753  17.675312   \n",
       "\n",
       "Sentiment             Neutral   Positive  \n",
       "Prediction                                \n",
       "Extremely Negative   0.161551   2.217529  \n",
       "Extremely Positive   1.453958  14.994720  \n",
       "Negative            11.631664   9.292503  \n",
       "Neutral              0.000000   2.217529  \n",
       "Positive            10.177706   0.000000  "
      ]
     },
     "execution_count": 46,
     "metadata": {},
     "output_type": "execute_result"
    }
   ],
   "source": [
    "# Rate of misclassification\n",
    "total = test_df.groupby(['Sentiment']).size().to_list()\n",
    "(test_df.pivot_table(index=\"Prediction\", columns=\"Sentiment\", values=\"Misclassified\", aggfunc=np.sum)/total)*100"
   ]
  },
  {
   "cell_type": "markdown",
   "metadata": {},
   "source": [
    "## Evaluate performance\n",
    "- The overall accuracy: 66% accuracy\n",
    "    - 1276 misclassifications out of 3798 samples\n",
    "    - Neutral (77%) > Positive (71%) > Extremely Negative (65%) > Extremely Negative (62%) > Negative (59%)\n",
    "- Sentiment classifier misclassified:\n",
    "    - 294 out of 1633 negative (Negative + Extremely Negative) tweets were misclassified as other sentiment\n",
    "        - 82% accuracy\n",
    "    - 152 out of 1546 positive (Positive + Extremely Positive) tweets were misclassified as other sentiment\n",
    "        - 90% accuracy\n",
    "    - 145 out of 619 neutral tweets were misclassified as other sentiment\n",
    "        - 77% accuracy\n",
    "\n",
    "- Extremely negative tweet classifier misclassified:\n",
    "    - 164 negative misclassified as extremely negative and 193 extremely negative as negative\n",
    "        - 357 misclassifications out of 1633 negative tweets\n",
    "        - 78% accuracy\n",
    "\n",
    "- Extremely positive tweet classifier misclassified:\n",
    "    - 142 positive misclassified as extremely positive and 186 extremely positive as positive\n",
    "        - 328 misclassifications out of 1546 positive tweets\n",
    "        - 79% accuracy\n",
    "\n",
    "## Conclusion\n",
    "In general, similar observation from first notebook can still be observed here. And applying multiple classified specified with different focus has not helped improving accuracy.\n",
    "1. Independent classifier accuracy v.s. overall accuracy\n",
    "Each classifier independently has better performance, especially the sentiment classifier, but the overall accuracy is worst than first approach since the error cumulates through two predictions back to back. \n",
    "2. Weakness with extreme tweets\n",
    "The result shows that classifier is still unable to fully identify extreme sentiment v.s. normal sentiment even with a dedicated classifier just to detect this feature, which was meant to fix this weakness. It's good idea to review and filter the OriginalTweets and see what keywords or criteria make a tweet extremely positive or negative, then adjust data processing or modeling accordingly.\n",
    "3. Sentiment classification\n",
    "Regardless of extremeness in a tweet, the sentiment classifier by itself has good performance, which is expected since it's observed in the other notebook with other approach that model is weak at detecting extreme vs normal sentiment but relatively good at detecting positive, neutral, and negative. Thus it's expected to have better accuracy if intensity of sentiment is not part of consideration.\n",
    "\n",
    "### Improvements:\n",
    "- Make use of date\n",
    "- Review tweet contents and tokens to clean up text more\n",
    "- Expand stopwords, stemming dictionary, and lemmatization dictionary\n",
    "- Clean up tweets and remove noise so that critical keywords stand out more"
   ]
  },
  {
   "cell_type": "code",
   "execution_count": null,
   "metadata": {},
   "outputs": [],
   "source": []
  }
 ],
 "metadata": {
  "kernelspec": {
   "display_name": "Python 3",
   "language": "python",
   "name": "python3"
  },
  "language_info": {
   "codemirror_mode": {
    "name": "ipython",
    "version": 3
   },
   "file_extension": ".py",
   "mimetype": "text/x-python",
   "name": "python",
   "nbconvert_exporter": "python",
   "pygments_lexer": "ipython3",
   "version": "3.7.9"
  }
 },
 "nbformat": 4,
 "nbformat_minor": 4
}
