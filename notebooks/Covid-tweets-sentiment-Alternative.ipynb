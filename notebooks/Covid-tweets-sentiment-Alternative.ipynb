{
 "cells": [
  {
   "cell_type": "markdown",
   "metadata": {},
   "source": [
    "# Kaggle: COVID Tweet Sentiment Classification\n",
    "\n",
    "This is a solution for Kaggle project: https://www.kaggle.com/datatattle/covid-19-nlp-text-classification\n",
    "\n",
    "Twitter is a place to express thoughts and ideas and spread news and information, thus makes it a great source to track trends worldwide. Through the collected tweets, we can evaluate people's attitude toward Covid and pandemic through the trending keywords and tags through time. The estimator can be useful for identifying inappropriate tweets and stop toxic propaganda or evaluating strategies to promote social distancing using trend words.\n",
    "\n",
    "The task is to classify tweet sentiments in given tweets.\n",
    "\n",
    "This notebook approach this NLP task using TensorFlow LSTM and GRU algorithms.\n",
    "\n",
    "Data has following columns:\n",
    "\n",
    "|Column |Notes |\n",
    "|:------|:-------|\n",
    "UserName | User ID\n",
    "ScreenName| User display name\n",
    "Location | User location\n",
    "TweetAt | Date\n",
    "OriginalTweet | Tweet content\n",
    "Sentiment | Extremely negative, Negative, Neutral, Positive, Extremely positive"
   ]
  },
  {
   "cell_type": "markdown",
   "metadata": {},
   "source": [
    "## 1. Load modules"
   ]
  },
  {
   "cell_type": "code",
   "execution_count": 1,
   "metadata": {},
   "outputs": [],
   "source": [
    "import pandas as pd\n",
    "import numpy as np\n",
    "import tensorflow as tf\n",
    "\n",
    "from helperFuns import *\n",
    "\n",
    "pd.options.display.max_colwidth = 100"
   ]
  },
  {
   "cell_type": "markdown",
   "metadata": {},
   "source": [
    "## 2. Load data"
   ]
  },
  {
   "cell_type": "code",
   "execution_count": 2,
   "metadata": {},
   "outputs": [],
   "source": [
    "train_df = pd.read_csv(\"Corona_NLP_train.csv\", header=0, encoding='latin1')\n",
    "test_df = pd.read_csv(\"Corona_NLP_test.csv\", header=0, encoding='latin1')"
   ]
  },
  {
   "cell_type": "code",
   "execution_count": 3,
   "metadata": {},
   "outputs": [
    {
     "data": {
      "text/html": [
       "<div>\n",
       "<style scoped>\n",
       "    .dataframe tbody tr th:only-of-type {\n",
       "        vertical-align: middle;\n",
       "    }\n",
       "\n",
       "    .dataframe tbody tr th {\n",
       "        vertical-align: top;\n",
       "    }\n",
       "\n",
       "    .dataframe thead th {\n",
       "        text-align: right;\n",
       "    }\n",
       "</style>\n",
       "<table border=\"1\" class=\"dataframe\">\n",
       "  <thead>\n",
       "    <tr style=\"text-align: right;\">\n",
       "      <th></th>\n",
       "      <th>UserName</th>\n",
       "      <th>ScreenName</th>\n",
       "      <th>Location</th>\n",
       "      <th>TweetAt</th>\n",
       "      <th>OriginalTweet</th>\n",
       "      <th>Sentiment</th>\n",
       "    </tr>\n",
       "  </thead>\n",
       "  <tbody>\n",
       "    <tr>\n",
       "      <th>0</th>\n",
       "      <td>3799</td>\n",
       "      <td>48751</td>\n",
       "      <td>London</td>\n",
       "      <td>16-03-2020</td>\n",
       "      <td>@MeNyrbie @Phil_Gahan @Chrisitv https://t.co/iFz9FAn2Pa and https://t.co/xX6ghGFzCC and https://...</td>\n",
       "      <td>Neutral</td>\n",
       "    </tr>\n",
       "    <tr>\n",
       "      <th>1</th>\n",
       "      <td>3800</td>\n",
       "      <td>48752</td>\n",
       "      <td>UK</td>\n",
       "      <td>16-03-2020</td>\n",
       "      <td>advice Talk to your neighbours family to exchange phone numbers create contact list with phone n...</td>\n",
       "      <td>Positive</td>\n",
       "    </tr>\n",
       "    <tr>\n",
       "      <th>2</th>\n",
       "      <td>3801</td>\n",
       "      <td>48753</td>\n",
       "      <td>Vagabonds</td>\n",
       "      <td>16-03-2020</td>\n",
       "      <td>Coronavirus Australia: Woolworths to give elderly, disabled dedicated shopping hours amid COVID-...</td>\n",
       "      <td>Positive</td>\n",
       "    </tr>\n",
       "    <tr>\n",
       "      <th>3</th>\n",
       "      <td>3802</td>\n",
       "      <td>48754</td>\n",
       "      <td>NaN</td>\n",
       "      <td>16-03-2020</td>\n",
       "      <td>My food stock is not the only one which is empty...\\r\\r\\n\\r\\r\\nPLEASE, don't panic, THERE WILL B...</td>\n",
       "      <td>Positive</td>\n",
       "    </tr>\n",
       "    <tr>\n",
       "      <th>4</th>\n",
       "      <td>3803</td>\n",
       "      <td>48755</td>\n",
       "      <td>NaN</td>\n",
       "      <td>16-03-2020</td>\n",
       "      <td>Me, ready to go at supermarket during the #COVID19 outbreak.\\r\\r\\n\\r\\r\\nNot because I'm paranoid...</td>\n",
       "      <td>Extremely Negative</td>\n",
       "    </tr>\n",
       "  </tbody>\n",
       "</table>\n",
       "</div>"
      ],
      "text/plain": [
       "   UserName  ScreenName   Location     TweetAt  \\\n",
       "0      3799       48751     London  16-03-2020   \n",
       "1      3800       48752         UK  16-03-2020   \n",
       "2      3801       48753  Vagabonds  16-03-2020   \n",
       "3      3802       48754        NaN  16-03-2020   \n",
       "4      3803       48755        NaN  16-03-2020   \n",
       "\n",
       "                                                                                         OriginalTweet  \\\n",
       "0  @MeNyrbie @Phil_Gahan @Chrisitv https://t.co/iFz9FAn2Pa and https://t.co/xX6ghGFzCC and https://...   \n",
       "1  advice Talk to your neighbours family to exchange phone numbers create contact list with phone n...   \n",
       "2  Coronavirus Australia: Woolworths to give elderly, disabled dedicated shopping hours amid COVID-...   \n",
       "3  My food stock is not the only one which is empty...\\r\\r\\n\\r\\r\\nPLEASE, don't panic, THERE WILL B...   \n",
       "4  Me, ready to go at supermarket during the #COVID19 outbreak.\\r\\r\\n\\r\\r\\nNot because I'm paranoid...   \n",
       "\n",
       "            Sentiment  \n",
       "0             Neutral  \n",
       "1            Positive  \n",
       "2            Positive  \n",
       "3            Positive  \n",
       "4  Extremely Negative  "
      ]
     },
     "execution_count": 3,
     "metadata": {},
     "output_type": "execute_result"
    }
   ],
   "source": [
    "train_df.head()"
   ]
  },
  {
   "cell_type": "code",
   "execution_count": 4,
   "metadata": {},
   "outputs": [
    {
     "name": "stdout",
     "output_type": "stream",
     "text": [
      "<class 'pandas.core.frame.DataFrame'>\n",
      "RangeIndex: 41157 entries, 0 to 41156\n",
      "Data columns (total 6 columns):\n",
      " #   Column         Non-Null Count  Dtype \n",
      "---  ------         --------------  ----- \n",
      " 0   UserName       41157 non-null  int64 \n",
      " 1   ScreenName     41157 non-null  int64 \n",
      " 2   Location       32567 non-null  object\n",
      " 3   TweetAt        41157 non-null  object\n",
      " 4   OriginalTweet  41157 non-null  object\n",
      " 5   Sentiment      41157 non-null  object\n",
      "dtypes: int64(2), object(4)\n",
      "memory usage: 1.9+ MB\n"
     ]
    }
   ],
   "source": [
    "train_df.info()"
   ]
  },
  {
   "cell_type": "code",
   "execution_count": 5,
   "metadata": {},
   "outputs": [
    {
     "data": {
      "text/html": [
       "<div>\n",
       "<style scoped>\n",
       "    .dataframe tbody tr th:only-of-type {\n",
       "        vertical-align: middle;\n",
       "    }\n",
       "\n",
       "    .dataframe tbody tr th {\n",
       "        vertical-align: top;\n",
       "    }\n",
       "\n",
       "    .dataframe thead th {\n",
       "        text-align: right;\n",
       "    }\n",
       "</style>\n",
       "<table border=\"1\" class=\"dataframe\">\n",
       "  <thead>\n",
       "    <tr style=\"text-align: right;\">\n",
       "      <th></th>\n",
       "      <th>UserName</th>\n",
       "      <th>ScreenName</th>\n",
       "      <th>Location</th>\n",
       "      <th>TweetAt</th>\n",
       "      <th>OriginalTweet</th>\n",
       "      <th>Sentiment</th>\n",
       "    </tr>\n",
       "  </thead>\n",
       "  <tbody>\n",
       "    <tr>\n",
       "      <th>0</th>\n",
       "      <td>1</td>\n",
       "      <td>44953</td>\n",
       "      <td>NYC</td>\n",
       "      <td>02-03-2020</td>\n",
       "      <td>TRENDING: New Yorkers encounter empty supermarket shelves (pictured, Wegmans in Brooklyn), sold-...</td>\n",
       "      <td>Extremely Negative</td>\n",
       "    </tr>\n",
       "    <tr>\n",
       "      <th>1</th>\n",
       "      <td>2</td>\n",
       "      <td>44954</td>\n",
       "      <td>Seattle, WA</td>\n",
       "      <td>02-03-2020</td>\n",
       "      <td>When I couldn't find hand sanitizer at Fred Meyer, I turned to #Amazon. But $114.97 for a 2 pack...</td>\n",
       "      <td>Positive</td>\n",
       "    </tr>\n",
       "    <tr>\n",
       "      <th>2</th>\n",
       "      <td>3</td>\n",
       "      <td>44955</td>\n",
       "      <td>NaN</td>\n",
       "      <td>02-03-2020</td>\n",
       "      <td>Find out how you can protect yourself and loved ones from #coronavirus. ?</td>\n",
       "      <td>Extremely Positive</td>\n",
       "    </tr>\n",
       "    <tr>\n",
       "      <th>3</th>\n",
       "      <td>4</td>\n",
       "      <td>44956</td>\n",
       "      <td>Chicagoland</td>\n",
       "      <td>02-03-2020</td>\n",
       "      <td>#Panic buying hits #NewYork City as anxious shoppers stock up on food&amp;amp;medical supplies after...</td>\n",
       "      <td>Negative</td>\n",
       "    </tr>\n",
       "    <tr>\n",
       "      <th>4</th>\n",
       "      <td>5</td>\n",
       "      <td>44957</td>\n",
       "      <td>Melbourne, Victoria</td>\n",
       "      <td>03-03-2020</td>\n",
       "      <td>#toiletpaper #dunnypaper #coronavirus #coronavirusaustralia #CoronaVirusUpdate #Covid_19 #9News ...</td>\n",
       "      <td>Neutral</td>\n",
       "    </tr>\n",
       "  </tbody>\n",
       "</table>\n",
       "</div>"
      ],
      "text/plain": [
       "   UserName  ScreenName             Location     TweetAt  \\\n",
       "0         1       44953                  NYC  02-03-2020   \n",
       "1         2       44954          Seattle, WA  02-03-2020   \n",
       "2         3       44955                  NaN  02-03-2020   \n",
       "3         4       44956          Chicagoland  02-03-2020   \n",
       "4         5       44957  Melbourne, Victoria  03-03-2020   \n",
       "\n",
       "                                                                                         OriginalTweet  \\\n",
       "0  TRENDING: New Yorkers encounter empty supermarket shelves (pictured, Wegmans in Brooklyn), sold-...   \n",
       "1  When I couldn't find hand sanitizer at Fred Meyer, I turned to #Amazon. But $114.97 for a 2 pack...   \n",
       "2                            Find out how you can protect yourself and loved ones from #coronavirus. ?   \n",
       "3  #Panic buying hits #NewYork City as anxious shoppers stock up on food&amp;medical supplies after...   \n",
       "4  #toiletpaper #dunnypaper #coronavirus #coronavirusaustralia #CoronaVirusUpdate #Covid_19 #9News ...   \n",
       "\n",
       "            Sentiment  \n",
       "0  Extremely Negative  \n",
       "1            Positive  \n",
       "2  Extremely Positive  \n",
       "3            Negative  \n",
       "4             Neutral  "
      ]
     },
     "execution_count": 5,
     "metadata": {},
     "output_type": "execute_result"
    }
   ],
   "source": [
    "test_df.head()"
   ]
  },
  {
   "cell_type": "code",
   "execution_count": 6,
   "metadata": {},
   "outputs": [
    {
     "name": "stdout",
     "output_type": "stream",
     "text": [
      "<class 'pandas.core.frame.DataFrame'>\n",
      "RangeIndex: 3798 entries, 0 to 3797\n",
      "Data columns (total 6 columns):\n",
      " #   Column         Non-Null Count  Dtype \n",
      "---  ------         --------------  ----- \n",
      " 0   UserName       3798 non-null   int64 \n",
      " 1   ScreenName     3798 non-null   int64 \n",
      " 2   Location       2964 non-null   object\n",
      " 3   TweetAt        3798 non-null   object\n",
      " 4   OriginalTweet  3798 non-null   object\n",
      " 5   Sentiment      3798 non-null   object\n",
      "dtypes: int64(2), object(4)\n",
      "memory usage: 178.2+ KB\n"
     ]
    }
   ],
   "source": [
    "test_df.info()"
   ]
  },
  {
   "cell_type": "markdown",
   "metadata": {},
   "source": [
    "## 3. Basic cleaning"
   ]
  },
  {
   "cell_type": "markdown",
   "metadata": {},
   "source": [
    "Both UserName and ScreenName identify a user. We don't need both."
   ]
  },
  {
   "cell_type": "code",
   "execution_count": 7,
   "metadata": {},
   "outputs": [
    {
     "name": "stdout",
     "output_type": "stream",
     "text": [
      "True\n",
      "True\n"
     ]
    }
   ],
   "source": [
    "print(len(set(train_df.ScreenName)) == len(set(train_df.UserName)))\n",
    "print(len(set(test_df.ScreenName)) == len(set(test_df.UserName)))"
   ]
  },
  {
   "cell_type": "code",
   "execution_count": 8,
   "metadata": {},
   "outputs": [],
   "source": [
    "train_df.drop(columns=\"ScreenName\", inplace=True)\n",
    "test_df.drop(columns=\"ScreenName\", inplace=True)\n",
    "train_df.set_index(\"UserName\", inplace=True)\n",
    "test_df.set_index(\"UserName\", inplace=True)"
   ]
  },
  {
   "cell_type": "markdown",
   "metadata": {},
   "source": [
    "Location has some NULL cells, fill with \"N/A\""
   ]
  },
  {
   "cell_type": "code",
   "execution_count": 9,
   "metadata": {},
   "outputs": [],
   "source": [
    "train_df.Location.fillna(\"N/A\", inplace=True)\n",
    "test_df.Location.fillna(\"N/A\", inplace=True)"
   ]
  },
  {
   "cell_type": "code",
   "execution_count": 10,
   "metadata": {},
   "outputs": [
    {
     "name": "stdout",
     "output_type": "stream",
     "text": [
      "<class 'pandas.core.frame.DataFrame'>\n",
      "Int64Index: 41157 entries, 3799 to 44955\n",
      "Data columns (total 4 columns):\n",
      " #   Column         Non-Null Count  Dtype \n",
      "---  ------         --------------  ----- \n",
      " 0   Location       41157 non-null  object\n",
      " 1   TweetAt        41157 non-null  object\n",
      " 2   OriginalTweet  41157 non-null  object\n",
      " 3   Sentiment      41157 non-null  object\n",
      "dtypes: object(4)\n",
      "memory usage: 1.6+ MB\n"
     ]
    }
   ],
   "source": [
    "train_df.info()"
   ]
  },
  {
   "cell_type": "code",
   "execution_count": 11,
   "metadata": {},
   "outputs": [
    {
     "name": "stdout",
     "output_type": "stream",
     "text": [
      "<class 'pandas.core.frame.DataFrame'>\n",
      "Int64Index: 3798 entries, 1 to 3798\n",
      "Data columns (total 4 columns):\n",
      " #   Column         Non-Null Count  Dtype \n",
      "---  ------         --------------  ----- \n",
      " 0   Location       3798 non-null   object\n",
      " 1   TweetAt        3798 non-null   object\n",
      " 2   OriginalTweet  3798 non-null   object\n",
      " 3   Sentiment      3798 non-null   object\n",
      "dtypes: object(4)\n",
      "memory usage: 148.4+ KB\n"
     ]
    }
   ],
   "source": [
    "test_df.info()"
   ]
  },
  {
   "cell_type": "markdown",
   "metadata": {},
   "source": [
    "## 4. EDA\n",
    "## Encode Sentiment\n",
    "There are 5 types of sentiment, thus neural network will have 5 class in output layer."
   ]
  },
  {
   "cell_type": "code",
   "execution_count": 12,
   "metadata": {},
   "outputs": [
    {
     "data": {
      "text/plain": [
       "{'Extremely Negative', 'Extremely Positive', 'Negative', 'Neutral', 'Positive'}"
      ]
     },
     "execution_count": 12,
     "metadata": {},
     "output_type": "execute_result"
    }
   ],
   "source": [
    "set(train_df.Sentiment)"
   ]
  },
  {
   "cell_type": "code",
   "execution_count": 13,
   "metadata": {},
   "outputs": [
    {
     "data": {
      "text/plain": [
       "<AxesSubplot:>"
      ]
     },
     "execution_count": 13,
     "metadata": {},
     "output_type": "execute_result"
    },
    {
     "data": {
      "image/png": "[encoded data removed]",
      "text/plain": [
       "<Figure size 432x288 with 1 Axes>"
      ]
     },
     "metadata": {
      "needs_background": "light"
     },
     "output_type": "display_data"
    }
   ],
   "source": [
    "train_df.Sentiment.hist()"
   ]
  },
  {
   "cell_type": "markdown",
   "metadata": {},
   "source": [
    "## Alternative way to encode Sentiment\n",
    "After one round of training, one of the observations is that extreme tone isn't very obvious and easily confused with regular tone. Since model isn't sentitive enough to capture the intensity of sentiment, try combining extreme negative with negative and extreme positive with positive to eliminate \"noise\"."
   ]
  },
  {
   "cell_type": "code",
   "execution_count": 14,
   "metadata": {},
   "outputs": [],
   "source": [
    "def encode_sentiment(df):\n",
    "    encoder = {'Extremely Negative': 0,\n",
    "               'Negative': 0,\n",
    "               'Neutral': 1,\n",
    "               'Positive': 2, \n",
    "               'Extremely Positive': 2}\n",
    "    return df.Sentiment.map(encoder)"
   ]
  },
  {
   "cell_type": "code",
   "execution_count": 15,
   "metadata": {},
   "outputs": [],
   "source": [
    "train_df['Sentiment_encode'] = encode_sentiment(train_df)\n",
    "test_df['Sentiment_encode'] = encode_sentiment(test_df)"
   ]
  },
  {
   "cell_type": "code",
   "execution_count": 16,
   "metadata": {},
   "outputs": [
    {
     "data": {
      "text/plain": [
       "3"
      ]
     },
     "execution_count": 16,
     "metadata": {},
     "output_type": "execute_result"
    }
   ],
   "source": [
    "target_len = len(set(train_df.Sentiment_encode))\n",
    "target_len"
   ]
  },
  {
   "cell_type": "markdown",
   "metadata": {},
   "source": [
    "## Only keep tweet content\n",
    "After some experiment, location and date are not very corelated to sentiment. Mainly is by text content."
   ]
  },
  {
   "cell_type": "code",
   "execution_count": 17,
   "metadata": {},
   "outputs": [],
   "source": [
    "train_df = train_df[['OriginalTweet', 'Sentiment_encode']]\n",
    "test_df = test_df[['OriginalTweet', 'Sentiment_encode']]"
   ]
  },
  {
   "cell_type": "markdown",
   "metadata": {},
   "source": [
    "## Keep most mentioned accounts\n",
    "Discard accounts to eliminate noise but keep the most frequently mentioned accounts."
   ]
  },
  {
   "cell_type": "code",
   "execution_count": 18,
   "metadata": {},
   "outputs": [
    {
     "data": {
      "text/plain": [
       "['@realDonaldTrump',\n",
       " '@Tesco',\n",
       " '@sainsburys',\n",
       " '@BorisJohnson',\n",
       " '@narendramodi',\n",
       " '@amazon',\n",
       " '@asda',\n",
       " '@PMOIndia',\n",
       " '@Morrisons',\n",
       " '@piersmorgan']"
      ]
     },
     "execution_count": 18,
     "metadata": {},
     "output_type": "execute_result"
    }
   ],
   "source": [
    "# Keep most popular tagged accounts:\n",
    "top_tags = top_N_tags(train_df)\n",
    "top_tags"
   ]
  },
  {
   "cell_type": "markdown",
   "metadata": {},
   "source": [
    "## Keep most popular hashtags\n",
    "Discard hashtags to eliminate noise and keep only the most popular hashtags."
   ]
  },
  {
   "cell_type": "code",
   "execution_count": 19,
   "metadata": {},
   "outputs": [
    {
     "data": {
      "text/plain": [
       "['#toiletpaper',\n",
       " '#SocialDistancing',\n",
       " '#pandemic',\n",
       " '#StayHomeSaveLives',\n",
       " '#lockdown',\n",
       " '#StayAtHome',\n",
       " '#supermarket',\n",
       " '#StayHome',\n",
       " '#panicbuying',\n",
       " '#retail']"
      ]
     },
     "execution_count": 19,
     "metadata": {},
     "output_type": "execute_result"
    }
   ],
   "source": [
    "# Keep most popular hashtags:\n",
    "top_hashtags = top_N_hashtags(train_df)\n",
    "top_hashtags"
   ]
  },
  {
   "cell_type": "markdown",
   "metadata": {},
   "source": [
    "## Download and expand NLTK stop words\n",
    "Remove common words using stopwords in NLTK module."
   ]
  },
  {
   "cell_type": "code",
   "execution_count": 20,
   "metadata": {},
   "outputs": [],
   "source": [
    "stop_words = stopwords.words('english')\n",
    "stop_words += [c for c in string.ascii_lowercase]\n",
    "stop_words += [\"in\", \"on\", \"at\", \"via\", \"due\", \"could\", \"would\", \"may\", \"one\", \"still\", \n",
    "               \"even\", \"also\", \"every\", \"two\", \"etc\", \"per\"]\n",
    "\n",
    "ps = PorterStemmer()\n",
    "# wnl = WordNetLemmatizer()"
   ]
  },
  {
   "cell_type": "markdown",
   "metadata": {},
   "source": [
    "## 5. Clean text\n",
    "Define functions to clean text:\n",
    "1. Remove hyperlinks and addresses\n",
    "2. Remove @ mentions except most frequently tagged accounts\n",
    "3. Remove # hashtags except most popular hashtags\n",
    "4. Remove remaining special characters, numbers, and tab/carriage-return/line-feed.\n",
    "5. Remove subwords that has non alphabetical characters\n",
    "6. Remove stop words\n",
    "7. Stemming\n",
    "8. Lemmatization"
   ]
  },
  {
   "cell_type": "markdown",
   "metadata": {},
   "source": [
    "## Clean OriginalTweet\n",
    "Clean the tweet message and append location to front of the message."
   ]
  },
  {
   "cell_type": "code",
   "execution_count": 21,
   "metadata": {},
   "outputs": [],
   "source": [
    "def clean_text(text):\n",
    "    text = remove_link(text)\n",
    "    text = remove_tag(text, top_tags)\n",
    "    text = remove_hashtag(text, top_hashtags)\n",
    "    text = remove_special_char(text)\n",
    "    text = remove_non_english(text)\n",
    "    text = remove_stop_words(text, stop_words)\n",
    "    text = stemming(text, ps)\n",
    "#     text = lemmatization(text, wnl)\n",
    "    return text\n",
    "\n",
    "def clean_original_tweet(df):\n",
    "    clean_tweet = []\n",
    "    for tweet in df.index:\n",
    "        # clean message\n",
    "        msg = df.OriginalTweet.loc[tweet].lower()\n",
    "        clean_tweet.append(clean_text(msg))\n",
    "\n",
    "    df['CleanTweet'] = clean_tweet"
   ]
  },
  {
   "cell_type": "code",
   "execution_count": 22,
   "metadata": {},
   "outputs": [],
   "source": [
    "clean_original_tweet(train_df)\n",
    "clean_original_tweet(test_df)"
   ]
  },
  {
   "cell_type": "code",
   "execution_count": 23,
   "metadata": {},
   "outputs": [
    {
     "data": {
      "text/html": [
       "<div>\n",
       "<style scoped>\n",
       "    .dataframe tbody tr th:only-of-type {\n",
       "        vertical-align: middle;\n",
       "    }\n",
       "\n",
       "    .dataframe tbody tr th {\n",
       "        vertical-align: top;\n",
       "    }\n",
       "\n",
       "    .dataframe thead th {\n",
       "        text-align: right;\n",
       "    }\n",
       "</style>\n",
       "<table border=\"1\" class=\"dataframe\">\n",
       "  <thead>\n",
       "    <tr style=\"text-align: right;\">\n",
       "      <th></th>\n",
       "      <th>OriginalTweet</th>\n",
       "      <th>Sentiment_encode</th>\n",
       "      <th>CleanTweet</th>\n",
       "    </tr>\n",
       "    <tr>\n",
       "      <th>UserName</th>\n",
       "      <th></th>\n",
       "      <th></th>\n",
       "      <th></th>\n",
       "    </tr>\n",
       "  </thead>\n",
       "  <tbody>\n",
       "    <tr>\n",
       "      <th>3799</th>\n",
       "      <td>@MeNyrbie @Phil_Gahan @Chrisitv https://t.co/iFz9FAn2Pa and https://t.co/xX6ghGFzCC and https://...</td>\n",
       "      <td>1</td>\n",
       "      <td></td>\n",
       "    </tr>\n",
       "    <tr>\n",
       "      <th>3800</th>\n",
       "      <td>advice Talk to your neighbours family to exchange phone numbers create contact list with phone n...</td>\n",
       "      <td>2</td>\n",
       "      <td>advic talk neighbour famili exchang phone number creat contact list phone number neighbour schoo...</td>\n",
       "    </tr>\n",
       "    <tr>\n",
       "      <th>3801</th>\n",
       "      <td>Coronavirus Australia: Woolworths to give elderly, disabled dedicated shopping hours amid COVID-...</td>\n",
       "      <td>2</td>\n",
       "      <td>coronaviru australia woolworth give elderli disabl dedic shop hour amid covid outbreak</td>\n",
       "    </tr>\n",
       "    <tr>\n",
       "      <th>3802</th>\n",
       "      <td>My food stock is not the only one which is empty...\\r\\r\\n\\r\\r\\nPLEASE, don't panic, THERE WILL B...</td>\n",
       "      <td>2</td>\n",
       "      <td>food stock empti pleas panic enough food everyon take need stay calm stay safe</td>\n",
       "    </tr>\n",
       "    <tr>\n",
       "      <th>3803</th>\n",
       "      <td>Me, ready to go at supermarket during the #COVID19 outbreak.\\r\\r\\n\\r\\r\\nNot because I'm paranoid...</td>\n",
       "      <td>0</td>\n",
       "      <td>readi go supermarket outbreak paranoid food stock litterali empti seriou thing pleas panic caus ...</td>\n",
       "    </tr>\n",
       "  </tbody>\n",
       "</table>\n",
       "</div>"
      ],
      "text/plain": [
       "                                                                                                OriginalTweet  \\\n",
       "UserName                                                                                                        \n",
       "3799      @MeNyrbie @Phil_Gahan @Chrisitv https://t.co/iFz9FAn2Pa and https://t.co/xX6ghGFzCC and https://...   \n",
       "3800      advice Talk to your neighbours family to exchange phone numbers create contact list with phone n...   \n",
       "3801      Coronavirus Australia: Woolworths to give elderly, disabled dedicated shopping hours amid COVID-...   \n",
       "3802      My food stock is not the only one which is empty...\\r\\r\\n\\r\\r\\nPLEASE, don't panic, THERE WILL B...   \n",
       "3803      Me, ready to go at supermarket during the #COVID19 outbreak.\\r\\r\\n\\r\\r\\nNot because I'm paranoid...   \n",
       "\n",
       "          Sentiment_encode  \\\n",
       "UserName                     \n",
       "3799                     1   \n",
       "3800                     2   \n",
       "3801                     2   \n",
       "3802                     2   \n",
       "3803                     0   \n",
       "\n",
       "                                                                                                   CleanTweet  \n",
       "UserName                                                                                                       \n",
       "3799                                                                                                           \n",
       "3800      advic talk neighbour famili exchang phone number creat contact list phone number neighbour schoo...  \n",
       "3801                   coronaviru australia woolworth give elderli disabl dedic shop hour amid covid outbreak  \n",
       "3802                           food stock empti pleas panic enough food everyon take need stay calm stay safe  \n",
       "3803      readi go supermarket outbreak paranoid food stock litterali empti seriou thing pleas panic caus ...  "
      ]
     },
     "execution_count": 23,
     "metadata": {},
     "output_type": "execute_result"
    }
   ],
   "source": [
    "train_df.head()"
   ]
  },
  {
   "cell_type": "code",
   "execution_count": 24,
   "metadata": {},
   "outputs": [
    {
     "data": {
      "text/html": [
       "<div>\n",
       "<style scoped>\n",
       "    .dataframe tbody tr th:only-of-type {\n",
       "        vertical-align: middle;\n",
       "    }\n",
       "\n",
       "    .dataframe tbody tr th {\n",
       "        vertical-align: top;\n",
       "    }\n",
       "\n",
       "    .dataframe thead th {\n",
       "        text-align: right;\n",
       "    }\n",
       "</style>\n",
       "<table border=\"1\" class=\"dataframe\">\n",
       "  <thead>\n",
       "    <tr style=\"text-align: right;\">\n",
       "      <th></th>\n",
       "      <th>OriginalTweet</th>\n",
       "      <th>Sentiment_encode</th>\n",
       "      <th>CleanTweet</th>\n",
       "    </tr>\n",
       "    <tr>\n",
       "      <th>UserName</th>\n",
       "      <th></th>\n",
       "      <th></th>\n",
       "      <th></th>\n",
       "    </tr>\n",
       "  </thead>\n",
       "  <tbody>\n",
       "    <tr>\n",
       "      <th>1</th>\n",
       "      <td>TRENDING: New Yorkers encounter empty supermarket shelves (pictured, Wegmans in Brooklyn), sold-...</td>\n",
       "      <td>0</td>\n",
       "      <td>trend new yorker encount empti supermarket shelv pictur wegman brooklyn sold onlin grocer foodki...</td>\n",
       "    </tr>\n",
       "    <tr>\n",
       "      <th>2</th>\n",
       "      <td>When I couldn't find hand sanitizer at Fred Meyer, I turned to #Amazon. But $114.97 for a 2 pack...</td>\n",
       "      <td>2</td>\n",
       "      <td>find hand sanit fred meyer turn pack purel check concern drive price</td>\n",
       "    </tr>\n",
       "    <tr>\n",
       "      <th>3</th>\n",
       "      <td>Find out how you can protect yourself and loved ones from #coronavirus. ?</td>\n",
       "      <td>2</td>\n",
       "      <td>find protect love one</td>\n",
       "    </tr>\n",
       "    <tr>\n",
       "      <th>4</th>\n",
       "      <td>#Panic buying hits #NewYork City as anxious shoppers stock up on food&amp;amp;medical supplies after...</td>\n",
       "      <td>0</td>\n",
       "      <td>buy hit citi anxiou shopper stock food amp medic suppli worker becom st confirm patient stage event</td>\n",
       "    </tr>\n",
       "    <tr>\n",
       "      <th>5</th>\n",
       "      <td>#toiletpaper #dunnypaper #coronavirus #coronavirusaustralia #CoronaVirusUpdate #Covid_19 #9News ...</td>\n",
       "      <td>1</td>\n",
       "      <td>toiletpap week everyon buy babi milk powder next everyon buy toilet paper</td>\n",
       "    </tr>\n",
       "  </tbody>\n",
       "</table>\n",
       "</div>"
      ],
      "text/plain": [
       "                                                                                                OriginalTweet  \\\n",
       "UserName                                                                                                        \n",
       "1         TRENDING: New Yorkers encounter empty supermarket shelves (pictured, Wegmans in Brooklyn), sold-...   \n",
       "2         When I couldn't find hand sanitizer at Fred Meyer, I turned to #Amazon. But $114.97 for a 2 pack...   \n",
       "3                                   Find out how you can protect yourself and loved ones from #coronavirus. ?   \n",
       "4         #Panic buying hits #NewYork City as anxious shoppers stock up on food&amp;medical supplies after...   \n",
       "5         #toiletpaper #dunnypaper #coronavirus #coronavirusaustralia #CoronaVirusUpdate #Covid_19 #9News ...   \n",
       "\n",
       "          Sentiment_encode  \\\n",
       "UserName                     \n",
       "1                        0   \n",
       "2                        2   \n",
       "3                        2   \n",
       "4                        0   \n",
       "5                        1   \n",
       "\n",
       "                                                                                                   CleanTweet  \n",
       "UserName                                                                                                       \n",
       "1         trend new yorker encount empti supermarket shelv pictur wegman brooklyn sold onlin grocer foodki...  \n",
       "2                                        find hand sanit fred meyer turn pack purel check concern drive price  \n",
       "3                                                                                       find protect love one  \n",
       "4         buy hit citi anxiou shopper stock food amp medic suppli worker becom st confirm patient stage event  \n",
       "5                                   toiletpap week everyon buy babi milk powder next everyon buy toilet paper  "
      ]
     },
     "execution_count": 24,
     "metadata": {},
     "output_type": "execute_result"
    }
   ],
   "source": [
    "test_df.head()"
   ]
  },
  {
   "cell_type": "markdown",
   "metadata": {},
   "source": [
    "## Average tweet length\n",
    "25-30 characters include most of the context in most tweets."
   ]
  },
  {
   "cell_type": "code",
   "execution_count": 25,
   "metadata": {},
   "outputs": [
    {
     "data": {
      "image/png": "[encoded data removed]",
      "text/plain": [
       "<Figure size 432x288 with 1 Axes>"
      ]
     },
     "metadata": {
      "needs_background": "light"
     },
     "output_type": "display_data"
    },
    {
     "data": {
      "image/png": "[encoded data removed]",
      "text/plain": [
       "<Figure size 432x288 with 1 Axes>"
      ]
     },
     "metadata": {
      "needs_background": "light"
     },
     "output_type": "display_data"
    }
   ],
   "source": [
    "plot_tweet_len(train_df)\n",
    "plot_tweet_len(test_df)"
   ]
  },
  {
   "cell_type": "markdown",
   "metadata": {},
   "source": [
    "## Tokenize text"
   ]
  },
  {
   "cell_type": "code",
   "execution_count": 26,
   "metadata": {},
   "outputs": [
    {
     "name": "stdout",
     "output_type": "stream",
     "text": [
      "Vocab size: 22595\n"
     ]
    }
   ],
   "source": [
    "tokenizer = fit_tokenizer(train_df, num_words=10000)\n",
    "vocab_size = len(tokenizer.word_index)\n",
    "print(\"Vocab size:\", vocab_size)\n",
    "max_len = 25\n",
    "\n",
    "train_corpus = tokenize_text(tokenizer, train_df, max_len)\n",
    "test_corpus = tokenize_text(tokenizer, test_df, max_len)"
   ]
  },
  {
   "cell_type": "markdown",
   "metadata": {},
   "source": [
    "## Most frequent words/tokens"
   ]
  },
  {
   "cell_type": "code",
   "execution_count": 27,
   "metadata": {
    "scrolled": false
   },
   "outputs": [
    {
     "data": {
      "text/html": [
       "<div>\n",
       "<style scoped>\n",
       "    .dataframe tbody tr th:only-of-type {\n",
       "        vertical-align: middle;\n",
       "    }\n",
       "\n",
       "    .dataframe tbody tr th {\n",
       "        vertical-align: top;\n",
       "    }\n",
       "\n",
       "    .dataframe thead th {\n",
       "        text-align: right;\n",
       "    }\n",
       "</style>\n",
       "<table border=\"1\" class=\"dataframe\">\n",
       "  <thead>\n",
       "    <tr style=\"text-align: right;\">\n",
       "      <th></th>\n",
       "      <th>0</th>\n",
       "    </tr>\n",
       "  </thead>\n",
       "  <tbody>\n",
       "    <tr>\n",
       "      <th>covid</th>\n",
       "      <td>10661</td>\n",
       "    </tr>\n",
       "    <tr>\n",
       "      <th>price</th>\n",
       "      <td>8998</td>\n",
       "    </tr>\n",
       "    <tr>\n",
       "      <th>store</th>\n",
       "      <td>8234</td>\n",
       "    </tr>\n",
       "    <tr>\n",
       "      <th>supermarket</th>\n",
       "      <td>7828</td>\n",
       "    </tr>\n",
       "    <tr>\n",
       "      <th>food</th>\n",
       "      <td>7033</td>\n",
       "    </tr>\n",
       "    <tr>\n",
       "      <th>groceri</th>\n",
       "      <td>6531</td>\n",
       "    </tr>\n",
       "    <tr>\n",
       "      <th>peopl</th>\n",
       "      <td>5574</td>\n",
       "    </tr>\n",
       "    <tr>\n",
       "      <th>amp</th>\n",
       "      <td>5187</td>\n",
       "    </tr>\n",
       "    <tr>\n",
       "      <th>consum</th>\n",
       "      <td>5074</td>\n",
       "    </tr>\n",
       "    <tr>\n",
       "      <th>shop</th>\n",
       "      <td>4886</td>\n",
       "    </tr>\n",
       "    <tr>\n",
       "      <th>go</th>\n",
       "      <td>4236</td>\n",
       "    </tr>\n",
       "    <tr>\n",
       "      <th>get</th>\n",
       "      <td>3704</td>\n",
       "    </tr>\n",
       "    <tr>\n",
       "      <th>need</th>\n",
       "      <td>3562</td>\n",
       "    </tr>\n",
       "    <tr>\n",
       "      <th>onlin</th>\n",
       "      <td>3360</td>\n",
       "    </tr>\n",
       "    <tr>\n",
       "      <th>pandem</th>\n",
       "      <td>3234</td>\n",
       "    </tr>\n",
       "  </tbody>\n",
       "</table>\n",
       "</div>"
      ],
      "text/plain": [
       "                 0\n",
       "covid        10661\n",
       "price         8998\n",
       "store         8234\n",
       "supermarket   7828\n",
       "food          7033\n",
       "groceri       6531\n",
       "peopl         5574\n",
       "amp           5187\n",
       "consum        5074\n",
       "shop          4886\n",
       "go            4236\n",
       "get           3704\n",
       "need          3562\n",
       "onlin         3360\n",
       "pandem        3234"
      ]
     },
     "execution_count": 27,
     "metadata": {},
     "output_type": "execute_result"
    }
   ],
   "source": [
    "tokens = pd.DataFrame(dict(tokenizer.word_counts).values(), index=dict(tokenizer.word_counts).keys())\n",
    "\n",
    "# most used N words\n",
    "N = 15\n",
    "tokens.sort_values(by=0, ascending=False).iloc[:N]"
   ]
  },
  {
   "cell_type": "markdown",
   "metadata": {},
   "source": [
    "## 6. Modeling\n",
    "### Conv1D"
   ]
  },
  {
   "cell_type": "code",
   "execution_count": 28,
   "metadata": {},
   "outputs": [],
   "source": [
    "earlystopping = tf.keras.callbacks.EarlyStopping(monitor='val_accuracy', restore_best_weights=True, verbose=2)\n",
    "epoch = 100"
   ]
  },
  {
   "cell_type": "code",
   "execution_count": 29,
   "metadata": {},
   "outputs": [
    {
     "name": "stdout",
     "output_type": "stream",
     "text": [
      "Epoch 1/100\n",
      "901/901 [==============================] - 11s 11ms/step - loss: 0.8410 - accuracy: 0.5981 - val_loss: 0.4826 - val_accuracy: 0.8253\n",
      "Epoch 2/100\n",
      "901/901 [==============================] - 8s 9ms/step - loss: 0.4040 - accuracy: 0.8604 - val_loss: 0.4571 - val_accuracy: 0.8320\n",
      "Epoch 3/100\n",
      "901/901 [==============================] - 8s 9ms/step - loss: 0.3244 - accuracy: 0.8925 - val_loss: 0.4881 - val_accuracy: 0.8247\n",
      "Restoring model weights from the end of the best epoch.\n",
      "Epoch 00003: early stopping\n"
     ]
    }
   ],
   "source": [
    "embd_dim = 32\n",
    "batch = 32\n",
    "conv1d_model_name = \"Conv1D_model_alter.h5\"\n",
    "\n",
    "model = tf.keras.models.Sequential([\n",
    "    tf.keras.layers.Embedding(vocab_size+1, embd_dim, input_length=max_len),\n",
    "    tf.keras.layers.Conv1D(embd_dim*4, 3, activation=tf.nn.relu),\n",
    "    tf.keras.layers.GlobalAveragePooling1D(),\n",
    "    tf.keras.layers.Dense(128, activation=tf.nn.relu),\n",
    "    tf.keras.layers.Dense(target_len, activation=tf.nn.sigmoid)\n",
    "])\n",
    "\n",
    "model.compile(optimizer='adam', loss=tf.losses.sparse_categorical_crossentropy, metrics=['accuracy'])\n",
    "model.fit(train_corpus, train_df['Sentiment_encode'], validation_split=0.3,\n",
    "          epochs=epoch, batch_size=batch, callbacks=[earlystopping])\n",
    "model.save(conv1d_model_name)"
   ]
  },
  {
   "cell_type": "markdown",
   "metadata": {},
   "source": [
    "### Bidirectional LSTM"
   ]
  },
  {
   "cell_type": "code",
   "execution_count": 30,
   "metadata": {},
   "outputs": [
    {
     "name": "stdout",
     "output_type": "stream",
     "text": [
      "Epoch 1/100\n",
      "901/901 [==============================] - 16s 15ms/step - loss: 0.9545 - accuracy: 0.4771 - val_loss: 0.8116 - val_accuracy: 0.5867\n",
      "Epoch 2/100\n",
      "901/901 [==============================] - 13s 15ms/step - loss: 0.7629 - accuracy: 0.5819 - val_loss: 0.6567 - val_accuracy: 0.7295\n",
      "Epoch 3/100\n",
      "901/901 [==============================] - 13s 15ms/step - loss: 0.5434 - accuracy: 0.7895 - val_loss: 0.5035 - val_accuracy: 0.8145\n",
      "Epoch 4/100\n",
      "901/901 [==============================] - 13s 15ms/step - loss: 0.3778 - accuracy: 0.8743 - val_loss: 0.5041 - val_accuracy: 0.8175\n",
      "Epoch 5/100\n",
      "901/901 [==============================] - 13s 15ms/step - loss: 0.3110 - accuracy: 0.8992 - val_loss: 0.5156 - val_accuracy: 0.8216\n",
      "Epoch 6/100\n",
      "901/901 [==============================] - 13s 15ms/step - loss: 0.2650 - accuracy: 0.9155 - val_loss: 0.5695 - val_accuracy: 0.8104\n",
      "Restoring model weights from the end of the best epoch.\n",
      "Epoch 00006: early stopping\n"
     ]
    }
   ],
   "source": [
    "embd_dim = 32\n",
    "batch = 32\n",
    "lstm_model_name = \"BiDirLSTM_model_alter.h5\"\n",
    "\n",
    "model = tf.keras.models.Sequential([\n",
    "    tf.keras.layers.Embedding(vocab_size+1, embd_dim, input_length=max_len),\n",
    "    tf.keras.layers.LSTM(embd_dim*2),\n",
    "    tf.keras.layers.Dropout(0.2),\n",
    "    tf.keras.layers.Dense(128, activation=tf.nn.relu),\n",
    "    tf.keras.layers.Dense(target_len, activation=tf.nn.sigmoid)\n",
    "])\n",
    "\n",
    "model.compile(optimizer='adam', loss=tf.losses.sparse_categorical_crossentropy, metrics=['accuracy'])\n",
    "model.fit(train_corpus, train_df['Sentiment_encode'], \n",
    "          epochs=epoch, batch_size=batch, \n",
    "          validation_split=0.3,\n",
    "          callbacks=[earlystopping])\n",
    "model.save(lstm_model_name)"
   ]
  },
  {
   "cell_type": "markdown",
   "metadata": {},
   "source": [
    "### Bidirectional GRU"
   ]
  },
  {
   "cell_type": "code",
   "execution_count": 31,
   "metadata": {},
   "outputs": [
    {
     "name": "stdout",
     "output_type": "stream",
     "text": [
      "Epoch 1/100\n",
      "901/901 [==============================] - 20s 18ms/step - loss: 0.9024 - accuracy: 0.5195 - val_loss: 0.4876 - val_accuracy: 0.8195\n",
      "Epoch 2/100\n",
      "901/901 [==============================] - 16s 17ms/step - loss: 0.4174 - accuracy: 0.8534 - val_loss: 0.4780 - val_accuracy: 0.8306\n",
      "Epoch 3/100\n",
      "901/901 [==============================] - 16s 18ms/step - loss: 0.3322 - accuracy: 0.8881 - val_loss: 0.4991 - val_accuracy: 0.8322\n",
      "Epoch 4/100\n",
      "901/901 [==============================] - 16s 17ms/step - loss: 0.2918 - accuracy: 0.9056 - val_loss: 0.5332 - val_accuracy: 0.8250\n",
      "Restoring model weights from the end of the best epoch.\n",
      "Epoch 00004: early stopping\n"
     ]
    }
   ],
   "source": [
    "embd_dim = 32\n",
    "batch = 32\n",
    "gru_model_name = 'BiDirGRU_model_alter.h5'\n",
    "\n",
    "model = tf.keras.models.Sequential([\n",
    "    tf.keras.layers.Embedding(vocab_size+1, embd_dim, input_length=max_len),\n",
    "    tf.keras.layers.Bidirectional(tf.keras.layers.GRU(embd_dim*2)),\n",
    "    tf.keras.layers.Dropout(0.2),\n",
    "    tf.keras.layers.Dense(128, activation=tf.nn.relu),\n",
    "    tf.keras.layers.Dense(target_len, activation=tf.nn.sigmoid)\n",
    "])\n",
    "\n",
    "model.compile(optimizer='adam', loss=tf.losses.sparse_categorical_crossentropy, metrics=['accuracy'])\n",
    "model.fit(train_corpus, train_df['Sentiment_encode'], \n",
    "          epochs=epoch, batch_size=batch, \n",
    "          validation_split=0.3,\n",
    "          callbacks=[earlystopping])\n",
    "model.save(gru_model_name)"
   ]
  },
  {
   "cell_type": "markdown",
   "metadata": {},
   "source": [
    "## 7. Evaluate model"
   ]
  },
  {
   "cell_type": "code",
   "execution_count": 32,
   "metadata": {},
   "outputs": [
    {
     "name": "stdout",
     "output_type": "stream",
     "text": [
      "119/119 - 0s - loss: 0.5626 - accuracy: 0.8154\n",
      "[[1356   72  205]\n",
      " [  89  451   79]\n",
      " [ 203   53 1290]]\n",
      "              precision    recall  f1-score   support\n",
      "\n",
      "           0      0.823     0.830     0.827      1633\n",
      "           1      0.783     0.729     0.755       619\n",
      "           2      0.820     0.834     0.827      1546\n",
      "\n",
      "    accuracy                          0.815      3798\n",
      "   macro avg      0.808     0.798     0.803      3798\n",
      "weighted avg      0.815     0.815     0.815      3798\n",
      "\n"
     ]
    }
   ],
   "source": [
    "model = tf.keras.models.load_model(conv1d_model_name)\n",
    "evaluate(model, test_corpus, test_df.Sentiment_encode)"
   ]
  },
  {
   "cell_type": "code",
   "execution_count": 33,
   "metadata": {},
   "outputs": [
    {
     "name": "stdout",
     "output_type": "stream",
     "text": [
      "119/119 - 1s - loss: 0.8129 - accuracy: 0.8167\n",
      "[[1334   68  231]\n",
      " [  83  459   77]\n",
      " [ 177   60 1309]]\n",
      "              precision    recall  f1-score   support\n",
      "\n",
      "           0      0.837     0.817     0.827      1633\n",
      "           1      0.782     0.742     0.761       619\n",
      "           2      0.810     0.847     0.828      1546\n",
      "\n",
      "    accuracy                          0.817      3798\n",
      "   macro avg      0.809     0.802     0.805      3798\n",
      "weighted avg      0.817     0.817     0.816      3798\n",
      "\n"
     ]
    }
   ],
   "source": [
    "model = tf.keras.models.load_model(lstm_model_name)\n",
    "evaluate(model, test_corpus, test_df.Sentiment_encode)"
   ]
  },
  {
   "cell_type": "code",
   "execution_count": 34,
   "metadata": {},
   "outputs": [
    {
     "name": "stdout",
     "output_type": "stream",
     "text": [
      "119/119 - 1s - loss: 0.8380 - accuracy: 0.8157\n",
      "[[1360   83  190]\n",
      " [  82  479   58]\n",
      " [ 225   62 1259]]\n",
      "              precision    recall  f1-score   support\n",
      "\n",
      "           0      0.816     0.833     0.824      1633\n",
      "           1      0.768     0.774     0.771       619\n",
      "           2      0.835     0.814     0.825      1546\n",
      "\n",
      "    accuracy                          0.816      3798\n",
      "   macro avg      0.806     0.807     0.807      3798\n",
      "weighted avg      0.816     0.816     0.816      3798\n",
      "\n"
     ]
    }
   ],
   "source": [
    "model = tf.keras.models.load_model(gru_model_name)\n",
    "evaluate(model, test_corpus, test_df.Sentiment_encode)"
   ]
  },
  {
   "cell_type": "code",
   "execution_count": null,
   "metadata": {},
   "outputs": [],
   "source": []
  },
  {
   "cell_type": "code",
   "execution_count": null,
   "metadata": {},
   "outputs": [],
   "source": []
  },
  {
   "cell_type": "code",
   "execution_count": null,
   "metadata": {},
   "outputs": [],
   "source": []
  }
 ],
 "metadata": {
  "kernelspec": {
   "display_name": "Python 3",
   "language": "python",
   "name": "python3"
  },
  "language_info": {
   "codemirror_mode": {
    "name": "ipython",
    "version": 3
   },
   "file_extension": ".py",
   "mimetype": "text/x-python",
   "name": "python",
   "nbconvert_exporter": "python",
   "pygments_lexer": "ipython3",
   "version": "3.8.5"
  }
 },
 "nbformat": 4,
 "nbformat_minor": 4
}
